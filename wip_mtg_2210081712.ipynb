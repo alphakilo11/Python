{
  "nbformat": 4,
  "nbformat_minor": 0,
  "metadata": {
    "colab": {
      "provenance": [],
      "collapsed_sections": [],
      "mount_file_id": "https://github.com/alphakilo11/Python/blob/main/wip_mtg_2210071701.ipynb",
      "authorship_tag": "ABX9TyMfIqAnx4HUlsGRs3XcqkhQ",
      "include_colab_link": true
    },
    "kernelspec": {
      "name": "python3",
      "display_name": "Python 3"
    },
    "language_info": {
      "name": "python"
    }
  },
  "cells": [
    {
      "cell_type": "markdown",
      "metadata": {
        "id": "view-in-github",
        "colab_type": "text"
      },
      "source": [
        "<a href=\"https://colab.research.google.com/github/alphakilo11/Python/blob/main/wip_mtg_2210081712.ipynb\" target=\"_parent\"><img src=\"https://colab.research.google.com/assets/colab-badge.svg\" alt=\"Open In Colab\"/></a>"
      ]
    },
    {
      "cell_type": "code",
      "metadata": {
        "id": "k_5Deu5gVr0v",
        "colab": {
          "base_uri": "https://localhost:8080/"
        },
        "outputId": "ea182b5c-e016-452d-c49c-1b42c697f068"
      },
      "source": [
        "# https://github.com/MagicTheGathering/mtg-sdk-python\n",
        "!pip install mtgsdk\n",
        "from mtgsdk import Card\n",
        "from mtgsdk import Set"
      ],
      "execution_count": 72,
      "outputs": [
        {
          "output_type": "stream",
          "name": "stdout",
          "text": [
            "Looking in indexes: https://pypi.org/simple, https://us-python.pkg.dev/colab-wheels/public/simple/\n",
            "Requirement already satisfied: mtgsdk in /usr/local/lib/python3.7/dist-packages (1.3.1)\n"
          ]
        }
      ]
    },
    {
      "cell_type": "code",
      "source": [
        "def cardnames(cards):\n",
        "  \"\"\"print list of card names\"\"\"\n",
        "  return list(i.name for i in cards)\n",
        "\n",
        "def create_decklist(list_of_cards, setname, number_of_each_card):\n",
        "  \"\"\" creates a decklist in Forge format (*.dck)\"\"\"\n",
        "  decklist = '[metadata]\\nName=' + setname +'\\n[Main]\\n'\n",
        "  for card in list_of_cards:\n",
        "    decklist += str(number_of_each_card) + ' ' + card.name + '|' + setname + '\\n'\n",
        "  return decklist\n",
        "\n",
        "def count_type(list_of_cards, cardtype):\n",
        "  count = 0\n",
        "  relevant_chars = len(cardtype)\n",
        "  for card in list_of_cards:\n",
        "    if cardtype in card.type:\n",
        "      count += 1\n",
        "  return count\n",
        "\n",
        "def average_cmc(list_of_cards):\n",
        "  sum = 0\n",
        "  count = 0\n",
        "  for card in list_of_cards:\n",
        "    if 'Land' not in card.type:\n",
        "      sum += card.cmc\n",
        "      count += 1\n",
        "  return sum / count\n",
        "\n",
        "def required_lands(list_of_cards):\n",
        "  \"\"\"determine required number of lands according to https://strategy.channelfireball.com/all-strategy/home/how-many-lands-do-you-need-in-your-deck-an-updated-analysis/\n",
        "  aforementioned formula is not really useful for creating variable size decks,  as I don't know how many cards a deck will eventually have\"\"\"\n",
        "  #return len(list_of_cards) / 60 * (19.59 + 1.9 * average_cmc(list_of_cards))\n",
        "  return (19.59 + 1.9 * average_cmc(list_of_cards))"
      ],
      "metadata": {
        "id": "tLx9iGYe2VQs"
      },
      "execution_count": 73,
      "outputs": []
    },
    {
      "cell_type": "code",
      "source": [
        "#example\n",
        "cards = Card.where(name='\"Hex\"').where(pageSize=1).all()\n",
        "print(cardnames(cards)) # print list of card names\n",
        "\n",
        "from pprint import pprint\n",
        "pprint(vars(cards[0])) # print all properties of the first card"
      ],
      "metadata": {
        "id": "7msjaA7cvhrY"
      },
      "execution_count": null,
      "outputs": []
    },
    {
      "cell_type": "code",
      "source": [
        "#FIX currently the random decks contain an uneven number of cards\n",
        "#ENHANCE the program should determine the average CMC of each deck and adjust the number of lands accordingly https://strategy.channelfireball.com/all-strategy/home/how-many-lands-do-you-need-in-your-deck-an-updated-analysis/\n",
        "#ENHANCE seperate the lands from a set and add them later together with the other lands\n",
        "import random\n",
        "from timeit import default_timer as timer\n",
        "\n",
        "start_time = timer()\n",
        "setname ='GTC'\n",
        "decksize = 36 # without additional lands\n",
        "#cards = Card.where(set=setname).all() # getting the cards from the API\n",
        "random.shuffle(cards)\n",
        "number_of_decks = len(cards) // decksize # how many decks have to be created\n",
        "decks = {} # this is where the actual decks will be put into\n",
        "decknames = [] \n",
        "#constructing decknames and creating empty lists for each\n",
        "for i in range(number_of_decks):\n",
        "  name = setname + '_' + str(i) + '.dck'\n",
        "  decknames.append(name)\n",
        "  decks[name] = []\n",
        "#print(decks)\n",
        "\n",
        "counter, checker = 0, 0\n",
        "for deck in decknames:\n",
        "  decks[deck] = cards[counter:counter + decksize] #assign cards\n",
        "# Quality Control\n",
        "  counter += decksize\n",
        "  checker += len(decks[deck])\n",
        "  print(\"Created\", deck, len(decks[deck]), \" cards.\", count_type(decks[deck], 'Land'), \"lands. Average CMC:\", average_cmc(decks[deck])\\\n",
        "        , \"Required lands:\", required_lands(decks[deck]))\n",
        "if checker != len(cards):\n",
        "  print(\"Not all cards from the set (\", len(cards), \") made it into the decks(\", checker,\").\")\n",
        "#for card in cards:\n",
        "#  decks[random.choice(decknames)].append(card)\n",
        "\n",
        "for name in decknames:\n",
        "  filename = '/content/drive/MyDrive/Brettspiele&Co/Magic the Gathering/Decklists/Autogen/' + name\n",
        "  with open(filename, 'w') as file:\n",
        "    file.write(create_decklist(decks[name], setname, 1))\n",
        "\n",
        "print(\"Dauer: \", timer() - start_time)"
      ],
      "metadata": {
        "id": "3r3_viBIzwzP",
        "outputId": "ac66e5d0-5fd4-448d-e479-5251225e1aaa",
        "colab": {
          "base_uri": "https://localhost:8080/"
        }
      },
      "execution_count": 68,
      "outputs": [
        {
          "output_type": "stream",
          "name": "stdout",
          "text": [
            "Created GTC_0.dck 36  cards. 2 lands. Average CMC: 3.3529411764705883 Required lands: 25.960588235294118\n",
            "Created GTC_1.dck 36  cards. 1 lands. Average CMC: 3.1714285714285713 Required lands: 25.615714285714283\n",
            "Created GTC_2.dck 36  cards. 2 lands. Average CMC: 3.2058823529411766 Required lands: 25.681176470588234\n",
            "Created GTC_3.dck 36  cards. 1 lands. Average CMC: 3.085714285714286 Required lands: 25.45285714285714\n",
            "Created GTC_4.dck 36  cards. 1 lands. Average CMC: 3.4857142857142858 Required lands: 26.212857142857143\n",
            "Created GTC_5.dck 36  cards. 2 lands. Average CMC: 3.735294117647059 Required lands: 26.687058823529412\n",
            "Not all cards from the set ( 249 ) made it into the decks( 216 ).\n",
            "Dauer:  0.07399131400052283\n"
          ]
        }
      ]
    },
    {
      "cell_type": "code",
      "source": [
        "#testcards = Card.where(set='2ED').all()"
      ],
      "metadata": {
        "id": "YAbCOlY4rVCi"
      },
      "execution_count": 71,
      "outputs": []
    },
    {
      "cell_type": "code",
      "source": [
        "# setlists are ordered by color with lands last (testet with KTK and 2ED)\n",
        "setname ='2ED'\n",
        "number_of_cards = 36\n",
        "\n",
        "seite = 1\n",
        "while True:\n",
        "  cards = Card.where(page=seite).where(pageSize=number_of_cards).where(set=setname).all()\n",
        "  if len(cards) != number_of_cards:\n",
        "    print('Number of cards provided is unequeal', number_of_cards, '. Aborting...')\n",
        "    break\n",
        "  filename = '/content/drive/MyDrive/Brettspiele&Co/Magic the Gathering/Decklists/Autogen/' + setname + '_' + str(seite) + '.dck'\n",
        "  with open(filename, 'x') as file:\n",
        "    file.write(create_decklist(cards, setname, 1))\n",
        "  seite += 1"
      ],
      "metadata": {
        "id": "rWzTHI1l4vyo"
      },
      "execution_count": null,
      "outputs": []
    },
    {
      "cell_type": "code",
      "source": [
        "boosterpack = Set.generate_booster('ktk')\n",
        "print(list(i.name for i in boosterpack))"
      ],
      "metadata": {
        "id": "AbMkJbt6073M",
        "outputId": "9d8590b8-6050-4d1e-ac17-2185f38c986a",
        "colab": {
          "base_uri": "https://localhost:8080/"
        }
      },
      "execution_count": null,
      "outputs": [
        {
          "output_type": "stream",
          "name": "stdout",
          "text": [
            "['Mantis Rider', 'Winterflame', 'Pine Walker', 'Seeker of the Way', 'Highland Game', 'Cancel', 'Plains', 'Temur Banner', 'Shatter', 'Longshot Squad', 'Weave Fate', \"Archers' Parapet\", 'Debilitating Injury', 'Plains']\n"
          ]
        }
      ]
    },
    {
      "cell_type": "code",
      "metadata": {
        "id": "j4OSwMjX55V1"
      },
      "source": [
        "# possible phase class characteristics: phases end when all players pass with stack empty\n",
        "# possible both chars: END: emtpy mana, \"until end of\" effects expire BEGIN: \"until\" effects expire, \"at the beginning of\" triggers\n",
        "#HeadsUp: “until end of combat” last until end of combat PHASE\n",
        "phases = \"beginning\", \"precombat main\", \"combat\", \"postcombat main\", \"ending\" \n",
        "beginning_steps = \"untap\", \"upkeep\", \"draw\"\n",
        "combat_steps = \"beginning of combat\", \"declare attackers\", \"declare blockers\", \"combat damage\", \"end of combat\"\n",
        "ending_steps = \"end\", \"cleanup\"\n",
        "\n",
        "def turn(player, number):\n",
        "    print(f\"{player}`s Turn {number}.\")\n",
        "    print(\"Beginning: Untap\")\n",
        "    print(\"Trigger: 'At Beginning of Turn' and 'At Beginning of Untap Step' (go on the stack at beginning of Upkeep)\")\n",
        "    print(\"Phasing\")\n",
        "    print(f\"{player} untaps.\")\n",
        "\n",
        "    print(\"Beginning: Upkeep\")\n",
        "    print(\"Trigger: 'At Beginning of Upkeep'\")\n",
        "    priority(player)\n",
        "\n",
        "    print(\"Beginning: Draw\")\n",
        "    print(\"draw(library, 1)\")\n",
        "    print(\"Trigger: 'At Beginning of Draw Step'\")\n",
        "    priority(player)\n",
        "\n",
        "\n",
        "    print(\"Precombat Main\")\n",
        "    priority(player)\n",
        "\n",
        "    print(\"Combat: Beginning of Combat\")\n",
        "    priority(player)\n",
        "\n",
        "    print(\"Combat: Declare Attackers\")\n",
        "    priority(player)\n",
        "\n",
        "    print(\"Combat: Declare Blockers\")\n",
        "    priority(player)\n",
        "\n",
        "    print(\"Combat: Combat Damage\")\n",
        "    priority(player)\n",
        "\n",
        "    print(\"Combat: End of Combat\")\n",
        "    priority(player)\n",
        "\n",
        "    print(\"Postcombat Main\")\n",
        "    priority(player)\n",
        "\n",
        "    print(\"Ending: End\")\n",
        "    print(\"Trigger: 'At Beginning of your end step'\")\n",
        "\n",
        "    print(\"Ending: Cleanup\")\n",
        "\n",
        "def priority(player):\n",
        "    \"\"\"When a player can do something, eg cast spells\"\"\"\n",
        "    print(\"checking for state-based effects\")\n",
        "    input(\"Make your move!\")\n"
      ],
      "execution_count": null,
      "outputs": []
    },
    {
      "cell_type": "code",
      "metadata": {
        "colab": {
          "base_uri": "https://localhost:8080/"
        },
        "id": "WWxrANjYeFqM",
        "outputId": "804ecbdb-15e8-43c3-8a8b-b70dc083bd6e"
      },
      "source": [
        "#TODO work with JSON files\n",
        "#BUG drawn cards are added as lists inside a list\n",
        "#BUG sorting the hand doesn't work properly \n",
        "\n",
        "import random\n",
        "\n",
        "#the decklist as dictionary (manually compiled)\n",
        "deck1 = {\n",
        "\"Esper Sentinel\":4 ,\n",
        "\"Giver of Runes\":4 ,\n",
        "\"Memnite\":4 ,\n",
        "\"Ornithopter\":4 ,\n",
        "\"Puresteel Paladin\":4 ,\n",
        "\"Stoneforge Mystic\":4 ,\n",
        "\"Steelshaper's Gift\":1 ,\n",
        "\"Colossus Hammer\":4 ,\n",
        "\"Shadowspear\":1 ,\n",
        "\"Springleaf Drum\":3 ,\n",
        "\"Sigarda's Aid\":4 ,\n",
        "\"Horizon Canopy\":2 ,\n",
        "\"Inkmoth Nexus\":4 ,\n",
        "\"Plains\":11,\n",
        "\"Silent Clearing\":2 ,\n",
        "\"Urza's Saga\":4\n",
        "}\n",
        "\n",
        "# creating and shuffling the library\n",
        "library = []\n",
        "for key in deck1:\n",
        "    for i in range(deck1[key]):\n",
        "        library.append(key)\n",
        "        #library.append(Card.where(name=key).all()) # it takes 88 s to fetch a deck of 60 cards\n",
        "    #print(deck1[i], i)\n",
        "random.shuffle(library)\n",
        "\n",
        "\"\"\"Draw function\n",
        "for now it just removes the cards from the library and returns the drawn cards.\n",
        "Maybe they should be added to hand right away, but I think some cards have conditions before being added to the hand\"\"\"\n",
        "def draw(library, number):\n",
        "    if number <= len(library):\n",
        "        drawn_cards = []\n",
        "        for i in range(number):\n",
        "            drawn_cards.append(library.pop(0))\n",
        "        return drawn_cards\n",
        "    else:\n",
        "        global gameover\n",
        "        gameover = 1\n",
        "        print(\"You tried to draw more cards than your library contains and therefore loose the game.\")\n",
        "\n",
        "\n",
        "#draw starting hand\n",
        "hand = []\n",
        "hand.append(draw(library, 7))\n",
        "\n",
        "gameover = 0\n",
        "playername = \"Alex\"\n",
        "\n",
        "while gameover == 0:\n",
        "    print(f\"{playername}´s library contains {len(library)} cards. Hand: {sorted(hand)}\") #TODO sort hand by CMC and type\n",
        "    useraction = input(\"What do you want to do? draw - d, concede - c\")\n",
        "\n",
        "    if useraction == \"c\":\n",
        "        break\n",
        "\n",
        "    if useraction == \"d\":\n",
        "        try:\n",
        "            carddraw = []\n",
        "            carddraw = draw(library, int(input(\"How many cards do you want to draw?\")))\n",
        "            hand.append(carddraw)\n",
        "            if carddraw != None:\n",
        "                print(f\"{playername} draws: {carddraw}\")\n",
        "                        \n",
        "        except ValueError:\n",
        "            print(\"Please enter an integer.\")\n",
        "\n",
        "print(\"Game ended.\")"
      ],
      "execution_count": null,
      "outputs": [
        {
          "output_type": "stream",
          "name": "stdout",
          "text": [
            "Alex´s library contains 53 cards. Hand: [['Inkmoth Nexus', 'Plains', \"Sigarda's Aid\", 'Horizon Canopy', 'Plains', 'Plains', \"Sigarda's Aid\"]]\n",
            "What do you want to do? draw - d, concede - cd\n",
            "How many cards do you want to draw?3\n",
            "Alex draws: ['Esper Sentinel', 'Silent Clearing', 'Silent Clearing']\n",
            "Alex´s library contains 50 cards. Hand: [['Esper Sentinel', 'Silent Clearing', 'Silent Clearing'], ['Inkmoth Nexus', 'Plains', \"Sigarda's Aid\", 'Horizon Canopy', 'Plains', 'Plains', \"Sigarda's Aid\"]]\n",
            "What do you want to do? draw - d, concede - cc\n",
            "Game ended.\n"
          ]
        }
      ]
    },
    {
      "cell_type": "code",
      "metadata": {
        "id": "XritpaLSFedQ"
      },
      "source": [],
      "execution_count": null,
      "outputs": []
    }
  ]
}