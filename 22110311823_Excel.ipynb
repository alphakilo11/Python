{
  "cells": [
    {
      "cell_type": "markdown",
      "metadata": {
        "id": "view-in-github",
        "colab_type": "text"
      },
      "source": [
        "<a href=\"https://colab.research.google.com/github/alphakilo11/Python/blob/main/22110311823_Excel.ipynb\" target=\"_parent\"><img src=\"https://colab.research.google.com/assets/colab-badge.svg\" alt=\"Open In Colab\"/></a>"
      ]
    },
    {
      "cell_type": "code",
      "source": [
        "#Prototype to find all row indizes with \"Kathrin\" in column 6 (Schauspielteam)\n",
        "#ENHANCE take typos into account\n",
        "\n",
        "import openpyxl\n",
        "wb = openpyxl.load_workbook('/content/Aufführungen Mobilestücke ab 01.2022_NEUSTART_Aktuell_31.10.2022.xlsx')\n",
        "sheet = wb['Neustart B']\n",
        "for i in range(1, sheet.max_row + 1):\n",
        "  zelleninhalt = sheet.cell(row=i, column=6).value\n",
        "  if type(zelleninhalt) == type(\"bla\"):\n",
        "    if \"Kathrin\" in zelleninhalt:\n",
        "      print(i)"
      ],
      "metadata": {
        "id": "QWC6y1qisIcB"
      },
      "execution_count": null,
      "outputs": []
    },
    {
      "cell_type": "code",
      "source": [
        "def search_column(sheet, string, column_index):\n",
        "  \"\"\"Returns a list of column indices where string is found.\"\"\"\n",
        "  positive_indices = []\n",
        "  for i in range(1, sheet.max_row + 1):\n",
        "    zelleninhalt = sheet.cell(row=i, column=column_index).value\n",
        "    if type(zelleninhalt) == type(\"\"):\n",
        "      if string in zelleninhalt:\n",
        "        positive_indices.append(i)\n",
        "  return positive_indices"
      ],
      "metadata": {
        "id": "LEMWS6ItvbJ4"
      },
      "execution_count": 47,
      "outputs": []
    }
  ],
  "metadata": {
    "colab": {
      "collapsed_sections": [],
      "name": "Willkommen bei Colaboratory",
      "provenance": [],
      "include_colab_link": true
    },
    "kernelspec": {
      "display_name": "Python 3",
      "name": "python3"
    }
  },
  "nbformat": 4,
  "nbformat_minor": 0
}