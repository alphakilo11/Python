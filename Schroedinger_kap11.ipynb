{
  "cells": [
    {
      "cell_type": "markdown",
      "metadata": {
        "id": "view-in-github",
        "colab_type": "text"
      },
      "source": [
        "<a href=\"https://colab.research.google.com/github/alphakilo11/Python/blob/main/schroedinger_kap11.ipynb\" target=\"_parent\"><img src=\"https://colab.research.google.com/assets/colab-badge.svg\" alt=\"Open In Colab\"/></a>"
      ]
    },
    {
      "cell_type": "markdown",
      "source": [
        "Schrödinger\n",
        "Kapitel 11"
      ],
      "metadata": {
        "id": "EVZuPXI3AD4i"
      }
    },
    {
      "cell_type": "code",
      "source": [
        "import random\n",
        "random.seed(42)\n",
        "list = (\"ja\", \"nein\")\n",
        "random.choices(list, weights=[2,1], k=9)"
      ],
      "metadata": {
        "id": "oi1feq_DB1Qy",
        "outputId": "d8140b0e-50b8-4336-f4cd-592d0ec41ee3",
        "colab": {
          "base_uri": "https://localhost:8080/"
        }
      },
      "execution_count": null,
      "outputs": [
        {
          "output_type": "execute_result",
          "data": {
            "text/plain": [
              "['ja', 'ja', 'ja', 'ja', 'nein', 'nein', 'nein', 'ja', 'ja']"
            ]
          },
          "metadata": {},
          "execution_count": 48
        }
      ]
    },
    {
      "cell_type": "code",
      "source": [
        "random.seed(42)\n",
        "auswahl = range(1, 50)\n",
        "ergebnis = random.sample(auswahl, 7)\n",
        "zusatzzahl = ergebnis.pop()\n",
        "ergebnis.sort()\n",
        "print(ergebnis, zusatzzahl)"
      ],
      "metadata": {
        "id": "6VAk6cBdUnJW",
        "outputId": "7d93f239-d9e6-4398-f8b3-bc91645051c3",
        "colab": {
          "base_uri": "https://localhost:8080/"
        }
      },
      "execution_count": null,
      "outputs": [
        {
          "output_type": "stream",
          "name": "stdout",
          "text": [
            "[2, 8, 15, 16, 18, 41] 9\n"
          ]
        }
      ]
    },
    {
      "cell_type": "code",
      "source": [
        "import numpy as np\n",
        "from matplotlib import pyplot as plt\n",
        "normalverteilt = np.random.normal(16.34, 13.8745234, 999)\n",
        "\n",
        "plt.hist(normalverteilt, bins=20, edgecolor=\"black\")\n",
        "plt.show()\n"
      ],
      "metadata": {
        "id": "4OqfwJ1zWZ0f",
        "outputId": "69de043d-585a-4f88-f1df-18da68b7ea7a",
        "colab": {
          "base_uri": "https://localhost:8080/",
          "height": 265
        }
      },
      "execution_count": 1,
      "outputs": [
        {
          "output_type": "display_data",
          "data": {
            "text/plain": [
              "<Figure size 432x288 with 1 Axes>"
            ],
            "image/png": "[encoded data removed]"
          },
          "metadata": {
            "needs_background": "light"
          }
        }
      ]
    },
    {
      "cell_type": "code",
      "source": [
        "taler = (1, 2, 3, 7, 9, 0)\n",
        "foo = np.array(taler)\n",
        "foo[-1] = 10\n",
        "foo = foo[::-1]\n",
        "print(foo)\n"
      ],
      "metadata": {
        "id": "YY2KkQK2iwWo",
        "outputId": "91bdd735-c001-4846-d7e0-24fda78aae73",
        "colab": {
          "base_uri": "https://localhost:8080/"
        }
      },
      "execution_count": 5,
      "outputs": [
        {
          "output_type": "stream",
          "name": "stdout",
          "text": [
            "[10  9  7  3  2  1]\n"
          ]
        }
      ]
    },
    {
      "cell_type": "code",
      "source": [
        "foo = np.arange(5, 26, 2)\n",
        "foo"
      ],
      "metadata": {
        "id": "F9lnYvK8jjSL",
        "outputId": "47a7e414-1a24-48be-b050-63abfb3f17a9",
        "colab": {
          "base_uri": "https://localhost:8080/"
        }
      },
      "execution_count": 7,
      "outputs": [
        {
          "output_type": "execute_result",
          "data": {
            "text/plain": [
              "array([ 5,  7,  9, 11, 13, 15, 17, 19, 21, 23, 25])"
            ]
          },
          "metadata": {},
          "execution_count": 7
        }
      ]
    },
    {
      "cell_type": "code",
      "source": [
        "foo = np.zeros([3, 5], dtype=\"int16\")\n",
        "foo[0][0] = 1\n",
        "print(foo)\n",
        "\n",
        "foo = np.ones([3,4])\n",
        "foo[-1][-1] = 9\n",
        "print(foo)\n",
        "\n",
        "foo = np.zeros([2, 3, 4])\n",
        "foo[0][1][2] = 1\n",
        "foo[1,1,2] = 1\n",
        "print(foo)\n"
      ],
      "metadata": {
        "id": "rA1QOsypkzTs",
        "outputId": "b744aba5-86a3-4220-cf25-935b5c980c33",
        "colab": {
          "base_uri": "https://localhost:8080/"
        }
      },
      "execution_count": 25,
      "outputs": [
        {
          "output_type": "stream",
          "name": "stdout",
          "text": [
            "[[1 0 0 0 0]\n",
            " [0 0 0 0 0]\n",
            " [0 0 0 0 0]]\n",
            "[[1. 1. 1. 1.]\n",
            " [1. 1. 1. 1.]\n",
            " [1. 1. 1. 9.]]\n",
            "[[[0. 0. 0. 0.]\n",
            "  [0. 0. 1. 0.]\n",
            "  [0. 0. 0. 0.]]\n",
            "\n",
            " [[0. 0. 0. 0.]\n",
            "  [0. 0. 1. 0.]\n",
            "  [0. 0. 0. 0.]]]\n"
          ]
        }
      ]
    }
  ],
  "metadata": {
    "colab": {
      "collapsed_sections": [],
      "name": "Willkommen bei Colaboratory",
      "provenance": [],
      "include_colab_link": true
    },
    "kernelspec": {
      "display_name": "Python 3",
      "name": "python3"
    }
  },
  "nbformat": 4,
  "nbformat_minor": 0
}
