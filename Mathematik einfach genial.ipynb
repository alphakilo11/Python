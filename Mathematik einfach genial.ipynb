{
  "cells": [
    {
      "cell_type": "markdown",
      "metadata": {
        "id": "view-in-github",
        "colab_type": "text"
      },
      "source": [
        "<a href=\"https://colab.research.google.com/github/alphakilo11/Python/blob/main/Mathematik%20einfach%20genial.ipynb\" target=\"_parent\"><img src=\"https://colab.research.google.com/assets/colab-badge.svg\" alt=\"Open In Colab\"/></a>"
      ]
    },
    {
      "cell_type": "code",
      "source": [
        "import math"
      ],
      "metadata": {
        "id": "hRofpyggz6Zx"
      },
      "execution_count": null,
      "outputs": []
    },
    {
      "cell_type": "code",
      "source": [
        "#p 4\n",
        "def dreieckszahl(x):\n",
        "    \"\"\"Summe der ersten n natuerlichen Zahlen\"\"\"\n",
        "    return int(((x + 1) * x) / 2)\n",
        "# Gesucht ist die Anzahl der Arten eine natuerliche Zahl (x) als Summe aufeinanderfolgender natuerlicher Zahlen darstellen zu koennen\n",
        "# Der hoechste Summand kann groeßer als x/2 sein (eg: 1 + 2 = 3) Vermutlich nicht groeßer als math.ceil(x/2).\n",
        "# IMPROVE optimise speed\n",
        "\n",
        "\n",
        "zu_teilende_zahl = 111\n",
        "max_summanden = 10\n",
        "debug = 0\n",
        "iterationen = 0\n",
        "treffer = 0\n",
        "for i in range(math.ceil(zu_teilende_zahl / 2), 0, -1): # hoechster Summand\n",
        "  for j in range(2, max_summanden, 1): # Anzahl der Summanden\n",
        "    iterationen += 1\n",
        "    if debug == 1:\n",
        "      print(f\"{j} * {i - 1} - {dreieckszahl(j - 1)} = {(j * i - dreieckszahl(j))}\")\n",
        "    if j > (i - 1):\n",
        "      break\n",
        "    if (j * i - dreieckszahl(j)) == zu_teilende_zahl:\n",
        "      treffer += 1\n",
        "      if debug == 1:\n",
        "        print(\"yes!\")\n",
        "print(treffer, \" Treffer bei \", iterationen, \" Iterationen\")"
      ],
      "metadata": {
        "colab": {
          "base_uri": "https://localhost:8080/"
        },
        "id": "QR2EPsXlwRRa",
        "outputId": "972a0246-8f84-49ac-b63d-a0d1cac0677c"
      },
      "execution_count": 7,
      "outputs": [
        {
          "output_type": "stream",
          "name": "stdout",
          "text": [
            "2  Treffer bei  413  Iterationen\n"
          ]
        }
      ]
    },
    {
      "cell_type": "code",
      "source": [
        "# p 48 Sandrechner\n",
        "# https://wiki.edu.vn/wiki29/2021/10/19/der-sandrechner-wikipedia/\n",
        "\n",
        "def volumen_kugel(Radius):\n",
        "  return 4/3 * math.pi * Radius **3\n",
        "\n",
        "Mohnsamen_pro_Daktylus = 40 # Fingerbreite\n",
        "Mohnsamen_pro_Daktyluskugel = volumen_kugel(Mohnsamen_pro_Daktylus/2)\n",
        "print(Mohnsamen_pro_Daktyluskugel) # Ergebnis sollte 64000 sein\n",
        "\n",
        "Sandkoerner_pro_Mohnsamen = 10000\n",
        "Volumen_Sandkorn = volumen_kugel(18.3e-6 / 2)\n",
        "Volumen_Mohnsamen = Volumen_Sandkorn * Sandkoerner_pro_Mohnsamen\n",
        "Durchmesser_Mohnsamen = ((Volumen_Mohnsamen / 4/3 / math.pi) ** (1/3)) * 2\n",
        "print(Durchmesser_Mohnsamen * Mohnsamen_pro_Daktylus)\n",
        "\n",
        "\n",
        "# „Denn es wurde bewiesen, dass Kugeln das dreifache Verhältnis ihrer Durchmesser zueinander haben“\n",
        "print(f\"{volumen_kugel(2)} {volumen_kugel(4)} {volumen_kugel(6)}\")"
      ],
      "metadata": {
        "colab": {
          "base_uri": "https://localhost:8080/"
        },
        "id": "FCurDEDLwibn",
        "outputId": "aab5602c-ee44-4711-edfc-5a70b82f6a56"
      },
      "execution_count": 19,
      "outputs": [
        {
          "output_type": "stream",
          "name": "stdout",
          "text": [
            "33510.32163829113\n",
            "0.00758164731452742\n",
            "33.510321638291124 268.082573106329 904.7786842338603\n"
          ]
        }
      ]
    },
    {
      "cell_type": "code",
      "source": [
        "268/6*9"
      ],
      "metadata": {
        "colab": {
          "base_uri": "https://localhost:8080/"
        },
        "id": "-7oNawOk2ugA",
        "outputId": "364278e5-ef54-4852-af05-5de42e4989f8"
      },
      "execution_count": 20,
      "outputs": [
        {
          "output_type": "execute_result",
          "data": {
            "text/plain": [
              "402.0"
            ]
          },
          "metadata": {},
          "execution_count": 20
        }
      ]
    }
  ],
  "metadata": {
    "colab": {
      "collapsed_sections": [],
      "name": "Willkommen bei Colaboratory",
      "toc_visible": true,
      "provenance": [],
      "include_colab_link": true
    },
    "kernelspec": {
      "display_name": "Python 3",
      "name": "python3"
    }
  },
  "nbformat": 4,
  "nbformat_minor": 0
}