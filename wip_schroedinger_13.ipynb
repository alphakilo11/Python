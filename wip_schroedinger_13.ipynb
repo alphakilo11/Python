{
  "cells": [
    {
      "cell_type": "markdown",
      "metadata": {
        "id": "view-in-github",
        "colab_type": "text"
      },
      "source": [
        "<a href=\"https://colab.research.google.com/github/alphakilo11/Python/blob/main/wip_schroedinger_13.ipynb\" target=\"_parent\"><img src=\"https://colab.research.google.com/assets/colab-badge.svg\" alt=\"Open In Colab\"/></a>"
      ]
    },
    {
      "cell_type": "markdown",
      "source": [
        "Schrödinger Kapitel 13"
      ],
      "metadata": {
        "id": "AGNSyG2xoMSX"
      }
    },
    {
      "cell_type": "code",
      "source": [
        "import sqlite3\n",
        "verbindung = sqlite3.connect(\"spam.db\")\n",
        "cursor = verbindung.cursor()\n",
        "sql = '''CREATE TABLE eggs(\n",
        "  cooler_typ TEXT,\n",
        "  glückszahl INTEGER\n",
        ");'''\n",
        "cursor.execute(sql)\n",
        "verbindung.commit()\n",
        "verbindung.close()"
      ],
      "metadata": {
        "id": "-Gn8mZWNoPA6"
      },
      "execution_count": null,
      "outputs": []
    },
    {
      "cell_type": "code",
      "source": [
        "# S 450\n",
        "verbindung = sqlite3.connect(\"spam.db\")\n",
        "cursor = verbindung.cursor()\n",
        "sql = '''INSERT INTO eggs(\n",
        "  cooler_typ,\n",
        "  glückszahl\n",
        ")\n",
        "VALUES(\"Schrödinger\", 42), ('Hannes', 13), ('Lilly', 1024);'''\n",
        "cursor.execute(sql)\n",
        "verbindung.commit()\n",
        "verbindung.close()"
      ],
      "metadata": {
        "id": "An4ZicOl032t"
      },
      "execution_count": 65,
      "outputs": []
    },
    {
      "cell_type": "code",
      "source": [
        "def erzeuge_tabellen(path, sql):\n",
        "  \"\"\"Creates a SQL db at given path and executes list of sql instructions\"\"\"\n",
        "  # establish database connection\n",
        "  verbindung = sqlite3.connect(path)\n",
        "  cursor = verbindung.cursor()\n",
        "  # delete table if it already exists\n",
        "  import re\n",
        "  regex = re.compile('CREATE TABLE.*\\(')\n",
        "  step = regex.findall('CREATE TABLE vorfall(virus TEXT PRIMARY KEY, ort TEXT, vorfall TEXT);)')\n",
        "  step = step[0][12:-1].strip()\n",
        "  sql = 'DROP TABLE IF EXISTS ' + step + ';'\n",
        "\n",
        "\n",
        "  for instruction in sql:\n",
        "    cursor.execute(instruction)\n",
        "  verbindung.commit()\n",
        "  verbindung.close()"
      ],
      "metadata": {
        "id": "K7oWh5re2WqA"
      },
      "execution_count": 70,
      "outputs": []
    },
    {
      "cell_type": "code",
      "source": [
        "foo = ['CREATE TABLE viren(name TEXT PRIMARY KEY, typ INTEGER, status TEXT);', '''\n",
        "CREATE TABLE viren_typ(typ INTEGER PRIMARY KEY, groesse INT, signatur TEXT);''']\n",
        "erzeuge_tabellen('strategie.db', foo)"
      ],
      "metadata": {
        "id": "7HHTAD8s3tPn"
      },
      "execution_count": 71,
      "outputs": []
    },
    {
      "cell_type": "code",
      "source": [
        "foo = ['''\n",
        "INSERT INTO viren_typ(typ, groesse, signatur)\n",
        "VALUES(1,128,'ABAABA'),\n",
        "(2, 256, 'ABAABA'),\n",
        "(3,256,'BCCBCB')''', '''\n",
        "INSERT INTO viren(name, typ, status)\n",
        "VALUES ('T800', 1, 'aktiv'),\n",
        "  ('T803', 2, 'aktiv'),\n",
        "  ('Bit13', 3, 'aktiv'),\n",
        "  ('Gorf13', 1, 'aktiv'),\n",
        "  ('Gorf7', 2, 'aktiv')'''\n",
        "  ]\n",
        "erzeuge_tabellen('strategie.db', foo)"
      ],
      "metadata": {
        "id": "NSL7tmd35AoM"
      },
      "execution_count": 72,
      "outputs": []
    },
    {
      "cell_type": "code",
      "source": [
        "def sql_abfrage(path, sql):\n",
        "  \"\"\"Creates a SQL db at given path and executes list of sql instructions\"\"\"\n",
        "\n",
        "  verbindung = sqlite3.connect(path)\n",
        "  cursor = verbindung.cursor()\n",
        "  foo = []\n",
        "  for instruction in sql:\n",
        "    cursor.execute(instruction)\n",
        "    foo.append(cursor.fetchall())\n",
        "  verbindung.close()\n",
        "  return foo\n",
        "\n",
        "spam = sql_abfrage('strategie.db', ['SELECT * FROM viren_typ;', 'SELECT * FROM viren;'])\n",
        "spam"
      ],
      "metadata": {
        "id": "vLbfIFqo6XKp",
        "outputId": "30413516-36de-4c22-e124-7542b403526c",
        "colab": {
          "base_uri": "https://localhost:8080/"
        }
      },
      "execution_count": 89,
      "outputs": [
        {
          "output_type": "execute_result",
          "data": {
            "text/plain": [
              "[[(1, 128, 'ABAABA'), (2, 256, 'ABAABA'), (3, 256, 'BCCBCB')],\n",
              " [('T800', 1, 'aktiv'),\n",
              "  ('T803', 2, 'aktiv'),\n",
              "  ('Bit13', 3, 'aktiv'),\n",
              "  ('Gorf13', 1, 'aktiv'),\n",
              "  ('Gorf7', 2, 'aktiv')]]"
            ]
          },
          "metadata": {},
          "execution_count": 89
        }
      ]
    },
    {
      "cell_type": "code",
      "source": [
        "  verbindung = sqlite3.connect('strategie.db')\n",
        "  cursor = verbindung.cursor()\n",
        "  cursor.execute('SELECT * FROM viren_typ;')\n",
        "  print(cursor.fetchall())\n",
        "  verbindung.close()"
      ],
      "metadata": {
        "id": "9ZNz7vA09Vze",
        "outputId": "5ae6a3a5-a67d-4a12-d91f-9051dbf583e3",
        "colab": {
          "base_uri": "https://localhost:8080/"
        }
      },
      "execution_count": 83,
      "outputs": [
        {
          "output_type": "stream",
          "name": "stdout",
          "text": [
            "[(1, 128, 'ABAABA'), (2, 256, 'ABAABA'), (3, 256, 'BCCBCB')]\n"
          ]
        }
      ]
    },
    {
      "cell_type": "code",
      "source": [
        "erzeuge_tabellen('strategie.db', ['CREATE TABLE vorfall(virus TEXT PRIMARY KEY, ort TEXT, vorfall TEXT);'])"
      ],
      "metadata": {
        "id": "KkqJekB2_RAy"
      },
      "execution_count": null,
      "outputs": []
    },
    {
      "cell_type": "code",
      "source": [
        ""
      ],
      "metadata": {
        "id": "9ZAhLjGOAQHP",
        "outputId": "db0cdce3-0ad0-4be8-ba78-4bdda1d7e783",
        "colab": {
          "base_uri": "https://localhost:8080/",
          "height": 36
        }
      },
      "execution_count": 114,
      "outputs": [
        {
          "output_type": "execute_result",
          "data": {
            "text/plain": [
              "'DROP TABLE IF EXISTS vorfall;'"
            ],
            "application/vnd.google.colaboratory.intrinsic+json": {
              "type": "string"
            }
          },
          "metadata": {},
          "execution_count": 114
        }
      ]
    }
  ],
  "metadata": {
    "colab": {
      "collapsed_sections": [],
      "name": "Willkommen bei Colaboratory",
      "provenance": [],
      "include_colab_link": true
    },
    "kernelspec": {
      "display_name": "Python 3",
      "name": "python3"
    }
  },
  "nbformat": 4,
  "nbformat_minor": 0
}