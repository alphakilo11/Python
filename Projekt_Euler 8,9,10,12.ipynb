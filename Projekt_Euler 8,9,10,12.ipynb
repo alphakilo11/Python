{
  "nbformat": 4,
  "nbformat_minor": 0,
  "metadata": {
    "colab": {
      "name": "Projekt Euler.ipynb",
      "provenance": [],
      "collapsed_sections": [],
      "authorship_tag": "ABX9TyMm+bYJNAWHbe/46HOOGCPf",
      "include_colab_link": true
    },
    "kernelspec": {
      "name": "python3",
      "display_name": "Python 3"
    },
    "language_info": {
      "name": "python"
    }
  },
  "cells": [
    {
      "cell_type": "markdown",
      "metadata": {
        "id": "view-in-github",
        "colab_type": "text"
      },
      "source": [
        "<a href=\"https://colab.research.google.com/github/alphakilo11/Python/blob/main/Projekt_Euler.ipynb\" target=\"_parent\"><img src=\"https://colab.research.google.com/assets/colab-badge.svg\" alt=\"Open In Colab\"/></a>"
      ]
    },
    {
      "cell_type": "code",
      "source": [
        "def divisors(number):\n",
        "  divisors = [1]\n",
        "  for i in range(2, round(number / 2) + 1):\n",
        "    if number % i == 0:\n",
        "      divisors.append(i)\n",
        "  divisors.append(number)\n",
        "  return divisors\n",
        "\n",
        "def dreieckszahlen(anzahl):\n",
        "  zahlen = []\n",
        "  for i in range(1, anzahl):\n",
        "    zahlen.append((i * (i + 1)) / 2)\n",
        "  return zahlen\n"
      ],
      "metadata": {
        "id": "kPT1K9Ag177q"
      },
      "execution_count": 33,
      "outputs": []
    },
    {
      "cell_type": "code",
      "source": [
        "# https://projecteuler.net/problem=12\n",
        "#ENHANCE use generator\n",
        "\n",
        "divisors(28)\n",
        "problem12_zahlen = dreieckszahlen(70000)"
      ],
      "metadata": {
        "id": "COQ3Sjgi3gE3"
      },
      "execution_count": 35,
      "outputs": []
    },
    {
      "cell_type": "code",
      "source": [
        "for i in problem12_zahlen:\n",
        "  if len(divisors(i)) > 500:\n",
        "    print(i)\n",
        "    break"
      ],
      "metadata": {
        "id": "ZfY_eM3r6t3x"
      },
      "execution_count": null,
      "outputs": []
    },
    {
      "cell_type": "code",
      "source": [
        "# https://projecteuler.net/problem=10\n",
        "\n",
        "primzahlen = primzahlengenerator(150000)\n",
        "primzahlen[-1]"
      ],
      "metadata": {
        "colab": {
          "base_uri": "https://localhost:8080/"
        },
        "id": "SKXKS8SMwaKc",
        "outputId": "26d9ef34-fd87-4f3b-e99b-a20f13eeb5d8"
      },
      "execution_count": 22,
      "outputs": [
        {
          "output_type": "execute_result",
          "data": {
            "text/plain": [
              "2015177"
            ]
          },
          "metadata": {},
          "execution_count": 22
        }
      ]
    },
    {
      "cell_type": "code",
      "source": [
        "i = 0\n",
        "summe = 0\n",
        "while primzahlen[i] < 2e6:\n",
        "  summe += primzahlen[i]\n",
        "  i += 1\n",
        "summe"
      ],
      "metadata": {
        "colab": {
          "base_uri": "https://localhost:8080/"
        },
        "id": "0ozAaJbFyknv",
        "outputId": "bf5402c0-315d-4900-f4e4-aaa134de2332"
      },
      "execution_count": 24,
      "outputs": [
        {
          "output_type": "execute_result",
          "data": {
            "text/plain": [
              "142913828922"
            ]
          },
          "metadata": {},
          "execution_count": 24
        }
      ]
    },
    {
      "cell_type": "code",
      "source": [
        "# https://projecteuler.net/problem=9\n",
        "# ENHANCE schneller!\n",
        "# a**2 + b**2 = c**2 und a + b + c = 1000\n",
        "\n",
        "for a in range(1, 1000):\n",
        "  for b in range(1, 1000):\n",
        "    for c in range(1, 1000):\n",
        "      if a + b + c == 1000 and a**2 + b**2 == c**2:\n",
        "        print(a, b ,c)\n",
        "\n"
      ],
      "metadata": {
        "colab": {
          "base_uri": "https://localhost:8080/"
        },
        "id": "o-M40TVstTaj",
        "outputId": "66171491-7c27-4429-eaa0-e334e301d5fa"
      },
      "execution_count": 17,
      "outputs": [
        {
          "output_type": "stream",
          "name": "stdout",
          "text": [
            "200 375 425\n",
            "375 200 425\n"
          ]
        }
      ]
    },
    {
      "cell_type": "code",
      "source": [
        "# https://projecteuler.net/problem=8\n",
        "# BUG Folge darf Null nicht enhalten, aber die Prüfung speichert nur 2 Folgen\n",
        "zahl = \"7316717653133062491922511967442657474235534919493496983520312774506326239578318016984801869478851843858615607891129494954595017379583319528532088055111254069874715852386305071569329096329522744304355766896648950445244523161731856403098711121722383113622298934233803081353362766142828064444866452387493035890729629049156044077239071381051585930796086670172427121883998797908792274921901699720888093776657273330010533678812202354218097512545405947522435258490771167055601360483958644670632441572215539753697817977846174064955149290862569321978468622482839722413756570560574902614079729686524145351004748216637048440319989000889524345065854122758866688116427171479924442928230863465674813919123162824586178664583591245665294765456828489128831426076900422421902267105562632111110937054421750694165896040807198403850962455444362981230987879927244284909188845801561660979191338754992005240636899125607176060588611646710940507754100225698315520005593572972571636269561882670428252483600823257530420752963450\"\n",
        "liste_der_quersummen = []\n",
        "liste_der_zahlenreihen = []\n",
        "i = 12\n",
        "while i < 1000:\n",
        "  schritt = zahl[i - 12: i]\n",
        "  i += 1\n",
        "  if \"0\" in schritt:\n",
        "    break\n",
        "  liste_der_zahlenreihen.append(schritt)\n",
        "  quersumme = 0\n",
        "  for j in schritt:\n",
        "    quersumme += int(j)\n",
        "  liste_der_quersummen.append(quersumme)\n",
        "maximum = max(liste_der_quersummen)\n",
        "liste_der_quersummen.index(maximum)"
      ],
      "metadata": {
        "colab": {
          "base_uri": "https://localhost:8080/"
        },
        "id": "cBrJzb_UEEwe",
        "outputId": "ef1e8bac-edf7-4cfc-930f-fa419a0c19da"
      },
      "execution_count": 16,
      "outputs": [
        {
          "output_type": "execute_result",
          "data": {
            "text/plain": [
              "0"
            ]
          },
          "metadata": {},
          "execution_count": 16
        }
      ]
    },
    {
      "cell_type": "code",
      "source": [
        "foo = \"6249192251196744265747423553491949349698352\"\n",
        "len(foo)\n"
      ],
      "metadata": {
        "colab": {
          "base_uri": "https://localhost:8080/"
        },
        "id": "WCaNKidXsNt_",
        "outputId": "830e8415-63a1-4b3f-b51d-10c8c8454f3b"
      },
      "execution_count": 15,
      "outputs": [
        {
          "output_type": "execute_result",
          "data": {
            "text/plain": [
              "43"
            ]
          },
          "metadata": {},
          "execution_count": 15
        }
      ]
    },
    {
      "cell_type": "code",
      "source": [
        "produkt = 1\n",
        "for i in liste_der_zahlenreihen[0]:\n",
        "  produkt *= int(i)\n",
        "produkt"
      ],
      "metadata": {
        "colab": {
          "base_uri": "https://localhost:8080/"
        },
        "id": "nhUTHtwLo8Km",
        "outputId": "7a7f864a-d3ae-4bfe-db18-5fb3fa65d125"
      },
      "execution_count": 10,
      "outputs": [
        {
          "output_type": "execute_result",
          "data": {
            "text/plain": [
              "1666980"
            ]
          },
          "metadata": {},
          "execution_count": 10
        }
      ]
    },
    {
      "cell_type": "code",
      "source": [
        "len(liste_der_zahlenreihen)"
      ],
      "metadata": {
        "colab": {
          "base_uri": "https://localhost:8080/"
        },
        "id": "k-AwLGTqr2Rc",
        "outputId": "576f0eb6-116a-4aac-8d0d-dc736b263103"
      },
      "execution_count": 11,
      "outputs": [
        {
          "output_type": "execute_result",
          "data": {
            "text/plain": [
              "2"
            ]
          },
          "metadata": {},
          "execution_count": 11
        }
      ]
    },
    {
      "cell_type": "code",
      "source": [
        "def primzahlengenerator(beginn, ende):\n",
        "  primzahlen = []\n",
        "  if beginn < 3:\n",
        "    primzahlen.append(2)\n",
        "    beginn = 3\n",
        " for i in range(beginn, ende):\n",
        "    abgelehnt = False\n",
        "    for j in range(2, (round(i ** 0.5) + 1)):\n",
        "      if i % j == 0:\n",
        "        abgelehnt = True\n",
        "    if abgelehnt == False:\n",
        "      primzahlen.append(i)\n",
        "    i += 2\n",
        "  return primzahlen"
      ],
      "metadata": {
        "id": "DvT5zc-exsNb"
      },
      "execution_count": null,
      "outputs": []
    },
    {
      "cell_type": "code",
      "source": [
        "def primzahlengenerator(anzahl):\n",
        "  primzahlen = [2]\n",
        "  i = 3\n",
        "  while len(primzahlen) < anzahl:\n",
        "    abgelehnt = False\n",
        "    for j in range(2, (round(i ** 0.5) + 1)):\n",
        "      if i % j == 0:\n",
        "        abgelehnt = True\n",
        "    if abgelehnt == False:\n",
        "      primzahlen.append(i)\n",
        "    i += 2\n",
        "  return primzahlen"
      ],
      "metadata": {
        "id": "bsTMb7KE9TaD"
      },
      "execution_count": 19,
      "outputs": []
    },
    {
      "cell_type": "code",
      "source": [
        "summe = 0\n",
        "for i in range(1, 101):\n",
        "  summe += i ** 2\n",
        "summe"
      ],
      "metadata": {
        "colab": {
          "base_uri": "https://localhost:8080/"
        },
        "id": "2lm9-eNA8EZf",
        "outputId": "e58c720b-0746-4da1-cc33-4e949ae9604d"
      },
      "execution_count": 12,
      "outputs": [
        {
          "output_type": "execute_result",
          "data": {
            "text/plain": [
              "338350"
            ]
          },
          "metadata": {},
          "execution_count": 12
        }
      ]
    },
    {
      "cell_type": "code",
      "source": [
        "summe = 0\n",
        "for i in range(1, 101):\n",
        "  summe += i\n",
        "summe ** 2"
      ],
      "metadata": {
        "colab": {
          "base_uri": "https://localhost:8080/"
        },
        "id": "OWs9BSv28m-_",
        "outputId": "26864d1d-2112-4ea3-a10f-3a32fcf394c0"
      },
      "execution_count": 13,
      "outputs": [
        {
          "output_type": "execute_result",
          "data": {
            "text/plain": [
              "25502500"
            ]
          },
          "metadata": {},
          "execution_count": 13
        }
      ]
    },
    {
      "cell_type": "code",
      "source": [
        "25502500 - 338350"
      ],
      "metadata": {
        "colab": {
          "base_uri": "https://localhost:8080/"
        },
        "id": "SnlPH2hb8uyx",
        "outputId": "c304c10f-fe52-4afc-fbf9-4e3e3a967fec"
      },
      "execution_count": 14,
      "outputs": [
        {
          "output_type": "execute_result",
          "data": {
            "text/plain": [
              "25164150"
            ]
          },
          "metadata": {},
          "execution_count": 14
        }
      ]
    },
    {
      "cell_type": "code",
      "execution_count": null,
      "metadata": {
        "id": "XruI3Cw-2tFY"
      },
      "outputs": [],
      "source": [
        "divisor = [11, 12, 13, 14, 15, 16, 17, 18, 19, 20]\n",
        "for i in range(2520, 100000000, 2):\n",
        "  print(\"\\b\" * 100, i)\n",
        "  summe = 0\n",
        "  for j in divisor:\n",
        "    summe += i % j\n",
        "  if summe == 0:\n",
        "    print(\"fund:\", i)\n"
      ]
    }
  ]
}
