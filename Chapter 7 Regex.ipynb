{
  "cells": [
    {
      "cell_type": "markdown",
      "metadata": {
        "id": "view-in-github",
        "colab_type": "text"
      },
      "source": [
        "<a href=\"https://colab.research.google.com/github/alphakilo11/Python/blob/main/Chapter%207%20Regex.ipynb\" target=\"_parent\"><img src=\"https://colab.research.google.com/assets/colab-badge.svg\" alt=\"Open In Colab\"/></a>"
      ]
    },
    {
      "cell_type": "code",
      "source": [
        "from timeit import default_timer as timer\n",
        "\n",
        "#with open(\"bible.txt\") as file:\n",
        "#with open(\"pride.txt\") as file:\n",
        "#with open(\"reise.txt\") as file:\n",
        "#with open(\"flax.txt\") as file:\n",
        "#with open(\"frauen.txt\") as file:\n",
        "#  message = file.read()\n"
      ],
      "metadata": {
        "id": "nHHy4oDrxW4w"
      },
      "execution_count": 1,
      "outputs": []
    },
    {
      "cell_type": "code",
      "source": [
        "def isPhoneNumber(candidate):\n",
        "  digits = [\"0\", \"1\", \"2\", \"3\", \"4\", \"5\", \"6\", \"7\", \"8\", \"9\"] # str.isdigit() covers digits which cannot be used to form numbers in base 10, like the Kharosthi numbers.\n",
        "  if len(candidate) != 12:\n",
        "    return False\n",
        "  for index in [3, 7]:\n",
        "    if candidate[index] != \"-\":\n",
        "      return False\n",
        "  part1 = candidate[:3]\n",
        "  part2 = candidate[4:7]\n",
        "  part3 = candidate[-4:]\n",
        "  for part in [part1, part2, part3]:\n",
        "    for char in part:\n",
        "      if char not in digits:\n",
        "        return False\n",
        "  return True"
      ],
      "metadata": {
        "id": "peAemRGK4NS7"
      },
      "execution_count": 2,
      "outputs": []
    },
    {
      "cell_type": "code",
      "source": [
        "start_time = timer()\n",
        "foo = isPhoneNumber(\"415-555-4242\")\n",
        "print(timer() - start_time)\n",
        "print(foo)"
      ],
      "metadata": {
        "id": "AkIivXQc7RQz",
        "outputId": "e3a61039-3f4a-4203-b8bd-5952f64ce877",
        "colab": {
          "base_uri": "https://localhost:8080/"
        }
      },
      "execution_count": 3,
      "outputs": [
        {
          "output_type": "stream",
          "name": "stdout",
          "text": [
            "0.00015037100000370174\n",
            "True\n"
          ]
        }
      ]
    },
    {
      "cell_type": "code",
      "source": [
        "message = \"Call me at 294-340-5932 tomorrow. 123-456-7890 is my office number.\"\n",
        "start_time = timer()\n",
        "hits = []\n",
        "for i in range(len(message) - 12):\n",
        "  chunk = message[i:i+12]\n",
        "  if isPhoneNumber(chunk):\n",
        "    hits.append(chunk)\n",
        "print(timer() - start_time)\n",
        "print(hits)"
      ],
      "metadata": {
        "id": "PJSUYowc9Awx",
        "outputId": "d38e7ae8-ec41-45f0-e2b8-2f9257fbb930",
        "colab": {
          "base_uri": "https://localhost:8080/"
        }
      },
      "execution_count": 5,
      "outputs": [
        {
          "output_type": "stream",
          "name": "stdout",
          "text": [
            "0.0001268160000051921\n",
            "['294-340-5932', '123-456-7890']\n"
          ]
        }
      ]
    },
    {
      "cell_type": "code",
      "source": [
        "import re\n",
        "start_time = timer()\n",
        "phoneNumberRegex = re.compile(r\"\\d{3}-\\d{3}-\\d{4}\")\n",
        "hits = phoneNumberRegex.findall(message)\n",
        "print(timer() - start_time)\n",
        "print(hits)"
      ],
      "metadata": {
        "id": "MEM_amR8AnvV",
        "outputId": "320c102e-ef04-4e2a-a6b8-63e9c425a10c",
        "colab": {
          "base_uri": "https://localhost:8080/"
        }
      },
      "execution_count": 6,
      "outputs": [
        {
          "output_type": "stream",
          "name": "stdout",
          "text": [
            "0.0004631320000072492\n",
            "['294-340-5932', '123-456-7890']\n"
          ]
        }
      ]
    },
    {
      "cell_type": "code",
      "source": [
        "bar = \"\\s\"\n",
        "foo = 'Agent' + bar + '(\\w)\\w*'\n",
        "agentNameRegex = re.compile(foo)\n",
        "agentNameRegex.sub(r'\\1****', 'Agent Carol told Agent Buchovsky that Agent Smith was a Double Agent.')"
      ],
      "metadata": {
        "id": "Javq3LN4Gemd",
        "outputId": "3d03dbda-aa11-4583-81ba-99c000385c0f",
        "colab": {
          "base_uri": "https://localhost:8080/",
          "height": 36
        }
      },
      "execution_count": 7,
      "outputs": [
        {
          "output_type": "execute_result",
          "data": {
            "text/plain": [
              "'C**** told B**** that S**** was a Double Agent.'"
            ],
            "application/vnd.google.colaboratory.intrinsic+json": {
              "type": "string"
            }
          },
          "metadata": {},
          "execution_count": 7
        }
      ]
    },
    {
      "cell_type": "code",
      "source": [
        "with open(\"test.txt\") as file:\n",
        "  message = file.read()\n",
        "regex_email = re.compile(\"\\S+@\\w+.\\w+\")\n",
        "print(regex_email.findall(message))\n",
        "\n",
        "phoneNumberRegex = re.compile(r\"\\d{3}.\\d{3}.\\d{4}\")\n",
        "print(phoneNumberRegex.findall(message))"
      ],
      "metadata": {
        "id": "iEXB0loOQ24q"
      },
      "execution_count": null,
      "outputs": []
    },
    {
      "cell_type": "code",
      "source": [
        "#BUG does not work\n",
        "message = \"06605094112, 0660/5094112, +43660/5094112, 5094112\"\n",
        "regex_phoneNumber = re.compile(r\"\"\"\n",
        "((\n",
        "  ^(0|(00\\d\\d)|(\\+\\d\\d)) #Ländercode\n",
        "  (\\d{3}) # Vorwahl\n",
        "  )?\n",
        "(\\d+))\"\"\", re.VERBOSE)\n",
        "print(regex_phoneNumber.findall(message))\n"
      ],
      "metadata": {
        "id": "m-zBQvwzdNvB"
      },
      "execution_count": null,
      "outputs": []
    },
    {
      "cell_type": "code",
      "source": [
        "p184 #20\n",
        "message = \"42 1,245 15,156,456 12,14,516 1546\".split(\" \")\n",
        "foo = r\"^\\d{1,3}(,\\d{3})*$\"\n",
        "for i in message:\n",
        "  regex_foo = re.compile(foo)\n",
        "  print(regex_foo.search(i))"
      ],
      "metadata": {
        "id": "BWkEQovS0MDg"
      },
      "execution_count": null,
      "outputs": []
    },
    {
      "cell_type": "code",
      "source": [
        "#p185 #21\n",
        "message = \"Haruto Watanabe,RoboCop Watanabe,Alice Watanabe,naruto Watanabe,Boyle watanabe,Mr. Watanabe\".split(\",\")\n",
        "foo = \"^[A-Z]\\w* Watanabe$\"\n",
        "for i in message:\n",
        "  regex_foo = re.compile(foo)\n",
        "  print(regex_foo.search(i))"
      ],
      "metadata": {
        "id": "vtu_mGFbCm0e"
      },
      "execution_count": null,
      "outputs": []
    },
    {
      "cell_type": "code",
      "source": [
        "#p185 Date Detection\n",
        "#ENHANCE feedback why rejected\n",
        "def is_leapYear(year):\n",
        "  \"\"\"True if leapyear else False. Format YYYY\"\"\"\n",
        "  if year % 4 == 0 and not (year % 100 == 0 and year % 400 != 0):\n",
        "    return True\n",
        "  return False\n",
        "\n",
        "def check_date(date):\n",
        "  #check format\n",
        "  regex = \"([0-3]\\d)/([0-1]\\d)/([1-2]\\d{3})\"\n",
        "  regex_foo = re.compile(regex)\n",
        "  format_result = regex_foo.search(date)\n",
        "  if format_result != None:\n",
        "    print(format_result.group())\n",
        "    #check calendar validity\n",
        "    long_months = (1, 3, 5, 7, 8, 10, 12)\n",
        "    day, month, year = int(format_result.group(1)), int(format_result.group(2)), int(format_result.group(3))\n",
        "    if day > 31 or month > 12 or (day == 31 and month not in long_months):\n",
        "      return False\n",
        "    if month == 2:\n",
        "      if day > 29 or (day == 29 and not is_leapYear(year)):\n",
        "        return False\n",
        "    return True\n",
        "  return False"
      ],
      "metadata": {
        "id": "yEu1rflZD_Xl"
      },
      "execution_count": 20,
      "outputs": []
    },
    {
      "cell_type": "code",
      "source": [
        "#p186 Strong Password Detection\n",
        "#ENHANCE shorten, DRY\n",
        "\n",
        "def is_password_strong(password):\n",
        "  debug = True\n",
        "  min_length = 8\n",
        "  # check length >= 0 #checking with len() is up to 5 times faster, but the task demands a regex solution\n",
        "  length = re.compile(r\".{\" + str(min_length) + \"}.*\")\n",
        "  if length.search(password) == None:\n",
        "    if debug:\n",
        "      print(\"Password requires at least\", min_length, \"characters.\")\n",
        "    return False\n",
        "  # check upper  case characters\n",
        "  cases = re.compile(r\"[A-Z]+\")\n",
        "  if cases.search(password) == None:\n",
        "    if debug:\n",
        "      print(\"Password requires at least one upper case character.\")\n",
        "    return False\n",
        "  # check lower  case characters\n",
        "  cases = re.compile(r\"[a-z]+\")\n",
        "  if cases.search(password) == None:\n",
        "    if debug:\n",
        "      print(\"Password requires at least one lower case character.\")\n",
        "    return False\n",
        "  # check >= 1 digit\n",
        "  cases = re.compile(r\"\\d+\")\n",
        "  if cases.search(password) == None:\n",
        "    if debug:\n",
        "      print(\"Password requires at least one digit.\")\n",
        "    return False\n",
        "  return True\n",
        "start_time = timer()\n",
        "print(is_password_strong(\"blaa1AAAA\"))\n",
        "print(timer() - start_time)"
      ],
      "metadata": {
        "id": "PDPAISJbbMCh",
        "outputId": "1ff35ad8-5f5e-4521-f2f7-53f537986b9c",
        "colab": {
          "base_uri": "https://localhost:8080/"
        }
      },
      "execution_count": 62,
      "outputs": [
        {
          "output_type": "stream",
          "name": "stdout",
          "text": [
            "True\n",
            "0.0017985679996854742\n"
          ]
        }
      ]
    },
    {
      "cell_type": "code",
      "source": [
        "#p186 Regex strip()\n",
        "\n",
        "def regex_strip(string, char_to_delete=False):\n",
        "  if char_to_delete:\n",
        "    reg = str(char_to_delete)\n",
        "    reg = re.compile(reg)\n",
        "    return reg.sub(\"\", string)\n",
        "  else:\n",
        "    supporter = {\"strip at beginning\": \"^\\s*\", \"strip at end\": \"\\s*$\"}\n",
        "    for i in supporter.values():\n",
        "      reg = re.compile(i)\n",
        "      string = reg.sub(\"\", string)\n",
        "  return string\n",
        "\n",
        "regex_strip(\"Blabla foo bar.\", \"o\")"
      ],
      "metadata": {
        "id": "5ylEdiELgV8q",
        "outputId": "41b0a292-da5b-4248-d9fb-d9186cd77de4",
        "colab": {
          "base_uri": "https://localhost:8080/",
          "height": 36
        }
      },
      "execution_count": 81,
      "outputs": [
        {
          "output_type": "execute_result",
          "data": {
            "text/plain": [
              "'Blabla f bar.'"
            ],
            "application/vnd.google.colaboratory.intrinsic+json": {
              "type": "string"
            }
          },
          "metadata": {},
          "execution_count": 81
        }
      ]
    }
  ],
  "metadata": {
    "colab": {
      "collapsed_sections": [],
      "name": "Willkommen bei Colaboratory",
      "provenance": [],
      "include_colab_link": true
    },
    "kernelspec": {
      "display_name": "Python 3",
      "name": "python3"
    }
  },
  "nbformat": 4,
  "nbformat_minor": 0
}