{
  "cells": [
    {
      "cell_type": "markdown",
      "metadata": {
        "id": "view-in-github",
        "colab_type": "text"
      },
      "source": [
        "<a href=\"https://colab.research.google.com/github/alphakilo11/Python/blob/main/Schroedinger%20Kapitel%209.ipynb\" target=\"_parent\"><img src=\"https://colab.research.google.com/assets/colab-badge.svg\" alt=\"Open In Colab\"/></a>"
      ]
    },
    {
      "cell_type": "code",
      "source": [
        "import datetime\n",
        "print(datetime.date.min)\n",
        "print(datetime.date.max)\n",
        "print(datetime.date.today().strftime(\"%A\"))\n",
        "datum =datetime.date.fromisoformat(\"2012-12-24\")\n",
        "datum = datum.replace(year=2021, day=31)\n",
        "print(datum.strftime(\"%B\"))\n",
        "datetime.date.fromisoformat(\"2000-03-01\") - datetime.date.fromisoformat(\"2000-02-24\")\n",
        "datetime.date.fromisoformat(\"2001-03-01\") - datetime.date.fromisoformat(\"2001-02-24\")\n",
        "print(datetime.time.fromisoformat(\"17:03\").strftime(\"Es ist jetzt %H Uhr %M.\"))\n",
        "print(datetime.time.fromisoformat(\"23:55\").strftime(\"Um %H Uhr und %M Minuten betrat der große Schrödinger den Raum.\"))\n",
        "datetime.datetime.now().hour\n"
      ],
      "metadata": {
        "id": "H9-L8fY7M4TN",
        "outputId": "91c8a8fd-9c03-4b12-b279-db622651b290",
        "colab": {
          "base_uri": "https://localhost:8080/"
        }
      },
      "execution_count": 72,
      "outputs": [
        {
          "output_type": "stream",
          "name": "stdout",
          "text": [
            "0001-01-01\n",
            "9999-12-31\n",
            "Tuesday\n",
            "December\n",
            "Es ist jetzt 17 Uhr 03.\n",
            "Um 23 Uhr und 55 Minuten betrat der große Schrödinger den Raum.\n"
          ]
        },
        {
          "output_type": "execute_result",
          "data": {
            "text/plain": [
              "11"
            ]
          },
          "metadata": {},
          "execution_count": 72
        }
      ]
    },
    {
      "cell_type": "code",
      "source": [
        "def timefor():\n",
        "  jetzt = datetime.time(21,5)\n",
        "  morgens = datetime.time(7,30)\n",
        "  abends = datetime.time(17)\n",
        "  nachts = datetime.time(22)\n",
        "\n",
        "  if jetzt >= nachts or jetzt < morgens:\n",
        "    return \"schlafen\"\n",
        "  elif jetzt >= abends:\n",
        "    return \"Feierabend\"\n",
        "  return \"machen\"\n",
        "\n",
        "timefor()"
      ],
      "metadata": {
        "id": "qO7_maqyS-sZ",
        "outputId": "ebf1638f-6786-4b62-dcc0-628cfa461dd2",
        "colab": {
          "base_uri": "https://localhost:8080/",
          "height": 36
        }
      },
      "execution_count": 85,
      "outputs": [
        {
          "output_type": "execute_result",
          "data": {
            "text/plain": [
              "'Feierabend'"
            ],
            "application/vnd.google.colaboratory.intrinsic+json": {
              "type": "string"
            }
          },
          "metadata": {},
          "execution_count": 85
        }
      ]
    },
    {
      "cell_type": "code",
      "source": [
        "import re\n",
        "rega = \"Geschrieben.*?Uhr.\"\n",
        "foo = re.compile(rega).search(\"Ein weiterer Tag im Dschungel!\\n Geschrieben July 2020, 19. um 10 Uhr. Die Hitze war mörderisch.\")[0]\n",
        "print(foo)\n",
        "foo = foo[len(\"Geschrieben \"):]\n",
        "foo = datetime.datetime.strptime(foo, \"%B %Y, %d. um %H Uhr.\")\n",
        "foo"
      ],
      "metadata": {
        "id": "WVvuNetXaMp8",
        "outputId": "7093ceb2-1dd2-463b-b378-33eac1322ad1",
        "colab": {
          "base_uri": "https://localhost:8080/"
        }
      },
      "execution_count": 96,
      "outputs": [
        {
          "output_type": "stream",
          "name": "stdout",
          "text": [
            "Geschrieben July 2020, 19. um 10 Uhr.\n"
          ]
        },
        {
          "output_type": "execute_result",
          "data": {
            "text/plain": [
              "datetime.datetime(2020, 7, 19, 10, 0)"
            ]
          },
          "metadata": {},
          "execution_count": 96
        }
      ]
    },
    {
      "cell_type": "code",
      "source": [
        "import os\n",
        "aktuelle_unixtime = int(datetime.datetime.now().timestamp())\n",
        "geandert = int(os.path.getmtime(\"/content/sample_data/README.md\"))\n",
        "sekunden = aktuelle_unixtime - geandert\n",
        "print(sekunden, datetime.timedelta(seconds=sekunden))"
      ],
      "metadata": {
        "id": "hnr-8mXPd4B2",
        "outputId": "4ece5449-208c-402e-e896-0a3f77f31696",
        "colab": {
          "base_uri": "https://localhost:8080/"
        }
      },
      "execution_count": 103,
      "outputs": [
        {
          "output_type": "stream",
          "name": "stdout",
          "text": [
            "712729057 8249 days, 4:17:37\n"
          ]
        }
      ]
    },
    {
      "cell_type": "code",
      "source": [
        "# p348\n",
        "falsche_weihnacht = datetime.datetime(2020, 11, 7, 20, 25, 5)\n",
        "print(falsche_weihnacht)\n",
        "korrekturfaktor = datetime.timedelta(weeks=6, days=(5 + 365 *2), hours=-2, minutes=5, seconds=-5)\n",
        "richtige_weihnacht = falsche_weihnacht + korrekturfaktor\n",
        "print(richtige_weihnacht)"
      ],
      "metadata": {
        "id": "DyDc0XRsf4ew",
        "outputId": "a2bf0b1f-7d18-4cea-a9ce-c4bc8cedeb0b",
        "colab": {
          "base_uri": "https://localhost:8080/"
        }
      },
      "execution_count": 116,
      "outputs": [
        {
          "output_type": "stream",
          "name": "stdout",
          "text": [
            "2020-11-07 20:25:05\n",
            "2022-12-24 18:30:00\n"
          ]
        }
      ]
    },
    {
      "cell_type": "code",
      "source": [
        "jetzt = datetime.datetime.now()\n",
        "Weihnachten = datetime.datetime.fromisoformat(\"2022-12-24\")\n",
        "print(\"Noch,\", Weihnachten - jetzt, \"bis Weihnachten.\")"
      ],
      "metadata": {
        "id": "C8z3F1U5iAym",
        "outputId": "3cc0d8aa-5e86-4150-ed2d-27928d58db3a",
        "colab": {
          "base_uri": "https://localhost:8080/"
        }
      },
      "execution_count": 119,
      "outputs": [
        {
          "output_type": "stream",
          "name": "stdout",
          "text": [
            "Noch, 143 days, 11:25:47.143057 bis Weihnachten.\n"
          ]
        }
      ]
    }
  ],
  "metadata": {
    "colab": {
      "collapsed_sections": [],
      "name": "Willkommen bei Colaboratory",
      "provenance": [],
      "include_colab_link": true
    },
    "kernelspec": {
      "display_name": "Python 3",
      "name": "python3"
    }
  },
  "nbformat": 4,
  "nbformat_minor": 0
}