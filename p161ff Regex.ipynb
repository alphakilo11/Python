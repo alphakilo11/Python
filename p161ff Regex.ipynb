{
  "cells": [
    {
      "cell_type": "markdown",
      "metadata": {
        "id": "view-in-github",
        "colab_type": "text"
      },
      "source": [
        "<a href=\"https://colab.research.google.com/github/alphakilo11/Python/blob/main/p161ff%20Regex.ipynb\" target=\"_parent\"><img src=\"https://colab.research.google.com/assets/colab-badge.svg\" alt=\"Open In Colab\"/></a>"
      ]
    },
    {
      "cell_type": "code",
      "source": [
        "def isPhoneNumber(candidate):\n",
        "  digits = [\"0\", \"1\", \"2\", \"3\", \"4\", \"5\", \"6\", \"7\", \"8\", \"9\"] # str.isdigit() covers digits which cannot be used to form numbers in base 10, like the Kharosthi numbers.\n",
        "  if len(candidate) != 12:\n",
        "    return False\n",
        "  for index in [3, 7]:\n",
        "    if candidate[index] != \"-\":\n",
        "      return False\n",
        "  part1 = candidate[:3]\n",
        "  part2 = candidate[4:7]\n",
        "  part3 = candidate[-4:]\n",
        "  for part in [part1, part2, part3]:\n",
        "    for char in part:\n",
        "      if char not in digits:\n",
        "        return False\n",
        "  return True"
      ],
      "metadata": {
        "id": "peAemRGK4NS7"
      },
      "execution_count": 16,
      "outputs": []
    },
    {
      "cell_type": "code",
      "source": [
        "start_time = timer()\n",
        "foo = isPhoneNumber(\"415-555-4242\")\n",
        "print(timer() - start_time)\n",
        "print(foo)"
      ],
      "metadata": {
        "id": "AkIivXQc7RQz",
        "outputId": "0d26533e-70df-4b42-fd37-eb35725595c1",
        "colab": {
          "base_uri": "https://localhost:8080/"
        }
      },
      "execution_count": 20,
      "outputs": [
        {
          "output_type": "stream",
          "name": "stdout",
          "text": [
            "0.0001101889993151417\n",
            "True\n"
          ]
        }
      ]
    },
    {
      "cell_type": "code",
      "source": [
        "message = \"Call me at 294-340-5932 tomorrow. 123-456-7890 is my office number.\"\n",
        "start_time = timer()\n",
        "hits = []\n",
        "for i in range(len(message) - 12):\n",
        "  chunk = message[i:i+12]\n",
        "  if isPhoneNumber(chunk):\n",
        "    hits.append(chunk)\n",
        "print(timer() - start_time)\n",
        "print(hits)"
      ],
      "metadata": {
        "id": "PJSUYowc9Awx",
        "outputId": "73b5e8f5-5878-4a68-d7cf-ffad4c7c21d8",
        "colab": {
          "base_uri": "https://localhost:8080/"
        }
      },
      "execution_count": 37,
      "outputs": [
        {
          "output_type": "stream",
          "name": "stdout",
          "text": [
            "0.4428652750011679\n",
            "['294-340-5932', '123-456-7890', '704-015-1411', '704-017-2093']\n"
          ]
        }
      ]
    },
    {
      "cell_type": "code",
      "source": [
        "import re\n",
        "start_time = timer()\n",
        "phoneNumberRegex = re.compile(r\"\\d{3}-\\d{3}-\\d{4}\")\n",
        "hits = phoneNumberRegex.findall(message)\n",
        "print(timer() - start_time)\n",
        "print(hits)"
      ],
      "metadata": {
        "id": "MEM_amR8AnvV",
        "outputId": "75840fbb-31d2-4a5a-dc99-27081ed2b807",
        "colab": {
          "base_uri": "https://localhost:8080/"
        }
      },
      "execution_count": 41,
      "outputs": [
        {
          "output_type": "stream",
          "name": "stdout",
          "text": [
            "0.022052104999602307\n",
            "['294-340-5932', '123-456-7890', '704-015-1411', '704-017-2093']\n"
          ]
        }
      ]
    },
    {
      "cell_type": "code",
      "source": [
        "len(message)"
      ],
      "metadata": {
        "id": "B2wUdewCD80l",
        "outputId": "e04ba1bd-d85d-47e0-a2cd-3e4018723e60",
        "colab": {
          "base_uri": "https://localhost:8080/"
        }
      },
      "execution_count": 42,
      "outputs": [
        {
          "output_type": "execute_result",
          "data": {
            "text/plain": [
              "710008"
            ]
          },
          "metadata": {},
          "execution_count": 42
        }
      ]
    }
  ],
  "metadata": {
    "colab": {
      "collapsed_sections": [],
      "name": "Willkommen bei Colaboratory",
      "provenance": [],
      "include_colab_link": true
    },
    "kernelspec": {
      "display_name": "Python 3",
      "name": "python3"
    }
  },
  "nbformat": 4,
  "nbformat_minor": 0
}