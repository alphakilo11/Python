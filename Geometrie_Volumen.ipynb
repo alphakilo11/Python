{
  "cells": [
    {
      "cell_type": "markdown",
      "metadata": {
        "id": "view-in-github",
        "colab_type": "text"
      },
      "source": [
        "<a href=\"https://colab.research.google.com/github/alphakilo11/Python/blob/main/Geometrie_Volumen.ipynb\" target=\"_parent\"><img src=\"https://colab.research.google.com/assets/colab-badge.svg\" alt=\"Open In Colab\"/></a>"
      ]
    },
    {
      "cell_type": "code",
      "source": [
        "pi = 3.14\n",
        "def volumen_zylinder(Grundflaechenradius,Hoehe):\n",
        "  return pi * Grundflaechenradius ** 2 * Hoehe\n",
        "\n",
        "def volumen_kegel(Grundflaechenradius, Hoehe):\n",
        "  return 1/3 * pi * Grundflaechenradius ** 2 * Hoehe\n",
        "\n",
        "def volumen_kugel(Radius):\n",
        "  return 4/3 * pi * Radius **3\n"
      ],
      "metadata": {
        "id": "6dkLGQorD973"
      },
      "execution_count": 2,
      "outputs": []
    }
  ],
  "metadata": {
    "colab": {
      "collapsed_sections": [],
      "name": "Willkommen bei Colaboratory",
      "toc_visible": true,
      "provenance": [],
      "include_colab_link": true
    },
    "kernelspec": {
      "display_name": "Python 3",
      "name": "python3"
    }
  },
  "nbformat": 4,
  "nbformat_minor": 0
}