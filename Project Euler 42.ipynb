{
  "cells": [
    {
      "cell_type": "markdown",
      "metadata": {
        "id": "view-in-github",
        "colab_type": "text"
      },
      "source": [
        "<a href=\"https://colab.research.google.com/github/alphakilo11/Python/blob/main/Project%20Euler%2042.ipynb\" target=\"_parent\"><img src=\"https://colab.research.google.com/assets/colab-badge.svg\" alt=\"Open In Colab\"/></a>"
      ]
    },
    {
      "cell_type": "code",
      "source": [
        "# gem. Geogebra gibt es nur eine positive Lösung für die Formel\n",
        "\n",
        "def coded_triangle(number):\n",
        "  return 0.5 * number * (number + 1)\n",
        "def word_value(word):\n",
        "  sum = 0\n",
        "  for i in word:\n",
        "    sum += ord(i) - 64\n",
        "  return sum"
      ],
      "metadata": {
        "id": "JeZyK1Ql88px",
        "outputId": "1ef0a47b-3ed7-44ee-fca8-4da052ffcaff",
        "colab": {
          "base_uri": "https://localhost:8080/"
        }
      },
      "execution_count": 15,
      "outputs": [
        {
          "output_type": "stream",
          "name": "stdout",
          "text": [
            "1.0\n",
            "3.0\n",
            "6.0\n",
            "10.0\n",
            "15.0\n",
            "21.0\n",
            "28.0\n",
            "36.0\n",
            "45.0\n",
            "55.0\n"
          ]
        }
      ]
    },
    {
      "cell_type": "code",
      "source": [
        "triangle_numbers = []\n",
        "for i in range(1, 20 * 26):\n",
        "  triangle_numbers.append(coded_triangle(i))  "
      ],
      "metadata": {
        "id": "xL7oo9TiRnZa"
      },
      "execution_count": 6,
      "outputs": []
    },
    {
      "cell_type": "code",
      "source": [
        "with open(\"words.txt\") as file:\n",
        "  wordlist = file.read()\n",
        "wordlist = wordlist.replace('\"', '')\n",
        "wordlist = wordlist.split(\",\")\n",
        "print(wordlist[0])\n",
        "len(wordlist)"
      ],
      "metadata": {
        "id": "oq02h_YBU1n0",
        "outputId": "fee65b93-c6c2-4c5c-c6c2-bc9865143c88",
        "colab": {
          "base_uri": "https://localhost:8080/"
        }
      },
      "execution_count": 14,
      "outputs": [
        {
          "output_type": "stream",
          "name": "stdout",
          "text": [
            "A\n"
          ]
        },
        {
          "output_type": "execute_result",
          "data": {
            "text/plain": [
              "1786"
            ]
          },
          "metadata": {},
          "execution_count": 14
        }
      ]
    },
    {
      "cell_type": "code",
      "source": [
        "triangle_words = 0\n",
        "for word in wordlist:\n",
        "  if word_value(word) in triangle_numbers:\n",
        "    triangle_words += 1\n",
        "triangle_words"
      ],
      "metadata": {
        "id": "FM4UqZ0FaK1J",
        "outputId": "c8b5193b-e13b-4285-8186-b0fedd53c802",
        "colab": {
          "base_uri": "https://localhost:8080/"
        }
      },
      "execution_count": 18,
      "outputs": [
        {
          "output_type": "execute_result",
          "data": {
            "text/plain": [
              "162"
            ]
          },
          "metadata": {},
          "execution_count": 18
        }
      ]
    }
  ],
  "metadata": {
    "colab": {
      "collapsed_sections": [],
      "name": "Willkommen bei Colaboratory",
      "provenance": [],
      "include_colab_link": true
    },
    "kernelspec": {
      "display_name": "Python 3",
      "name": "python3"
    }
  },
  "nbformat": 4,
  "nbformat_minor": 0
}