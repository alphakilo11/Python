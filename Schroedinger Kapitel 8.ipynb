{
  "cells": [
    {
      "cell_type": "markdown",
      "metadata": {
        "id": "view-in-github",
        "colab_type": "text"
      },
      "source": [
        "<a href=\"https://colab.research.google.com/github/alphakilo11/Python/blob/main/Schroedinger%20Kapitel%208.ipynb\" target=\"_parent\"><img src=\"https://colab.research.google.com/assets/colab-badge.svg\" alt=\"Open In Colab\"/></a>"
      ]
    },
    {
      "cell_type": "code",
      "source": [
        "# p271\n",
        "class Spam:\n",
        "  def __init__(self):\n",
        "    print(\"Willkommen in der Welt der OOP!\")\n",
        "  def eine_methode(self):\n",
        "    print(42)\n",
        "# p 272\n",
        "class Spam:\n",
        "  \"\"\"Eine Klasse, nur als einfaches Beispiel\"\"\"\n",
        "  def __init__(self):\n",
        "    self.ein_attribut = 42\n",
        "    print(\"Hallo in der Welt der OOP!\")\n",
        "  def eine_methode(self):\n",
        "    print(self.ein_attribut)\n",
        "\n",
        "# p 277\n",
        "class Orakel:\n",
        "  def __init__(self):\n",
        "    self.__antworten = [\"Ja\", \"Nein\", \"Vielleicht\"]\n",
        "    self.letzte_antwort = \"\"\n",
        "  def question(self):\n",
        "    import random\n",
        "    #input(\"Stelle deine Frage:\")\n",
        "    antwort = self.antworten[random.randint(0,len(self.antworten) - 1)]\n",
        "    while antwort == self.letzte_antwort:\n",
        "      antwort = self.antworten[random.randint(0,len(self.antworten) - 1)]\n",
        "    self.letzte_antwort = antwort\n",
        "    return antwort\n",
        "  def get_antworten(self):\n",
        "    return self.__antworten\n",
        "  def set_antworten(self, liste_der_antworten):\n",
        "    if type(liste_der_antworten) == list or type(liste_der_antworten) == tuple:\n",
        "      if len(liste_der_antworten) > 1:\n",
        "        self.__antworten = liste_der_antworten\n",
        "      else:\n",
        "        return None\n",
        "    else:\n",
        "      return None\n",
        "  antworten = property(get_antworten, set_antworten)\n",
        "  \n",
        "\n",
        "# p 295\n",
        "class Mundharmonika:\n",
        "  def __init__(self):\n",
        "    self.__stimmzungen = None\n",
        "    self.__tonumfang = None\n",
        "  def set_stimmzungen(self, number):\n",
        "    self.__stimmzungen = int(number)\n",
        "  def get_stimmzungen(self):\n",
        "    return self.__stimmzungen\n",
        "  stimmzungen = property(get_stimmzungen, set_stimmzungen)\n",
        "\n",
        "# p 300\n",
        "class Orgel:\n",
        "  def __init__(self):\n",
        "    self.__pfeifen = None\n",
        "  def __berechnen(self):\n",
        "    print(\"ertappt!\")\n",
        "  def blabla(self):\n",
        "    pass\n",
        "  @property\n",
        "  def pfeifen(self):\n",
        "    return self.__pfeifen\n",
        "  @pfeifen.setter\n",
        "  def pfeifen(self, wert):\n",
        "    if wert >= 0:\n",
        "      self.__pfeifen = wert\n",
        "    else:\n",
        "      print(\"Die Orgel kann nicht weniger als 0 Pfeifen haben.\")\n",
        "      return None\n",
        "\n",
        "# p 307\n",
        "class Wuerfel:\n",
        "  def __init__(self, seiten=6):\n",
        "    if isinstance(seiten, (int, float)):\n",
        "      self.seiten = range(1, int(seiten) + 1)\n",
        "    elif isinstance(seiten, (list, tuple)):\n",
        "      self.seiten = seiten\n",
        "    else:\n",
        "      print(\"Parameter kann nicht verarbeitet werden. Benötigt wird int, float, list oder tuple\")\n",
        "      return None\n",
        "  def wurf(self):\n",
        "    from random import choice\n",
        "    return random.choice(self.seiten)\n",
        "\n",
        "# p 308\n",
        "\n",
        "class RandomPlayer(Wuerfel):\n",
        "  def wurf(self):\n",
        "    import random\n",
        "    if not hasattr(self, \"remainingList\") or len(self.remainingList) < 1:\n",
        "      self.remainingList = self.seiten.copy()\n",
        "    return self.remainingList.pop(random.randint(0, len(self.remainingList) - 1))\n"
      ],
      "metadata": {
        "id": "rJRsX-oXxdag"
      },
      "execution_count": 13,
      "outputs": []
    },
    {
      "cell_type": "code",
      "source": [
        "bestplaylistintheworld = RandomPlayer([\"Queen\", \"Led Zeppelin\", \"Michael Jackson\", \"Tina Turner\"])"
      ],
      "metadata": {
        "id": "ggPQe-RcA9Jf"
      },
      "execution_count": 14,
      "outputs": []
    },
    {
      "cell_type": "code",
      "source": [
        "for i in range(10):\n",
        "  print(bestplaylistintheworld.wurf())"
      ],
      "metadata": {
        "id": "uiBrhkaVByj5",
        "outputId": "6afba0d3-a178-4582-fc96-ab11364c55c6",
        "colab": {
          "base_uri": "https://localhost:8080/"
        }
      },
      "execution_count": 16,
      "outputs": [
        {
          "output_type": "stream",
          "name": "stdout",
          "text": [
            "Tina Turner\n",
            "Queen\n",
            "Queen\n",
            "Tina Turner\n",
            "Michael Jackson\n",
            "Led Zeppelin\n",
            "Led Zeppelin\n",
            "Queen\n",
            "Michael Jackson\n",
            "Tina Turner\n"
          ]
        }
      ]
    },
    {
      "cell_type": "code",
      "source": [
        "class Original:\n",
        "  bar = \"Hello World\"\n",
        "  def __init__(self):\n",
        "    print(\"Schrödinger!\")\n",
        "class Abgeleitet(Original):\n",
        "  def __init__(self):\n",
        "    print(\"Der Täter war:\")\n",
        "    super(Abgeleitet, self).__init__()\n",
        "lösung_des_falls = Abgeleitet()"
      ],
      "metadata": {
        "id": "fwcdmWx7i-6a",
        "outputId": "6b8fad7c-e6b8-4251-ac3b-904aa375bd8b",
        "colab": {
          "base_uri": "https://localhost:8080/"
        }
      },
      "execution_count": 36,
      "outputs": [
        {
          "output_type": "stream",
          "name": "stdout",
          "text": [
            "Der Täter war:\n",
            "Schrödinger!\n"
          ]
        }
      ]
    },
    {
      "cell_type": "code",
      "source": [
        "Original.bar = \"well\""
      ],
      "metadata": {
        "id": "FXm2G5lbrkE-"
      },
      "execution_count": 46,
      "outputs": []
    },
    {
      "cell_type": "code",
      "source": [
        "lösung_des_falls.bar"
      ],
      "metadata": {
        "id": "3qp7TX56rmPp",
        "outputId": "7262ecdb-351f-44f9-81c6-f364f4c6b6ff",
        "colab": {
          "base_uri": "https://localhost:8080/",
          "height": 36
        }
      },
      "execution_count": 48,
      "outputs": [
        {
          "output_type": "execute_result",
          "data": {
            "text/plain": [
              "'hello!'"
            ],
            "application/vnd.google.colaboratory.intrinsic+json": {
              "type": "string"
            }
          },
          "metadata": {},
          "execution_count": 48
        }
      ]
    },
    {
      "cell_type": "code",
      "source": [
        ""
      ],
      "metadata": {
        "id": "TMXZcFP3TyHz"
      },
      "execution_count": null,
      "outputs": []
    }
  ],
  "metadata": {
    "colab": {
      "collapsed_sections": [],
      "name": "Willkommen bei Colaboratory",
      "provenance": [],
      "include_colab_link": true
    },
    "kernelspec": {
      "display_name": "Python 3",
      "name": "python3"
    }
  },
  "nbformat": 4,
  "nbformat_minor": 0
}