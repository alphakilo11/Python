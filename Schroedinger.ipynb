{
  "cells": [
    {
      "cell_type": "markdown",
      "metadata": {
        "id": "view-in-github",
        "colab_type": "text"
      },
      "source": [
        "<a href=\"https://colab.research.google.com/github/alphakilo11/Python/blob/main/Schroedinger.ipynb\" target=\"_parent\"><img src=\"https://colab.research.google.com/assets/colab-badge.svg\" alt=\"Open In Colab\"/></a>"
      ]
    },
    {
      "cell_type": "code",
      "source": [
        "# p271\n",
        "class Spam:\n",
        "  def __init__(self):\n",
        "    print(\"Willkommen in der Welt der OOP!\")\n",
        "  def eine_methode(self):\n",
        "    print(42)\n",
        "# p 272\n",
        "class Spam:\n",
        "  \"\"\"Eine Klasse, nur als einfaches Beispiel\"\"\"\n",
        "  def __init__(self):\n",
        "    self.ein_attribut = 42\n",
        "    print(\"Hallo in der Welt der OOP!\")\n",
        "  def eine_methode(self):\n",
        "    print(self.ein_attribut)\n",
        "\n",
        "# p 277\n",
        "class Orakel:\n",
        "  def __init__(self):\n",
        "    self.__antworten = [\"Ja\", \"Nein\", \"Vielleicht\"]\n",
        "    self.letzte_antwort = \"\"\n",
        "  def question(self):\n",
        "    import random\n",
        "    #input(\"Stelle deine Frage:\")\n",
        "    antwort = self.antworten[random.randint(0,len(self.antworten) - 1)]\n",
        "    while antwort == self.letzte_antwort:\n",
        "      antwort = self.antworten[random.randint(0,len(self.antworten) - 1)]\n",
        "    self.letzte_antwort = antwort\n",
        "    return antwort\n",
        "  def get_antworten(self):\n",
        "    return self.__antworten\n",
        "  def set_antworten(self, liste_der_antworten):\n",
        "    if type(liste_der_antworten) == list or type(liste_der_antworten) == tuple:\n",
        "      if len(liste_der_antworten) > 1:\n",
        "        self.__antworten = liste_der_antworten\n",
        "      else:\n",
        "        return None\n",
        "    else:\n",
        "      return None\n",
        "  antworten = property(get_antworten, set_antworten)\n",
        "  \n",
        "\n",
        "# p 295\n",
        "class Mundharmonika:\n",
        "  def __init__(self):\n",
        "    self.__stimmzungen = None\n",
        "    self.__tonumfang = None\n",
        "  def set_stimmzungen(self, number):\n",
        "    self.__stimmzungen = int(number)\n",
        "  def get_stimmzungen(self):\n",
        "    return self.__stimmzungen\n",
        "  stimmzungen = property(get_stimmzungen, set_stimmzungen)\n",
        "\n",
        "# p 300\n",
        "class Orgel:\n",
        "  def __init__(self):\n",
        "    self.__pfeifen = None\n",
        "  def __berechnen(self):\n",
        "    print(\"ertappt!\")\n",
        "  def blabla(self):\n",
        "    pass\n",
        "  @property\n",
        "  def pfeifen(self):\n",
        "    return self.__pfeifen\n",
        "  @pfeifen.setter\n",
        "  def pfeifen(self, wert):\n",
        "    if wert >= 0:\n",
        "      self.__pfeifen = wert\n",
        "    else:\n",
        "      print(\"Die Orgel kann nicht weniger als 0 Pfeifen haben.\")\n",
        "      return None\n",
        "\n",
        "# p 307\n",
        "class Wuerfel:\n",
        "  def __init__(self, seiten=6):\n",
        "    if isinstance(seiten, (int, float)):\n",
        "      self.seiten = range(1, int(seiten) + 1)\n",
        "    elif isinstance(seiten, (list, tuple)):\n",
        "      self.seiten = seiten\n",
        "    else:\n",
        "      print(\"Parameter kann nicht verarbeitet werden. Benötigt wird int, float, list oder tuple\")\n",
        "      return None\n",
        "  def wurf(self):\n",
        "    from random import choice\n",
        "    return random.choice(self.seiten)\n",
        "\n",
        "# p 308\n",
        "\n",
        "class RandomPlayer(Wuerfel):\n",
        "  def wurf(self):\n",
        "    from random import randint\n",
        "    if not hasattr(self, \"remainingList\") or len(self.remainingList) < 1:\n",
        "      self.remainingList = self.seiten.copy()\n",
        "    print(self.remainingList)\n",
        "    return self.remainingList.pop(random.randint(0, len(self.remainingList) + 1))\n"
      ],
      "metadata": {
        "id": "rJRsX-oXxdag"
      },
      "execution_count": 190,
      "outputs": []
    },
    {
      "cell_type": "code",
      "source": [
        "bestplaylistintheworld = RandomPlayer([\"Queen\", \"Led Zeppelin\", \"Michael Jackson\", \"Tina Turner\"])"
      ],
      "metadata": {
        "id": "ggPQe-RcA9Jf"
      },
      "execution_count": 191,
      "outputs": []
    },
    {
      "cell_type": "code",
      "source": [
        "for i in range(10):\n",
        "  bestplaylistintheworld.wurf()"
      ],
      "metadata": {
        "id": "uiBrhkaVByj5",
        "outputId": "468ea721-58cd-4ccd-f875-1fc48ec5bbe4",
        "colab": {
          "base_uri": "https://localhost:8080/",
          "height": 306
        }
      },
      "execution_count": 192,
      "outputs": [
        {
          "output_type": "stream",
          "name": "stdout",
          "text": [
            "['Queen', 'Led Zeppelin', 'Michael Jackson', 'Tina Turner']\n"
          ]
        },
        {
          "output_type": "error",
          "ename": "IndexError",
          "evalue": "ignored",
          "traceback": [
            "\u001b[0;31m---------------------------------------------------------------------------\u001b[0m",
            "\u001b[0;31mIndexError\u001b[0m                                Traceback (most recent call last)",
            "\u001b[0;32m<ipython-input-192-22d5ea608f53>\u001b[0m in \u001b[0;36m<module>\u001b[0;34m()\u001b[0m\n\u001b[1;32m      1\u001b[0m \u001b[0;32mfor\u001b[0m \u001b[0mi\u001b[0m \u001b[0;32min\u001b[0m \u001b[0mrange\u001b[0m\u001b[0;34m(\u001b[0m\u001b[0;36m10\u001b[0m\u001b[0;34m)\u001b[0m\u001b[0;34m:\u001b[0m\u001b[0;34m\u001b[0m\u001b[0;34m\u001b[0m\u001b[0m\n\u001b[0;32m----> 2\u001b[0;31m   \u001b[0mbestplaylistintheworld\u001b[0m\u001b[0;34m.\u001b[0m\u001b[0mwurf\u001b[0m\u001b[0;34m(\u001b[0m\u001b[0;34m)\u001b[0m\u001b[0;34m\u001b[0m\u001b[0;34m\u001b[0m\u001b[0m\n\u001b[0m",
            "\u001b[0;32m<ipython-input-190-cf8c6bbec333>\u001b[0m in \u001b[0;36mwurf\u001b[0;34m(self)\u001b[0m\n\u001b[1;32m     92\u001b[0m       \u001b[0mself\u001b[0m\u001b[0;34m.\u001b[0m\u001b[0mremainingList\u001b[0m \u001b[0;34m=\u001b[0m \u001b[0mself\u001b[0m\u001b[0;34m.\u001b[0m\u001b[0mseiten\u001b[0m\u001b[0;34m.\u001b[0m\u001b[0mcopy\u001b[0m\u001b[0;34m(\u001b[0m\u001b[0;34m)\u001b[0m\u001b[0;34m\u001b[0m\u001b[0;34m\u001b[0m\u001b[0m\n\u001b[1;32m     93\u001b[0m     \u001b[0mprint\u001b[0m\u001b[0;34m(\u001b[0m\u001b[0mself\u001b[0m\u001b[0;34m.\u001b[0m\u001b[0mremainingList\u001b[0m\u001b[0;34m)\u001b[0m\u001b[0;34m\u001b[0m\u001b[0;34m\u001b[0m\u001b[0m\n\u001b[0;32m---> 94\u001b[0;31m     \u001b[0;32mreturn\u001b[0m \u001b[0mself\u001b[0m\u001b[0;34m.\u001b[0m\u001b[0mremainingList\u001b[0m\u001b[0;34m.\u001b[0m\u001b[0mpop\u001b[0m\u001b[0;34m(\u001b[0m\u001b[0mrandom\u001b[0m\u001b[0;34m.\u001b[0m\u001b[0mrandint\u001b[0m\u001b[0;34m(\u001b[0m\u001b[0;36m0\u001b[0m\u001b[0;34m,\u001b[0m \u001b[0mlen\u001b[0m\u001b[0;34m(\u001b[0m\u001b[0mself\u001b[0m\u001b[0;34m.\u001b[0m\u001b[0mremainingList\u001b[0m\u001b[0;34m)\u001b[0m \u001b[0;34m+\u001b[0m \u001b[0;36m1\u001b[0m\u001b[0;34m)\u001b[0m\u001b[0;34m)\u001b[0m\u001b[0;34m\u001b[0m\u001b[0;34m\u001b[0m\u001b[0m\n\u001b[0m",
            "\u001b[0;31mIndexError\u001b[0m: pop index out of range"
          ]
        }
      ]
    },
    {
      "cell_type": "code",
      "source": [
        "bestplaylistintheworld.remainingList[random.randint(0, len(bestplaylistintheworld.remainingList) + 1)]"
      ],
      "metadata": {
        "id": "gOrRGFcqF4ZA",
        "outputId": "e91ec2b1-c39d-477a-c4a3-45e22fd8e044",
        "colab": {
          "base_uri": "https://localhost:8080/",
          "height": 174
        }
      },
      "execution_count": 198,
      "outputs": [
        {
          "output_type": "error",
          "ename": "IndexError",
          "evalue": "ignored",
          "traceback": [
            "\u001b[0;31m---------------------------------------------------------------------------\u001b[0m",
            "\u001b[0;31mIndexError\u001b[0m                                Traceback (most recent call last)",
            "\u001b[0;32m<ipython-input-198-72eee7a72db2>\u001b[0m in \u001b[0;36m<module>\u001b[0;34m()\u001b[0m\n\u001b[0;32m----> 1\u001b[0;31m \u001b[0mbestplaylistintheworld\u001b[0m\u001b[0;34m.\u001b[0m\u001b[0mremainingList\u001b[0m\u001b[0;34m[\u001b[0m\u001b[0mrandom\u001b[0m\u001b[0;34m.\u001b[0m\u001b[0mrandint\u001b[0m\u001b[0;34m(\u001b[0m\u001b[0;36m0\u001b[0m\u001b[0;34m,\u001b[0m \u001b[0mlen\u001b[0m\u001b[0;34m(\u001b[0m\u001b[0mbestplaylistintheworld\u001b[0m\u001b[0;34m.\u001b[0m\u001b[0mremainingList\u001b[0m\u001b[0;34m)\u001b[0m \u001b[0;34m+\u001b[0m \u001b[0;36m1\u001b[0m\u001b[0;34m)\u001b[0m\u001b[0;34m]\u001b[0m\u001b[0;34m\u001b[0m\u001b[0;34m\u001b[0m\u001b[0m\n\u001b[0m",
            "\u001b[0;31mIndexError\u001b[0m: list index out of range"
          ]
        }
      ]
    },
    {
      "cell_type": "code",
      "source": [
        "bestplaylistintheworld.remainingList[2]"
      ],
      "metadata": {
        "id": "iQ3Vyd9YGJlO",
        "outputId": "37a6495e-b999-45c9-d812-2ff66d0c9761",
        "colab": {
          "base_uri": "https://localhost:8080/",
          "height": 36
        }
      },
      "execution_count": 203,
      "outputs": [
        {
          "output_type": "execute_result",
          "data": {
            "text/plain": [
              "'Michael Jackson'"
            ],
            "application/vnd.google.colaboratory.intrinsic+json": {
              "type": "string"
            }
          },
          "metadata": {},
          "execution_count": 203
        }
      ]
    }
  ],
  "metadata": {
    "colab": {
      "collapsed_sections": [],
      "name": "Willkommen bei Colaboratory",
      "provenance": [],
      "include_colab_link": true
    },
    "kernelspec": {
      "display_name": "Python 3",
      "name": "python3"
    }
  },
  "nbformat": 4,
  "nbformat_minor": 0
}