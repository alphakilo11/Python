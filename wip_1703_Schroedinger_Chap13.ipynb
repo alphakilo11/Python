{
  "cells": [
    {
      "cell_type": "markdown",
      "metadata": {
        "id": "view-in-github",
        "colab_type": "text"
      },
      "source": [
        "<a href=\"https://colab.research.google.com/github/alphakilo11/Python/blob/main/wip_1703_Schroedinger_Chap13.ipynb\" target=\"_parent\"><img src=\"https://colab.research.google.com/assets/colab-badge.svg\" alt=\"Open In Colab\"/></a>"
      ]
    },
    {
      "cell_type": "markdown",
      "source": [
        "Schrödinger Kapitel 13"
      ],
      "metadata": {
        "id": "AGNSyG2xoMSX"
      }
    },
    {
      "cell_type": "code",
      "source": [
        "import sqlite3\n",
        "verbindung = sqlite3.connect(\"spam.db\")\n",
        "cursor = verbindung.cursor()\n",
        "sql = '''CREATE TABLE eggs(\n",
        "  cooler_typ TEXT,\n",
        "  glückszahl INTEGER\n",
        ");'''\n",
        "cursor.execute(sql)\n",
        "verbindung.commit()\n",
        "verbindung.close()"
      ],
      "metadata": {
        "id": "-Gn8mZWNoPA6"
      },
      "execution_count": 1,
      "outputs": []
    },
    {
      "cell_type": "code",
      "source": [
        "# S 450\n",
        "verbindung = sqlite3.connect(\"spam.db\")\n",
        "cursor = verbindung.cursor()\n",
        "sql = '''INSERT INTO eggs(\n",
        "  cooler_typ,\n",
        "  glückszahl\n",
        ")\n",
        "VALUES(\"Schrödinger\", 42), ('Hannes', 13), ('Lilly', 1024);'''\n",
        "cursor.execute(sql)\n",
        "verbindung.commit()\n",
        "verbindung.close()"
      ],
      "metadata": {
        "id": "An4ZicOl032t"
      },
      "execution_count": 2,
      "outputs": []
    },
    {
      "cell_type": "code",
      "source": [
        "def erzeuge_tabellen(path, sql):\n",
        "  \"\"\"\n",
        "  Creates a SQL db at given path and executes list of sql instructions\n",
        "  demonstrated for CREATE TABLE and INSERT INTO\n",
        "  \"\"\"\n",
        "  # establish database connection\n",
        "  verbindung = sqlite3.connect(path)\n",
        "  cursor = verbindung.cursor()\n",
        "\n",
        "\n",
        "\n",
        "  for instruction in sql:\n",
        "    # delete table if it already exists\n",
        "    import re\n",
        "    regex = re.compile('CREATE TABLE.*\\(') # this might not find an empty table\n",
        "    step = regex.findall(instruction)\n",
        "    if len(step) > 0: # check if a CREATE TABLE instruction has been issued\n",
        "      step = step[0][12:-1].strip()\n",
        "      sql = 'DROP TABLE IF EXISTS ' + step + ';'\n",
        "      cursor.execute(sql)\n",
        "    # execute instructions\n",
        "    cursor.execute(instruction)\n",
        "  verbindung.commit()\n",
        "  verbindung.close()"
      ],
      "metadata": {
        "id": "K7oWh5re2WqA"
      },
      "execution_count": 3,
      "outputs": []
    },
    {
      "cell_type": "code",
      "source": [
        "foo = ['CREATE TABLE viren(name TEXT PRIMARY KEY, typ INTEGER, status TEXT);', '''\n",
        "CREATE TABLE viren_typ(typ INTEGER PRIMARY KEY, groesse INT, signatur TEXT);''']\n",
        "erzeuge_tabellen('strategie.db', foo)"
      ],
      "metadata": {
        "id": "7HHTAD8s3tPn"
      },
      "execution_count": 4,
      "outputs": []
    },
    {
      "cell_type": "code",
      "source": [
        "foo = ['''\n",
        "INSERT INTO viren_typ(typ, groesse, signatur)\n",
        "VALUES(1,128,'ABAABA'),\n",
        "(2, 256, 'ABAABA'),\n",
        "(3,256,'BCCBCB')''', '''\n",
        "INSERT INTO viren(name, typ, status)\n",
        "VALUES ('T800', 1, 'aktiv'),\n",
        "  ('T803', 2, 'aktiv'),\n",
        "  ('Bit13', 3, 'aktiv'),\n",
        "  ('Gorf13', 1, 'aktiv'),\n",
        "  ('Gorf7', 2, 'aktiv')'''\n",
        "  ]\n",
        "erzeuge_tabellen('strategie.db', foo)"
      ],
      "metadata": {
        "id": "NSL7tmd35AoM"
      },
      "execution_count": 5,
      "outputs": []
    },
    {
      "cell_type": "code",
      "source": [
        "def sql_abfrage(path, sql):\n",
        "  \"\"\"Creates a SQL db at given path and executes list of sql instructions\"\"\"\n",
        "\n",
        "  verbindung = sqlite3.connect(path)\n",
        "  cursor = verbindung.cursor()\n",
        "  foo = []\n",
        "  for instruction in sql:\n",
        "    cursor.execute(instruction)\n",
        "    foo.append(cursor.fetchall())\n",
        "  verbindung.close()\n",
        "  return foo\n",
        "\n",
        "spam = sql_abfrage('strategie.db', ['SELECT * FROM viren_typ;', 'SELECT * FROM viren;', 'SELECT * FROM vorfall;'])\n",
        "spam"
      ],
      "metadata": {
        "colab": {
          "base_uri": "https://localhost:8080/"
        },
        "id": "vLbfIFqo6XKp",
        "outputId": "1b8c28a4-9737-4907-b344-68dc99f12bea"
      },
      "execution_count": 10,
      "outputs": [
        {
          "output_type": "execute_result",
          "data": {
            "text/plain": [
              "[[(1, 128, 'ABAABA'), (2, 256, 'ABAABA'), (3, 256, 'BCCBCB')],\n",
              " [('T800', 1, 'aktiv'),\n",
              "  ('T803', 2, 'aktiv'),\n",
              "  ('Bit13', 3, 'aktiv'),\n",
              "  ('Gorf13', 1, 'aktiv'),\n",
              "  ('Gorf7', 2, 'aktiv')],\n",
              " []]"
            ]
          },
          "metadata": {},
          "execution_count": 10
        }
      ]
    },
    {
      "cell_type": "code",
      "source": [
        "def sql_create_table_string(table_name, table_columns):\n",
        "  \"\"\"\n",
        "  Constructs a SQL-String to create a table named table_name with columns provided in table_colums\n",
        "  format: [column_name(str), data_type(str), primary_key(bool)]\n",
        "  \"\"\"\n",
        "  step = '('\n",
        "  for column in table_columns:\n",
        "    step += column[0] + \" \" + column[1]\n",
        "    if column[2] == True:\n",
        "      step += ' PRIMARY KEY'\n",
        "    step += ', '\n",
        "  step = step[:-2] # remove the last comma\n",
        "  step += ')'\n",
        "  return 'CREATE TABLE ' + table_name + step + ';'"
      ],
      "metadata": {
        "id": "b5p7zXbYHwUj"
      },
      "execution_count": 8,
      "outputs": []
    },
    {
      "cell_type": "code",
      "source": [
        "spam = [\n",
        "    ['virus', 'TEXT', True],\n",
        "    ['ort', 'TEXT', False],\n",
        "    ['vorfall', 'TEXT', False]\n",
        "]\n",
        "erzeuge_tabellen('strategie.db', [sql_create_table_string('vorfall', spam)])"
      ],
      "metadata": {
        "id": "rWJE1-cnKTHu"
      },
      "execution_count": 9,
      "outputs": []
    },
    {
      "cell_type": "code",
      "source": [
        "foo = ['''\n",
        "INSERT INTO vorfall(virus, ort, vorfall)\n",
        "VALUES('T800','HD','NONE'),\n",
        "(\"Gorf7\", 'BIOS', 'Stoerung'),\n",
        "('T800','RAM','NONE'),\n",
        "('Gorf3', 'CPU', 'NONE')\n",
        "'''\n",
        "  ]\n",
        "erzeuge_tabellen('strategie.db', foo)"
      ],
      "metadata": {
        "id": "nufJvAkSQzRw",
        "outputId": "0c024886-42cd-4c82-8f57-e7a90369dbc4",
        "colab": {
          "base_uri": "https://localhost:8080/",
          "height": 344
        }
      },
      "execution_count": 11,
      "outputs": [
        {
          "output_type": "error",
          "ename": "IntegrityError",
          "evalue": "ignored",
          "traceback": [
            "\u001b[0;31m---------------------------------------------------------------------------\u001b[0m",
            "\u001b[0;31mIntegrityError\u001b[0m                            Traceback (most recent call last)",
            "\u001b[0;32m<ipython-input-11-876595a26560>\u001b[0m in \u001b[0;36m<module>\u001b[0;34m()\u001b[0m\n\u001b[1;32m      7\u001b[0m '''\n\u001b[1;32m      8\u001b[0m   ]\n\u001b[0;32m----> 9\u001b[0;31m \u001b[0merzeuge_tabellen\u001b[0m\u001b[0;34m(\u001b[0m\u001b[0;34m'strategie.db'\u001b[0m\u001b[0;34m,\u001b[0m \u001b[0mfoo\u001b[0m\u001b[0;34m)\u001b[0m\u001b[0;34m\u001b[0m\u001b[0;34m\u001b[0m\u001b[0m\n\u001b[0m",
            "\u001b[0;32m<ipython-input-3-1169c843623b>\u001b[0m in \u001b[0;36merzeuge_tabellen\u001b[0;34m(path, sql)\u001b[0m\n\u001b[1;32m     20\u001b[0m       \u001b[0mcursor\u001b[0m\u001b[0;34m.\u001b[0m\u001b[0mexecute\u001b[0m\u001b[0;34m(\u001b[0m\u001b[0msql\u001b[0m\u001b[0;34m)\u001b[0m\u001b[0;34m\u001b[0m\u001b[0;34m\u001b[0m\u001b[0m\n\u001b[1;32m     21\u001b[0m     \u001b[0;31m# execute instructions\u001b[0m\u001b[0;34m\u001b[0m\u001b[0;34m\u001b[0m\u001b[0;34m\u001b[0m\u001b[0m\n\u001b[0;32m---> 22\u001b[0;31m     \u001b[0mcursor\u001b[0m\u001b[0;34m.\u001b[0m\u001b[0mexecute\u001b[0m\u001b[0;34m(\u001b[0m\u001b[0minstruction\u001b[0m\u001b[0;34m)\u001b[0m\u001b[0;34m\u001b[0m\u001b[0;34m\u001b[0m\u001b[0m\n\u001b[0m\u001b[1;32m     23\u001b[0m   \u001b[0mverbindung\u001b[0m\u001b[0;34m.\u001b[0m\u001b[0mcommit\u001b[0m\u001b[0;34m(\u001b[0m\u001b[0;34m)\u001b[0m\u001b[0;34m\u001b[0m\u001b[0;34m\u001b[0m\u001b[0m\n\u001b[1;32m     24\u001b[0m   \u001b[0mverbindung\u001b[0m\u001b[0;34m.\u001b[0m\u001b[0mclose\u001b[0m\u001b[0;34m(\u001b[0m\u001b[0;34m)\u001b[0m\u001b[0;34m\u001b[0m\u001b[0;34m\u001b[0m\u001b[0m\n",
            "\u001b[0;31mIntegrityError\u001b[0m: UNIQUE constraint failed: vorfall.virus"
          ]
        }
      ]
    }
  ],
  "metadata": {
    "colab": {
      "collapsed_sections": [],
      "name": "Willkommen bei Colaboratory",
      "provenance": [],
      "include_colab_link": true
    },
    "kernelspec": {
      "display_name": "Python 3",
      "name": "python3"
    }
  },
  "nbformat": 4,
  "nbformat_minor": 0
}