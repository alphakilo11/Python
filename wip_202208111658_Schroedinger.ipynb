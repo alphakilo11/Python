{
  "cells": [
    {
      "cell_type": "markdown",
      "metadata": {
        "id": "view-in-github",
        "colab_type": "text"
      },
      "source": [
        "<a href=\"https://colab.research.google.com/github/alphakilo11/Python/blob/main/wip_202208111658.ipynb\" target=\"_parent\"><img src=\"https://colab.research.google.com/assets/colab-badge.svg\" alt=\"Open In Colab\"/></a>"
      ]
    },
    {
      "cell_type": "markdown",
      "source": [
        "Schrödinger Kapitel 13"
      ],
      "metadata": {
        "id": "AGNSyG2xoMSX"
      }
    },
    {
      "cell_type": "code",
      "source": [
        "import sqlite3\n",
        "verbindung = sqlite3.connect(\"spam.db\")\n",
        "cursor = verbindung.cursor()\n",
        "sql = '''CREATE TABLE eggs(\n",
        "  cooler_typ TEXT,\n",
        "  glückszahl INTEGER\n",
        ");'''\n",
        "cursor.execute(sql)\n",
        "verbindung.commit()\n",
        "verbindung.close()"
      ],
      "metadata": {
        "id": "-Gn8mZWNoPA6"
      },
      "execution_count": 1,
      "outputs": []
    },
    {
      "cell_type": "code",
      "source": [
        "# S 450\n",
        "verbindung = sqlite3.connect(\"spam.db\")\n",
        "cursor = verbindung.cursor()\n",
        "sql = '''INSERT INTO eggs(\n",
        "  cooler_typ,\n",
        "  glückszahl\n",
        ")\n",
        "VALUES(\"Schrödinger\", 42), ('Hannes', 13), ('Lilly', 1024);'''\n",
        "cursor.execute(sql)\n",
        "verbindung.commit()\n",
        "verbindung.close()"
      ],
      "metadata": {
        "id": "An4ZicOl032t"
      },
      "execution_count": 2,
      "outputs": []
    },
    {
      "cell_type": "code",
      "source": [
        "def erzeuge_tabellen(path, sql):\n",
        "  \"\"\"\n",
        "  Creates a SQL db at given path and executes list of sql instructions\n",
        "  demonstrated for CREATE TABLE and INSERT INTO\n",
        "  \"\"\"\n",
        "  # establish database connection\n",
        "  with sqlite3.connect(path) as verbindung:\n",
        "    cursor = verbindung.cursor()\n",
        "\n",
        "    for instruction in sql:\n",
        "      # delete table if it already exists\n",
        "      import re\n",
        "      regex = re.compile('CREATE TABLE.*\\(') # this might not find an empty table\n",
        "      step = regex.findall(instruction)\n",
        "      if len(step) > 0: # check if a CREATE TABLE instruction has been issued\n",
        "        step = step[0][12:-1].strip()\n",
        "        step = 'DROP TABLE IF EXISTS ' + step + ';'\n",
        "        cursor.execute(step)\n",
        "      # execute instructions\n",
        "      cursor.execute(instruction)"
      ],
      "metadata": {
        "id": "K7oWh5re2WqA"
      },
      "execution_count": 3,
      "outputs": []
    },
    {
      "cell_type": "code",
      "source": [
        "foo = ['CREATE TABLE viren(name TEXT PRIMARY KEY, typ INTEGER, status TEXT);', '''\n",
        "CREATE TABLE viren_typ(typ INTEGER PRIMARY KEY, groesse INT, signatur TEXT);''']\n",
        "erzeuge_tabellen('strategie.db', foo)"
      ],
      "metadata": {
        "id": "7HHTAD8s3tPn"
      },
      "execution_count": 4,
      "outputs": []
    },
    {
      "cell_type": "code",
      "source": [
        "foo = ['''\n",
        "INSERT INTO viren_typ(typ, groesse, signatur)\n",
        "VALUES(1,128,'ABAABA'),\n",
        "(2, 256, 'ABAABA'),\n",
        "(3,256,'BCCBCB')''', '''\n",
        "INSERT INTO viren(name, typ, status)\n",
        "VALUES ('T800', 1, 'aktiv'),\n",
        "  ('T803', 2, 'aktiv'),\n",
        "  ('Bit13', 3, 'aktiv'),\n",
        "  ('Gorf13', 1, 'aktiv'),\n",
        "  ('Gorf7', 2, 'aktiv')'''\n",
        "  ]\n",
        "erzeuge_tabellen('strategie.db', foo)"
      ],
      "metadata": {
        "id": "NSL7tmd35AoM"
      },
      "execution_count": 5,
      "outputs": []
    },
    {
      "cell_type": "code",
      "source": [
        "def sql_create_table_string(table_name, table_columns):\n",
        "  \"\"\"\n",
        "  Constructs a SQL-String to create a table named table_name with columns provided in table_colums\n",
        "  format: [column_name(str), data_type(str), primary_key(bool)]\n",
        "  \"\"\"\n",
        "  step = '('\n",
        "  for column in table_columns:\n",
        "    step += column[0] + \" \" + column[1]\n",
        "    if column[2] == True:\n",
        "      step += ' PRIMARY KEY'\n",
        "    step += ', '\n",
        "  step = step[:-2] # remove the last comma\n",
        "  step += ')'\n",
        "  return 'CREATE TABLE ' + table_name + step + ';'"
      ],
      "metadata": {
        "id": "b5p7zXbYHwUj"
      },
      "execution_count": 6,
      "outputs": []
    },
    {
      "cell_type": "code",
      "source": [
        "spam = [\n",
        "    ['virus', 'TEXT', False],\n",
        "    ['ort', 'TEXT', False],\n",
        "    ['vorfall', 'TEXT', False]\n",
        "]\n",
        "erzeuge_tabellen('strategie.db', [sql_create_table_string('vorfall', spam)])"
      ],
      "metadata": {
        "id": "rWJE1-cnKTHu"
      },
      "execution_count": 7,
      "outputs": []
    },
    {
      "cell_type": "code",
      "source": [
        "foo = ['''\n",
        "INSERT INTO vorfall(virus, ort, vorfall)\n",
        "VALUES\n",
        "('T800','HD','NONE'),\n",
        "(\"Gorf7\", 'BIOS', 'Stoerung'),\n",
        "('T803','BIOS','Stoerung'),\n",
        "('Gorf7', 'HD', 'NONE'),\n",
        "('Bit13', 'CPU', 'NONE'),\n",
        "('T800','Treiber','Stoerung'), \n",
        "(\"Gorf3\", 'BIOS', 'NONE'),\n",
        "('T803','CPU','NONE'),\n",
        "('Gorf3', 'Treiber', 'Stoerung'), \n",
        "('Bit13', 'BIOS', 'Stoerung'),\n",
        "('Bit13', 'HD', 'Stoerung')\n",
        "'''\n",
        "  ]\n",
        "erzeuge_tabellen('strategie.db', foo)"
      ],
      "metadata": {
        "id": "nufJvAkSQzRw"
      },
      "execution_count": 8,
      "outputs": []
    },
    {
      "cell_type": "code",
      "source": [
        "def sql_create_input_string(table_name, table_columns, data):\n",
        "  \"\"\"\n",
        "  Constructs a SQL-String to input data into a table table_name into columns provided in table_colums\n",
        "  table_name(str), table_columns(str), data(iterable of strings)\n",
        "  \"\"\"\n",
        "  col_string = '('\n",
        "  for col in table_columns:\n",
        "    col_string += col + \", \"\n",
        "  col_string = col_string[:-2] + ')'\n",
        "\n",
        "  data_str = 'VALUES'\n",
        "  for line in data:\n",
        "    data_str += '('\n",
        "    for value in line:\n",
        "      data_str += \"'\" + value + \"'\" + ', '\n",
        "    data_str = data_str[:-2] + '), ' \n",
        "  data_str = data_str[:-2] # remove the last comma\n",
        "  return 'INSERT INTO ' + table_name + col_string + data_str"
      ],
      "metadata": {
        "id": "6STxKW_ppcIB"
      },
      "execution_count": 9,
      "outputs": []
    },
    {
      "cell_type": "code",
      "source": [
        "def eingabe(column_name_list):\n",
        "  data = []\n",
        "  while True:\n",
        "    line = []\n",
        "    for col in column_name_list:\n",
        "      line.append(input(str(\"Bitte \" + col + ' eingeben:')))\n",
        "    data.append(line)\n",
        "    if input('Weitere Zeile eingeben j/n?') != 'j':\n",
        "      break\n",
        "  return data"
      ],
      "metadata": {
        "id": "BnafPoGG7q2T"
      },
      "execution_count": 10,
      "outputs": []
    },
    {
      "cell_type": "code",
      "source": [
        "# p 471\n",
        "foo = eingabe(('virus', 'ort', 'vorfall'))\n",
        "zu_loeschende_eintraege = []\n",
        "for i in range(len(foo)):\n",
        "  # check if virusname is present\n",
        "  checkstr = 'SELECT COUNT(name) FROM viren WHERE name = ' + \"'\" + foo[i][0] + \"';\"\n",
        "  with sqlite3.connect(\"strategie.db\") as verbindung:\n",
        "    cursor = verbindung.cursor()\n",
        "    cursor.execute(checkstr)\n",
        "    eintrag_vorhanden = cursor.fetchone()\n",
        "  eintrag_vorhanden = eintrag_vorhanden[0] > 0\n",
        "  if eintrag_vorhanden == False:\n",
        "    zu_loeschende_eintraege.append(i)\n",
        "    print(\"In der Datenbank existiert kein Virus mit dem Name \", foo[i], '. Die Zeile wird gelöscht', sep=\"\")\n",
        "# Delete wrong entries\n",
        "zu_loeschende_eintraege.sort(reverse=True)\n",
        "for i in zu_loeschende_eintraege:\n",
        "  foo.pop(i)\n",
        "# write data\n",
        "if len(foo) > 0:\n",
        "  bar = sql_create_input_string('vorfall', ('virus', 'ort', 'vorfall'), foo)\n",
        "  erzeuge_tabellen('strategie.db', [bar])\n",
        "  del bar\n",
        "del foo, zu_loeschende_eintraege, eintrag_vorhanden, cursor"
      ],
      "metadata": {
        "colab": {
          "base_uri": "https://localhost:8080/"
        },
        "id": "_8v5WI52p-4B",
        "outputId": "d6833bad-71ad-42ae-c2be-7b8f72ad2c6c"
      },
      "execution_count": 12,
      "outputs": [
        {
          "output_type": "stream",
          "name": "stdout",
          "text": [
            "Bitte virus eingeben:sdf\n",
            "Bitte ort eingeben:sdf\n",
            "Bitte vorfall eingeben:sdf\n",
            "Weitere Zeile eingeben j/n?\n",
            "In der Datenbank existiert kein Virus mit dem Name ['sdf', 'sdf', 'sdf']. Die Zeile wird gelöscht\n"
          ]
        }
      ]
    },
    {
      "cell_type": "code",
      "source": [
        "def sql_abfrage(path, sql):\n",
        "  \"\"\"Creates a SQL db at given path and executes list of sql instructions\"\"\"\n",
        "\n",
        "  with sqlite3.connect(path) as verbindung:\n",
        "    cursor = verbindung.cursor()\n",
        "    foo = []\n",
        "    for instruction in sql:\n",
        "      cursor.execute(instruction)\n",
        "      foo.append(cursor.fetchall())\n",
        "  return foo\n",
        "\n",
        "spam = sql_abfrage('strategie.db', ['SELECT * FROM viren_typ;', 'SELECT * FROM viren;', 'SELECT * FROM vorfall;'])\n",
        "print(spam)\n",
        "del spam"
      ],
      "metadata": {
        "colab": {
          "base_uri": "https://localhost:8080/"
        },
        "id": "vLbfIFqo6XKp",
        "outputId": "b1f7f7af-4446-4cf9-99a9-8133b2757376"
      },
      "execution_count": 13,
      "outputs": [
        {
          "output_type": "stream",
          "name": "stdout",
          "text": [
            "[[(1, 128, 'ABAABA'), (2, 256, 'ABAABA'), (3, 256, 'BCCBCB')], [('T800', 1, 'aktiv'), ('T803', 2, 'aktiv'), ('Bit13', 3, 'aktiv'), ('Gorf13', 1, 'aktiv'), ('Gorf7', 2, 'aktiv')], [('T800', 'HD', 'NONE'), ('Gorf7', 'BIOS', 'Stoerung'), ('T803', 'BIOS', 'Stoerung'), ('Gorf7', 'HD', 'NONE'), ('Bit13', 'CPU', 'NONE'), ('T800', 'Treiber', 'Stoerung'), ('Gorf3', 'BIOS', 'NONE'), ('T803', 'CPU', 'NONE'), ('Gorf3', 'Treiber', 'Stoerung'), ('Bit13', 'BIOS', 'Stoerung'), ('Bit13', 'HD', 'Stoerung')]]\n"
          ]
        }
      ]
    },
    {
      "cell_type": "code",
      "source": [
        "with sqlite3.connect('strategie.db') as daten:\n",
        "  zeiger = daten.cursor()\n",
        "  sql = '''SELECT * FROM vorfall WHERE vorfall = 'Stoerung';'''\n",
        "  zeiger.execute(sql)\n",
        "  print(zeiger.fetchall())"
      ],
      "metadata": {
        "id": "AT2pkCQM9Gva",
        "outputId": "5d0d9bf1-adfe-4431-b499-9ebafc492502",
        "colab": {
          "base_uri": "https://localhost:8080/"
        }
      },
      "execution_count": 15,
      "outputs": [
        {
          "output_type": "stream",
          "name": "stdout",
          "text": [
            "[('Gorf7', 'BIOS', 'Stoerung'), ('T803', 'BIOS', 'Stoerung'), ('T800', 'Treiber', 'Stoerung'), ('Gorf3', 'Treiber', 'Stoerung'), ('Bit13', 'BIOS', 'Stoerung'), ('Bit13', 'HD', 'Stoerung')]\n"
          ]
        }
      ]
    },
    {
      "cell_type": "code",
      "source": [
        "def ausgabe_abfrage(SELECT_sql_command, datenbank='strategie.db'):\n",
        "  with sqlite3.connect(datenbank) as daten:\n",
        "    zeiger = daten.cursor()\n",
        "    zeiger.execute(SELECT_sql_command)\n",
        "    rueckgabe = zeiger.fetchall()\n",
        "  for line in rueckgabe:\n",
        "    for value in line:\n",
        "      \n",
        "    print(i)"
      ],
      "metadata": {
        "id": "N4a9RbCd92hD"
      },
      "execution_count": 16,
      "outputs": []
    },
    {
      "cell_type": "code",
      "source": [
        "ausgabe_abfrage(\"SELECT * FROM vorfall WHERE vorfall = 'Stoerung'\")"
      ],
      "metadata": {
        "id": "SPT--iUf-k9X",
        "outputId": "19a54fc1-3bb5-4587-feb2-3917bea22e51",
        "colab": {
          "base_uri": "https://localhost:8080/"
        }
      },
      "execution_count": 20,
      "outputs": [
        {
          "output_type": "stream",
          "name": "stdout",
          "text": [
            "('Gorf7', 'BIOS', 'Stoerung')\n",
            "('T803', 'BIOS', 'Stoerung')\n",
            "('T800', 'Treiber', 'Stoerung')\n",
            "('Gorf3', 'Treiber', 'Stoerung')\n",
            "('Bit13', 'BIOS', 'Stoerung')\n",
            "('Bit13', 'HD', 'Stoerung')\n"
          ]
        }
      ]
    }
  ],
  "metadata": {
    "colab": {
      "collapsed_sections": [],
      "name": "Willkommen bei Colaboratory",
      "provenance": [],
      "include_colab_link": true
    },
    "kernelspec": {
      "display_name": "Python 3",
      "name": "python3"
    }
  },
  "nbformat": 4,
  "nbformat_minor": 0
}
