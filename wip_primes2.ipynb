{
  "cells": [
    {
      "cell_type": "markdown",
      "metadata": {
        "id": "view-in-github",
        "colab_type": "text"
      },
      "source": [
        "<a href=\"https://colab.research.google.com/github/alphakilo11/Python/blob/main/wip_primes2.ipynb\" target=\"_parent\"><img src=\"https://colab.research.google.com/assets/colab-badge.svg\" alt=\"Open In Colab\"/></a>"
      ]
    },
    {
      "cell_type": "markdown",
      "source": [
        "Different Methods for finding prime numbers"
      ],
      "metadata": {
        "id": "tarc9BJ9WLe-"
      }
    },
    {
      "cell_type": "code",
      "source": [
        "# my own conception\n",
        "def is_prime(number):\n",
        "  for i in range(3, int(number ** (1/2)) + 1, 2):\n",
        "    if number % i == 0:\n",
        "      return False\n",
        "  return True\n",
        "\n",
        "from timeit import default_timer as timer\n",
        "\n",
        "count = 0\n",
        "number = 1\n",
        "start_time = timer()\n",
        "while count < 99999:\n",
        "  number += 2\n",
        "  if is_prime(number):\n",
        "    count += 1\n",
        "print(timer() - start_time)\n",
        "print(number)"
      ],
      "metadata": {
        "colab": {
          "base_uri": "https://localhost:8080/"
        },
        "id": "tpNzDAx63q-s",
        "outputId": "a33e8a8a-951a-443b-8317-9286812acb71"
      },
      "execution_count": 60,
      "outputs": [
        {
          "output_type": "stream",
          "name": "stdout",
          "text": [
            "4.234496473000036\n",
            "1299709\n"
          ]
        }
      ]
    },
    {
      "cell_type": "code",
      "source": [
        "def eratosthenes_sieb(upper_end):\n",
        "  prime_list = []\n",
        "  gestrichen = [False] * (upper_end + 2)\n",
        "\n",
        "  # Siebe mit allen (Prim-) Zahlen i, wobei i der kleinste Primfaktor einer zusammengesetzten\n",
        "  # Zahl j = i*k ist. Der kleinste Primfaktor einer zusammengesetzten Zahl j kann nicht größer\n",
        "  # als die Quadratwurzel von j <= n sein.\n",
        "  for i in range(2, (int(upper_end ** (1/2)) + 1)):\n",
        "    if not gestrichen[i]:\n",
        "      # i ist prim, gib i aus...\n",
        "      prime_list.append(i)\n",
        "      \n",
        "      # ...und streiche seine Vielfachen, beginnend mit i*i\n",
        "      # (denn k*i mit k<i wurde schon als Vielfaches von k gestrichen)\n",
        "      for j in range(i**2, (upper_end + 1), i): # i*i to N step i do\n",
        "          gestrichen[j] = True\n",
        "  # Gib die Primzahlen größer als Wurzel(n) aus - also die, die noch nicht gestrichen wurden\n",
        "  for i in range(int(upper_end ** (1/2)) + 1, upper_end + 1): #i = sqrt(N)+1 to N do\n",
        "    if not gestrichen[i]:\n",
        "      # i ist prim, gib i aus\n",
        "      prime_list.append(i)\n",
        "  return prime_list"
      ],
      "metadata": {
        "id": "aUyU_6faIiW9"
      },
      "execution_count": 35,
      "outputs": []
    },
    {
      "cell_type": "code",
      "source": [
        "start_time = timer()\n",
        "foo = eratosthenes_sieb(1299709)\n",
        "print(timer() - start_time)\n",
        "print(len(foo))\n",
        "del foo, start_time"
      ],
      "metadata": {
        "colab": {
          "base_uri": "https://localhost:8080/"
        },
        "id": "DcA-tEgSM-IA",
        "outputId": "0f9e3019-6c8a-48b8-83c3-30cb6e2cc1db"
      },
      "execution_count": 61,
      "outputs": [
        {
          "output_type": "stream",
          "name": "stdout",
          "text": [
            "0.29407187099968723\n",
            "100000\n"
          ]
        }
      ]
    },
    {
      "cell_type": "code",
      "source": [
        "def sieve_of_atkin(number):\n",
        "    prime_list = [2, 3, 5]\n",
        "    sieve_list = [False] * (number + 1) # Erstelle eine Siebliste mit einem Eintrag für jede positive ganze Zahl; alle Einträge dieser Liste werden am Anfang als nicht prim markiert.\n",
        "    Für jeden Eintrag n in der Siebliste führe folgendes aus:\n",
        "        Falls der Eintrag eine Zahl mit Rest 1, 13, 17, 29, 37, 41, 49 oder 53 enthält, invertiere ihn für jede mögliche Lösung der Gleichung:   4x² + y² = n.\n",
        "        Falls der Eintrag eine Zahl mit Rest 7, 19, 31 oder 43 enthält, invertiere ihn für jede mögliche Lösung der Gleichung:   3x² + y² = n.\n",
        "        Falls der Eintrag eine Zahl mit Rest 11, 23, 47 oder 59 enthält, invertiere ihn für jede mögliche Lösung der Gleichung:   3x² − y² = n, wobei   x > y.\n",
        "    for i in sieve_list: # Beginne mit der niedrigsten Zahl in der Siebliste.\n",
        "      if i == True: # Nimm die nächste Zahl in der Siebliste, die immer noch als prim markiert ist.\n",
        "        prime_list.append(i) # Füge die Zahl in die Ergebnisliste ein.\n",
        "        quadrat = i ** 2\n",
        "        for multiplier in range(1, number // (quadrat)):\n",
        "          sieve_list[quadrat * multiplier] = False # Quadriere die Zahl und markiere alle Vielfachen von diesem Quadrat als nicht prim.\n",
        "      #Wiederhole die Schritte 5 bis 8."
      ],
      "metadata": {
        "id": "Buhx7gS5Wm98"
      },
      "execution_count": null,
      "outputs": []
    },
    {
      "cell_type": "code",
      "source": [
        "def gleichung(koeffizient, vorzeichen, n): # True = +, False = -\n",
        "  count = 0\n",
        "  if vorzeichen:\n",
        "    for x in range(1, int(((n - 1) / koeffizient) ** (1/2)) + 1):\n",
        "      for y in range(1, (n - koeffizient) + 1):\n",
        "        if koeffizient * x **2 + y ** 2 == n:\n",
        "          count += 1\n",
        "  else:\n",
        "    for x in range(2, n): #ENHANCE reduce upper limit\n",
        "      for y in range(1, x):\n",
        "        if koeffizient * x ** 2 - y ** 2 == n:\n",
        "          count += 1\n",
        "\n",
        "  return count"
      ],
      "metadata": {
        "id": "0ZAMF_9XTG6o"
      },
      "execution_count": 70,
      "outputs": []
    },
    {
      "cell_type": "code",
      "source": [
        "for i in (1, 13, 17, 29, 37, 41, 49, 53):\n",
        "  print(gleichung(4, True, i), end=\" \")\n",
        "print()\n",
        "for i in (7, 19, 31 ,43):\n",
        "  print(gleichung(3, True, i), end=\" \")\n",
        "print()\n",
        "for i in (11, 23, 47, 59, 143, 6 *60+23):\n",
        "  print(gleichung(3, False, i), end=\" \")"
      ],
      "metadata": {
        "colab": {
          "base_uri": "https://localhost:8080/"
        },
        "id": "-0TyT6RfUbei",
        "outputId": "fe057560-2abd-4308-c5ce-13b2bdbec275"
      },
      "execution_count": 74,
      "outputs": [
        {
          "output_type": "stream",
          "name": "stdout",
          "text": [
            "0 1 1 1 1 1 0 1 \n",
            "1 1 1 1 \n",
            "1 1 1 1 2 1 "
          ]
        }
      ]
    }
  ],
  "metadata": {
    "colab": {
      "collapsed_sections": [],
      "name": "Willkommen bei Colaboratory",
      "provenance": [],
      "include_colab_link": true
    },
    "kernelspec": {
      "display_name": "Python 3",
      "name": "python3"
    }
  },
  "nbformat": 4,
  "nbformat_minor": 0
}