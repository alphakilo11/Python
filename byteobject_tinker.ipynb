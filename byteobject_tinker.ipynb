{
  "cells": [
    {
      "cell_type": "markdown",
      "metadata": {
        "id": "view-in-github",
        "colab_type": "text"
      },
      "source": [
        "<a href=\"https://colab.research.google.com/github/alphakilo11/Python/blob/main/byteobject_tinker.ipynb\" target=\"_parent\"><img src=\"https://colab.research.google.com/assets/colab-badge.svg\" alt=\"Open In Colab\"/></a>"
      ]
    },
    {
      "cell_type": "code",
      "source": [
        "#BUG doesn't work consistently (eg fails with 4294967295)\n",
        "foo = hex(int((2022 - 31) * 365.2425))\n",
        "import re\n",
        "raggy = re.compile(r\"x\")\n",
        "foo = raggy.sub(\"\", foo)\n",
        "bar = bytes.fromhex(foo)\n",
        "with open(\"byte_test.txt\", \"wb\") as file:\n",
        "  file.write(bar)\n",
        "with open(\"byte_test.txt\", \"rb\") as file:\n",
        "  spam = file.read()\n",
        "int(bytearray(spam).hex(), 16)"
      ],
      "metadata": {
        "colab": {
          "base_uri": "https://localhost:8080/"
        },
        "id": "ChNUw7Qck16O",
        "outputId": "d0ef476b-509f-43f5-a235-2a085d91ba5d"
      },
      "execution_count": 276,
      "outputs": [
        {
          "output_type": "execute_result",
          "data": {
            "text/plain": [
              "727197"
            ]
          },
          "metadata": {},
          "execution_count": 276
        }
      ]
    },
    {
      "cell_type": "code",
      "source": [
        "# save an integer as bytearray and fetch it again. Depending on the number this operation saves a lot of memory (eg 60% with int(2**32)).\n",
        "arr = []\n",
        "number_to_convert = 4294967295\n",
        "base = 256\n",
        "req_bytes = math.floor(math.log(number_to_convert, base))\n",
        "for i in range(req_bytes, -1, -1):\n",
        "  arr.append(number_to_convert // base ** i)\n",
        "  number_to_convert -= base ** i * (number_to_convert // base ** i)\n",
        "arr = bytearray(arr)\n",
        "with open(\"bytearray1.txt\", \"wb\") as file:\n",
        "  file.write(arr)\n",
        "\n",
        "with open(\"bytearray1.txt\", \"rb\") as file:\n",
        "  spam = file.read()\n",
        "int(spam.hex(), 16)"
      ],
      "metadata": {
        "colab": {
          "base_uri": "https://localhost:8080/"
        },
        "id": "wQ9txYbu4Mm7",
        "outputId": "8346234e-c78f-4d0f-aaa6-85000d59b77c"
      },
      "execution_count": 261,
      "outputs": [
        {
          "output_type": "execute_result",
          "data": {
            "text/plain": [
              "4294967295"
            ]
          },
          "metadata": {},
          "execution_count": 261
        }
      ]
    }
  ],
  "metadata": {
    "colab": {
      "collapsed_sections": [],
      "name": "Willkommen bei Colaboratory",
      "provenance": [],
      "include_colab_link": true
    },
    "kernelspec": {
      "display_name": "Python 3",
      "name": "python3"
    }
  },
  "nbformat": 4,
  "nbformat_minor": 0
}