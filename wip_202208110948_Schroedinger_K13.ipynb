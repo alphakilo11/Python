{
  "cells": [
    {
      "cell_type": "markdown",
      "metadata": {
        "id": "view-in-github",
        "colab_type": "text"
      },
      "source": [
        "<a href=\"https://colab.research.google.com/github/alphakilo11/Python/blob/main/wip_202208110948_Schroedinger_K13.ipynb\" target=\"_parent\"><img src=\"https://colab.research.google.com/assets/colab-badge.svg\" alt=\"Open In Colab\"/></a>"
      ]
    },
    {
      "cell_type": "markdown",
      "source": [
        "Schrödinger Kapitel 13"
      ],
      "metadata": {
        "id": "AGNSyG2xoMSX"
      }
    },
    {
      "cell_type": "code",
      "source": [
        "import sqlite3\n",
        "verbindung = sqlite3.connect(\"spam.db\")\n",
        "cursor = verbindung.cursor()\n",
        "sql = '''CREATE TABLE eggs(\n",
        "  cooler_typ TEXT,\n",
        "  glückszahl INTEGER\n",
        ");'''\n",
        "cursor.execute(sql)\n",
        "verbindung.commit()\n",
        "verbindung.close()"
      ],
      "metadata": {
        "id": "-Gn8mZWNoPA6"
      },
      "execution_count": 1,
      "outputs": []
    },
    {
      "cell_type": "code",
      "source": [
        "# S 450\n",
        "verbindung = sqlite3.connect(\"spam.db\")\n",
        "cursor = verbindung.cursor()\n",
        "sql = '''INSERT INTO eggs(\n",
        "  cooler_typ,\n",
        "  glückszahl\n",
        ")\n",
        "VALUES(\"Schrödinger\", 42), ('Hannes', 13), ('Lilly', 1024);'''\n",
        "cursor.execute(sql)\n",
        "verbindung.commit()\n",
        "verbindung.close()"
      ],
      "metadata": {
        "id": "An4ZicOl032t"
      },
      "execution_count": 2,
      "outputs": []
    },
    {
      "cell_type": "code",
      "source": [
        "def erzeuge_tabellen(path, sql):\n",
        "  \"\"\"\n",
        "  Creates a SQL db at given path and executes list of sql instructions\n",
        "  demonstrated for CREATE TABLE and INSERT INTO\n",
        "  \"\"\"\n",
        "  # establish database connection\n",
        "  with sqlite3.connect(path) as verbindung:\n",
        "    cursor = verbindung.cursor()\n",
        "\n",
        "\n",
        "\n",
        "    for instruction in sql:\n",
        "      # delete table if it already exists\n",
        "      import re\n",
        "      regex = re.compile('CREATE TABLE.*\\(') # this might not find an empty table\n",
        "      step = regex.findall(instruction)\n",
        "      if len(step) > 0: # check if a CREATE TABLE instruction has been issued\n",
        "        step = step[0][12:-1].strip()\n",
        "        step = 'DROP TABLE IF EXISTS ' + step + ';'\n",
        "        cursor.execute(step)\n",
        "      # execute instructions\n",
        "      cursor.execute(instruction)"
      ],
      "metadata": {
        "id": "K7oWh5re2WqA"
      },
      "execution_count": 33,
      "outputs": []
    },
    {
      "cell_type": "code",
      "source": [
        "foo = ['CREATE TABLE viren(name TEXT PRIMARY KEY, typ INTEGER, status TEXT);', '''\n",
        "CREATE TABLE viren_typ(typ INTEGER PRIMARY KEY, groesse INT, signatur TEXT);''']\n",
        "erzeuge_tabellen('strategie.db', foo)"
      ],
      "metadata": {
        "id": "7HHTAD8s3tPn"
      },
      "execution_count": 4,
      "outputs": []
    },
    {
      "cell_type": "code",
      "source": [
        "foo = ['''\n",
        "INSERT INTO viren_typ(typ, groesse, signatur)\n",
        "VALUES(1,128,'ABAABA'),\n",
        "(2, 256, 'ABAABA'),\n",
        "(3,256,'BCCBCB')''', '''\n",
        "INSERT INTO viren(name, typ, status)\n",
        "VALUES ('T800', 1, 'aktiv'),\n",
        "  ('T803', 2, 'aktiv'),\n",
        "  ('Bit13', 3, 'aktiv'),\n",
        "  ('Gorf13', 1, 'aktiv'),\n",
        "  ('Gorf7', 2, 'aktiv')'''\n",
        "  ]\n",
        "erzeuge_tabellen('strategie.db', foo)"
      ],
      "metadata": {
        "id": "NSL7tmd35AoM"
      },
      "execution_count": 5,
      "outputs": []
    },
    {
      "cell_type": "code",
      "source": [
        "def sql_create_table_string(table_name, table_columns):\n",
        "  \"\"\"\n",
        "  Constructs a SQL-String to create a table named table_name with columns provided in table_colums\n",
        "  format: [column_name(str), data_type(str), primary_key(bool)]\n",
        "  \"\"\"\n",
        "  step = '('\n",
        "  for column in table_columns:\n",
        "    step += column[0] + \" \" + column[1]\n",
        "    if column[2] == True:\n",
        "      step += ' PRIMARY KEY'\n",
        "    step += ', '\n",
        "  step = step[:-2] # remove the last comma\n",
        "  step += ')'\n",
        "  return 'CREATE TABLE ' + table_name + step + ';'"
      ],
      "metadata": {
        "id": "b5p7zXbYHwUj"
      },
      "execution_count": 6,
      "outputs": []
    },
    {
      "cell_type": "code",
      "source": [
        "spam = [\n",
        "    ['virus', 'TEXT', False],\n",
        "    ['ort', 'TEXT', False],\n",
        "    ['vorfall', 'TEXT', False]\n",
        "]\n",
        "erzeuge_tabellen('strategie.db', [sql_create_table_string('vorfall', spam)])"
      ],
      "metadata": {
        "id": "rWJE1-cnKTHu"
      },
      "execution_count": 12,
      "outputs": []
    },
    {
      "cell_type": "code",
      "source": [
        "foo = ['''\n",
        "INSERT INTO vorfall(virus, ort, vorfall)\n",
        "VALUES\n",
        "('T804','HD','NONE'),\n",
        "(\"Gorf8\", 'BIOS', 'Stoerung'),\n",
        "('T805','RAM','NONE'),\n",
        "('Gorf4', 'CPU', 'NONE')\n",
        "'''\n",
        "  ]\n",
        "erzeuge_tabellen('strategie.db', foo)"
      ],
      "metadata": {
        "id": "nufJvAkSQzRw"
      },
      "execution_count": 8,
      "outputs": []
    },
    {
      "cell_type": "code",
      "source": [
        "def sql_create_input_string(table_name, table_columns, data):\n",
        "  \"\"\"\n",
        "  Constructs a SQL-String to input data into a table table_name into columns provided in table_colums\n",
        "  table_name(str), table_columns(str), data(iterable of strings)\n",
        "  \"\"\"\n",
        "  col_string = '('\n",
        "  for col in table_columns:\n",
        "    col_string += col + \", \"\n",
        "  col_string = col_string[:-2] + ')'\n",
        "\n",
        "  data_str = 'VALUES'\n",
        "  for line in data:\n",
        "    data_str += '('\n",
        "    for value in line:\n",
        "      data_str += \"'\" + value + \"'\" + ', '\n",
        "    data_str = data_str[:-2] + '), ' \n",
        "  data_str = data_str[:-2] # remove the last comma\n",
        "  return 'INSERT INTO ' + table_name + col_string + data_str"
      ],
      "metadata": {
        "id": "6STxKW_ppcIB"
      },
      "execution_count": 39,
      "outputs": []
    },
    {
      "cell_type": "code",
      "source": [
        "foo = (('T55', 'HD', 'NONE'), ('T64', 'BIOS', 'Stoerung'))\n",
        "bar = sql_create_input_string('vorfall', ('virus', 'ort', 'vorfall'), foo)\n",
        "erzeuge_tabellen('strategie.db', [bar])\n",
        "del foo, bar"
      ],
      "metadata": {
        "id": "_8v5WI52p-4B",
        "outputId": "81d9dbad-d55a-43a4-e9b9-344a2cb1de03",
        "colab": {
          "base_uri": "https://localhost:8080/"
        }
      },
      "execution_count": 37,
      "outputs": [
        {
          "output_type": "stream",
          "name": "stdout",
          "text": [
            "INSERT INTO vorfall(virus, ort, vorfall)VALUES('T55', 'HD', 'NONE'), ('T64', 'BIOS', 'Stoerung')\n"
          ]
        }
      ]
    },
    {
      "cell_type": "code",
      "source": [
        "def sql_abfrage(path, sql):\n",
        "  \"\"\"Creates a SQL db at given path and executes list of sql instructions\"\"\"\n",
        "\n",
        "  with sqlite3.connect(path) as verbindung:\n",
        "    cursor = verbindung.cursor()\n",
        "    foo = []\n",
        "    for instruction in sql:\n",
        "      cursor.execute(instruction)\n",
        "      foo.append(cursor.fetchall())\n",
        "  return foo\n",
        "\n",
        "spam = sql_abfrage('strategie.db', ['SELECT * FROM viren_typ;', 'SELECT * FROM viren;', 'SELECT * FROM vorfall;'])\n",
        "print(spam)\n",
        "del spam"
      ],
      "metadata": {
        "colab": {
          "base_uri": "https://localhost:8080/"
        },
        "id": "vLbfIFqo6XKp",
        "outputId": "21d69bef-100e-47ff-801a-b5fd1676f832"
      },
      "execution_count": 38,
      "outputs": [
        {
          "output_type": "stream",
          "name": "stdout",
          "text": [
            "[[(1, 128, 'ABAABA'), (2, 256, 'ABAABA'), (3, 256, 'BCCBCB')], [('T800', 1, 'aktiv'), ('T803', 2, 'aktiv'), ('Bit13', 3, 'aktiv'), ('Gorf13', 1, 'aktiv'), ('Gorf7', 2, 'aktiv')], [('T800', 'HD', 'NONE'), ('Gorf7', 'BIOS', 'Stoerung'), ('T800', 'RAM', 'NONE'), ('Gorf3', 'CPU', 'NONE'), ('T72', 'HD', 'NONE'), ('T90', 'BIOS', 'Stoerung'), ('T55', 'HD', 'NONE'), ('T64', 'BIOS', 'Stoerung')]]\n"
          ]
        }
      ]
    }
  ],
  "metadata": {
    "colab": {
      "collapsed_sections": [],
      "name": "Willkommen bei Colaboratory",
      "provenance": [],
      "include_colab_link": true
    },
    "kernelspec": {
      "display_name": "Python 3",
      "name": "python3"
    }
  },
  "nbformat": 4,
  "nbformat_minor": 0
}