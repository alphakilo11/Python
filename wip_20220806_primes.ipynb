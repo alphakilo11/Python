{
  "cells": [
    {
      "cell_type": "markdown",
      "metadata": {
        "id": "view-in-github",
        "colab_type": "text"
      },
      "source": [
        "<a href=\"https://colab.research.google.com/github/alphakilo11/Python/blob/main/wip_20220806_primes.ipynb\" target=\"_parent\"><img src=\"https://colab.research.google.com/assets/colab-badge.svg\" alt=\"Open In Colab\"/></a>"
      ]
    },
    {
      "cell_type": "markdown",
      "source": [
        "Different Methods for finding prime numbers"
      ],
      "metadata": {
        "id": "tarc9BJ9WLe-"
      }
    },
    {
      "cell_type": "code",
      "source": [
        "# my own conception\n",
        "def is_prime(number):\n",
        "  for i in range(3, int(number ** (1/2)) + 1, 2):\n",
        "    if number % i == 0:\n",
        "      return False\n",
        "  return True\n",
        "\n",
        "from timeit import default_timer as timer\n",
        "\n",
        "count = 0\n",
        "number = 1\n",
        "prime_list = [2]\n",
        "start_time = timer()\n",
        "while count < 999:\n",
        "  number += 2\n",
        "  if is_prime(number):\n",
        "    count += 1\n",
        "    prime_list.append(number)\n",
        "print(timer() - start_time)\n",
        "print(number)\n",
        "print(len(prime_list))"
      ],
      "metadata": {
        "colab": {
          "base_uri": "https://localhost:8080/"
        },
        "id": "tpNzDAx63q-s",
        "outputId": "0022ace3-8f3c-488a-c877-3c6eebf07442"
      },
      "execution_count": 1,
      "outputs": [
        {
          "output_type": "stream",
          "name": "stdout",
          "text": [
            "0.010059033000004547\n",
            "7919\n",
            "1000\n"
          ]
        }
      ]
    },
    {
      "cell_type": "code",
      "source": [
        "def eratosthenes_sieb(upper_end):\n",
        "  prime_list = []\n",
        "  gestrichen = [False] * (upper_end + 2)\n",
        "\n",
        "  # Siebe mit allen (Prim-) Zahlen i, wobei i der kleinste Primfaktor einer zusammengesetzten\n",
        "  # Zahl j = i*k ist. Der kleinste Primfaktor einer zusammengesetzten Zahl j kann nicht größer\n",
        "  # als die Quadratwurzel von j <= n sein.\n",
        "  for i in range(2, (int(upper_end ** (1/2)) + 1)):\n",
        "    if not gestrichen[i]:\n",
        "      # i ist prim, gib i aus...\n",
        "      prime_list.append(i)\n",
        "      \n",
        "      # ...und streiche seine Vielfachen, beginnend mit i*i\n",
        "      # (denn k*i mit k<i wurde schon als Vielfaches von k gestrichen)\n",
        "      for j in range(i**2, (upper_end + 1), i): # i*i to N step i do\n",
        "          gestrichen[j] = True\n",
        "  # Gib die Primzahlen größer als Wurzel(n) aus - also die, die noch nicht gestrichen wurden\n",
        "  for i in range(int(upper_end ** (1/2)) + 1, upper_end + 1): #i = sqrt(N)+1 to N do\n",
        "    if not gestrichen[i]:\n",
        "      # i ist prim, gib i aus\n",
        "      prime_list.append(i)\n",
        "  return prime_list"
      ],
      "metadata": {
        "id": "aUyU_6faIiW9"
      },
      "execution_count": 3,
      "outputs": []
    },
    {
      "cell_type": "code",
      "source": [
        "start_time = timer()\n",
        "foo = eratosthenes_sieb(7919)\n",
        "print(timer() - start_time)\n",
        "print(len(foo))\n",
        "del foo, start_time"
      ],
      "metadata": {
        "colab": {
          "base_uri": "https://localhost:8080/"
        },
        "id": "DcA-tEgSM-IA",
        "outputId": "ac455314-14f3-43c3-cfad-37eef712eaed"
      },
      "execution_count": 4,
      "outputs": [
        {
          "output_type": "stream",
          "name": "stdout",
          "text": [
            "0.002160779000007551\n",
            "1000\n"
          ]
        }
      ]
    },
    {
      "cell_type": "code",
      "source": [
        "def gleichung(koeffizient, vorzeichen, n): # True = +, False = -\n",
        "  count = 0\n",
        "  if vorzeichen:\n",
        "    for x in range(1, int(((n - 1) / koeffizient) ** (1/2)) + 1):\n",
        "      for y in range(1, (n - koeffizient) + 1):\n",
        "        if koeffizient * x **2 + y ** 2 == n:\n",
        "          count += 1\n",
        "  else:\n",
        "    for x in range(2, n): #ENHANCE reduce upper limit\n",
        "      for y in range(1, x):\n",
        "        if koeffizient * x ** 2 - y ** 2 == n:\n",
        "          count += 1\n",
        "\n",
        "  return count\n",
        "\n",
        "def sieve_of_atkin(number):\n",
        "  \"\"\"returns a list of prime numbers up to given number\n",
        "  This method should be fast, but this implementation is very slow - calculating the first 1000 primes takes no less than 3414 s\"\"\"\n",
        "    prime_list = [2, 3, 5]\n",
        "    sieve_list = [False] * (number + 1) # Erstelle eine Siebliste mit einem Eintrag für jede positive ganze Zahl; alle Einträge dieser Liste werden am Anfang als nicht prim markiert.\n",
        "    for i in range(1, number + 1): # Für jeden Eintrag n in der Siebliste führe folgendes aus:\n",
        "      rest = i % 60 \n",
        "      if rest in (1, 13, 17, 29, 37, 41, 49, 53): # Falls der Eintrag eine Zahl mit Rest 1, 13, 17, 29, 37, 41, 49 oder 53 enthält, invertiere ihn für jede mögliche Lösung der Gleichung:   4x² + y² = n.\n",
        "        if gleichung(4, True, i) % 2 != 0:\n",
        "          sieve_list[i] = True\n",
        "      elif rest in (7, 19, 31, 43): # Falls der Eintrag eine Zahl mit Rest 7, 19, 31 oder 43 enthält, invertiere ihn für jede mögliche Lösung der Gleichung:   3x² + y² = n.\n",
        "        if gleichung(3, True, i) % 2 != 0:\n",
        "          sieve_list[i] = True\n",
        "      elif rest in (11, 23, 47, 59): # Falls der Eintrag eine Zahl mit Rest 11, 23, 47 oder 59 enthält, invertiere ihn für jede mögliche Lösung der Gleichung:   3x² − y² = n, wobei   x > y.\n",
        "        if gleichung(3, False, i) % 2 != 0:\n",
        "          sieve_list[i] = True        \n",
        "        \n",
        "    for i in range(1, number + 1): # Beginne mit der niedrigsten Zahl in der Siebliste.\n",
        "      if sieve_list[i] == True: # Nimm die nächste Zahl in der Siebliste, die immer noch als prim markiert ist.\n",
        "        prime_list.append(i) # Füge die Zahl in die Ergebnisliste ein.\n",
        "        quadrat = i ** 2\n",
        "        for multiplier in range(1, number // (quadrat)):\n",
        "          sieve_list[quadrat * multiplier] = False # Quadriere die Zahl und markiere alle Vielfachen von diesem Quadrat als nicht prim.\n",
        "      #Wiederhole die Schritte 5 bis 8.\n",
        "    return prime_list"
      ],
      "metadata": {
        "id": "Buhx7gS5Wm98"
      },
      "execution_count": 80,
      "outputs": []
    },
    {
      "cell_type": "code",
      "source": [
        "for i in (1, 13, 17, 29, 37, 41, 49, 53):\n",
        "  print(gleichung(4, True, i), end=\" \")\n",
        "print()\n",
        "for i in (7, 19, 31 ,43):\n",
        "  print(gleichung(3, True, i), end=\" \")\n",
        "print()\n",
        "for i in (11, 23, 47, 59, 143, 6 *60+23):\n",
        "  print(gleichung(3, False, i), end=\" \")"
      ],
      "metadata": {
        "colab": {
          "base_uri": "https://localhost:8080/"
        },
        "id": "-0TyT6RfUbei",
        "outputId": "fe057560-2abd-4308-c5ce-13b2bdbec275"
      },
      "execution_count": 74,
      "outputs": [
        {
          "output_type": "stream",
          "name": "stdout",
          "text": [
            "0 1 1 1 1 1 0 1 \n",
            "1 1 1 1 \n",
            "1 1 1 1 2 1 "
          ]
        }
      ]
    },
    {
      "cell_type": "code",
      "source": [
        "start_time = timer()\n",
        "foo = sieve_of_atkin(7919)\n",
        "print(timer() - start_time)\n",
        "print(len(foo))\n",
        "del foo, start_time"
      ],
      "metadata": {
        "colab": {
          "base_uri": "https://localhost:8080/"
        },
        "id": "gUsSUJpTal-y",
        "outputId": "8fac2063-845b-48aa-d8df-62c937e7d523"
      },
      "execution_count": 86,
      "outputs": [
        {
          "output_type": "stream",
          "name": "stdout",
          "text": [
            "3414.609343278\n",
            "1001\n"
          ]
        }
      ]
    }
  ],
  "metadata": {
    "colab": {
      "collapsed_sections": [],
      "name": "Willkommen bei Colaboratory",
      "provenance": [],
      "include_colab_link": true
    },
    "kernelspec": {
      "display_name": "Python 3",
      "name": "python3"
    }
  },
  "nbformat": 4,
  "nbformat_minor": 0
}