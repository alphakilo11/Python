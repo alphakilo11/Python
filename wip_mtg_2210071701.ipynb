{
  "nbformat": 4,
  "nbformat_minor": 0,
  "metadata": {
    "colab": {
      "provenance": [],
      "collapsed_sections": [],
      "mount_file_id": "https://github.com/alphakilo11/Python/blob/main/wip_mtg_2209031837.ipynb",
      "authorship_tag": "ABX9TyM6onPETQM/EAFqOq3x30LA",
      "include_colab_link": true
    },
    "kernelspec": {
      "name": "python3",
      "display_name": "Python 3"
    },
    "language_info": {
      "name": "python"
    }
  },
  "cells": [
    {
      "cell_type": "markdown",
      "metadata": {
        "id": "view-in-github",
        "colab_type": "text"
      },
      "source": [
        "<a href=\"https://colab.research.google.com/github/alphakilo11/Python/blob/main/wip_mtg_2210071701.ipynb\" target=\"_parent\"><img src=\"https://colab.research.google.com/assets/colab-badge.svg\" alt=\"Open In Colab\"/></a>"
      ]
    },
    {
      "cell_type": "code",
      "metadata": {
        "id": "k_5Deu5gVr0v"
      },
      "source": [
        "# https://github.com/MagicTheGathering/mtg-sdk-python\n",
        "!pip install mtgsdk\n",
        "from mtgsdk import Card\n",
        "from mtgsdk import Set"
      ],
      "execution_count": null,
      "outputs": []
    },
    {
      "cell_type": "code",
      "source": [
        "def cardnames(cards):\n",
        "  \"\"\"print list of card names\"\"\"\n",
        "  return list(i.name for i in cards)\n",
        "\n",
        "def create_decklist(list_of_cards, setname, number_of_each_card):\n",
        "  \"\"\" creates a decklist in Forge format (*.dck)\"\"\"\n",
        "  decklist = '[metadata]\\nName=' + setname +'\\n[Main]\\n'\n",
        "  for card in list_of_cards:\n",
        "    decklist += str(number_of_each_card) + ' ' + card.name + '|' + setname + '\\n'\n",
        "  return decklist"
      ],
      "metadata": {
        "id": "tLx9iGYe2VQs"
      },
      "execution_count": 5,
      "outputs": []
    },
    {
      "cell_type": "code",
      "source": [
        "#example\n",
        "cards = Card.where(name='\"Hex\"').where(pageSize=1).all()\n",
        "print(cardnames(cards)) # print list of card names\n",
        "\n",
        "from pprint import pprint\n",
        "pprint(vars(cards[0])) # print all properties of the first card"
      ],
      "metadata": {
        "id": "7msjaA7cvhrY"
      },
      "execution_count": null,
      "outputs": []
    },
    {
      "cell_type": "code",
      "source": [
        "#ENHANCE the program should determine the average CMC of each deck and adjust the number of lands accordingly\n",
        "setname ='GTC'\n",
        "decksize = 36 # without additional lands\n",
        "#cards = Card.where(set=setname).all()\n",
        "number_of_decks = len(cards) // decksize\n",
        "decknames = []\n",
        "for i in range(number_of_decks):\n",
        "  decknames.append(setname + '_' + str(i) + '.dck')\n",
        "print(decknames)\n",
        "\n",
        "\"\"\"\n",
        "filename = '/content/drive/MyDrive/Brettspiele&Co/Magic the Gathering/Decklists/Autogen/' + setname + '.dck'\n",
        "with open(filename, 'x') as file:\n",
        "  file.write(create_decklist(cards, setname, 1))\n",
        "\"\"\""
      ],
      "metadata": {
        "id": "3r3_viBIzwzP",
        "outputId": "b1c90109-e5bf-4d92-fff2-687789980b45",
        "colab": {
          "base_uri": "https://localhost:8080/",
          "height": 74
        }
      },
      "execution_count": 13,
      "outputs": [
        {
          "output_type": "stream",
          "name": "stdout",
          "text": [
            "['GTC_0.dck', 'GTC_1.dck', 'GTC_2.dck', 'GTC_3.dck', 'GTC_4.dck', 'GTC_5.dck']\n"
          ]
        },
        {
          "output_type": "execute_result",
          "data": {
            "text/plain": [
              "\"\\nfilename = '/content/drive/MyDrive/Brettspiele&Co/Magic the Gathering/Decklists/Autogen/' + setname + '.dck'\\nwith open(filename, 'x') as file:\\n  file.write(create_decklist(cards, setname, 1))\\n\""
            ],
            "application/vnd.google.colaboratory.intrinsic+json": {
              "type": "string"
            }
          },
          "metadata": {},
          "execution_count": 13
        }
      ]
    },
    {
      "cell_type": "code",
      "source": [
        "# setlists are ordered by color with lands last (testet with KTK and 2ED)\n",
        "setname ='2ED'\n",
        "number_of_cards = 36\n",
        "\n",
        "seite = 1\n",
        "while True:\n",
        "  cards = Card.where(page=seite).where(pageSize=number_of_cards).where(set=setname).all()\n",
        "  if len(cards) != number_of_cards:\n",
        "    print('Number of cards provided is unequeal', number_of_cards, '. Aborting...')\n",
        "    break\n",
        "  filename = '/content/drive/MyDrive/Brettspiele&Co/Magic the Gathering/Decklists/Autogen/' + setname + '_' + str(seite) + '.dck'\n",
        "  with open(filename, 'x') as file:\n",
        "    file.write(create_decklist(cards, setname, 1))\n",
        "  seite += 1"
      ],
      "metadata": {
        "id": "rWzTHI1l4vyo",
        "outputId": "dcb54cd6-98e2-4e8c-8591-0de9532a8771",
        "colab": {
          "base_uri": "https://localhost:8080/",
          "height": 250
        }
      },
      "execution_count": 3,
      "outputs": [
        {
          "output_type": "error",
          "ename": "FileExistsError",
          "evalue": "ignored",
          "traceback": [
            "\u001b[0;31m---------------------------------------------------------------------------\u001b[0m",
            "\u001b[0;31mFileExistsError\u001b[0m                           Traceback (most recent call last)",
            "\u001b[0;32m<ipython-input-3-48f0e8be345d>\u001b[0m in \u001b[0;36m<module>\u001b[0;34m\u001b[0m\n\u001b[1;32m     10\u001b[0m     \u001b[0;32mbreak\u001b[0m\u001b[0;34m\u001b[0m\u001b[0;34m\u001b[0m\u001b[0m\n\u001b[1;32m     11\u001b[0m   \u001b[0mfilename\u001b[0m \u001b[0;34m=\u001b[0m \u001b[0;34m'/content/drive/MyDrive/Brettspiele&Co/Magic the Gathering/Decklists/Autogen/'\u001b[0m \u001b[0;34m+\u001b[0m \u001b[0msetname\u001b[0m \u001b[0;34m+\u001b[0m \u001b[0;34m'_'\u001b[0m \u001b[0;34m+\u001b[0m \u001b[0mstr\u001b[0m\u001b[0;34m(\u001b[0m\u001b[0mseite\u001b[0m\u001b[0;34m)\u001b[0m \u001b[0;34m+\u001b[0m \u001b[0;34m'.dck'\u001b[0m\u001b[0;34m\u001b[0m\u001b[0;34m\u001b[0m\u001b[0m\n\u001b[0;32m---> 12\u001b[0;31m   \u001b[0;32mwith\u001b[0m \u001b[0mopen\u001b[0m\u001b[0;34m(\u001b[0m\u001b[0mfilename\u001b[0m\u001b[0;34m,\u001b[0m \u001b[0;34m'x'\u001b[0m\u001b[0;34m)\u001b[0m \u001b[0;32mas\u001b[0m \u001b[0mfile\u001b[0m\u001b[0;34m:\u001b[0m\u001b[0;34m\u001b[0m\u001b[0;34m\u001b[0m\u001b[0m\n\u001b[0m\u001b[1;32m     13\u001b[0m     \u001b[0mfile\u001b[0m\u001b[0;34m.\u001b[0m\u001b[0mwrite\u001b[0m\u001b[0;34m(\u001b[0m\u001b[0mcreate_decklist\u001b[0m\u001b[0;34m(\u001b[0m\u001b[0mcards\u001b[0m\u001b[0;34m,\u001b[0m \u001b[0msetname\u001b[0m\u001b[0;34m,\u001b[0m \u001b[0;36m1\u001b[0m\u001b[0;34m)\u001b[0m\u001b[0;34m)\u001b[0m\u001b[0;34m\u001b[0m\u001b[0;34m\u001b[0m\u001b[0m\n\u001b[1;32m     14\u001b[0m   \u001b[0mseite\u001b[0m \u001b[0;34m+=\u001b[0m \u001b[0;36m1\u001b[0m\u001b[0;34m\u001b[0m\u001b[0;34m\u001b[0m\u001b[0m\n",
            "\u001b[0;31mFileExistsError\u001b[0m: [Errno 17] File exists: '/content/drive/MyDrive/Brettspiele&Co/Magic the Gathering/Decklists/Autogen/2ED_1.dck'"
          ]
        }
      ]
    },
    {
      "cell_type": "code",
      "source": [
        "boosterpack = Set.generate_booster('ktk')\n",
        "print(list(i.name for i in boosterpack))"
      ],
      "metadata": {
        "id": "AbMkJbt6073M",
        "outputId": "9d8590b8-6050-4d1e-ac17-2185f38c986a",
        "colab": {
          "base_uri": "https://localhost:8080/"
        }
      },
      "execution_count": null,
      "outputs": [
        {
          "output_type": "stream",
          "name": "stdout",
          "text": [
            "['Mantis Rider', 'Winterflame', 'Pine Walker', 'Seeker of the Way', 'Highland Game', 'Cancel', 'Plains', 'Temur Banner', 'Shatter', 'Longshot Squad', 'Weave Fate', \"Archers' Parapet\", 'Debilitating Injury', 'Plains']\n"
          ]
        }
      ]
    },
    {
      "cell_type": "code",
      "metadata": {
        "id": "j4OSwMjX55V1"
      },
      "source": [
        "# possible phase class characteristics: phases end when all players pass with stack empty\n",
        "# possible both chars: END: emtpy mana, \"until end of\" effects expire BEGIN: \"until\" effects expire, \"at the beginning of\" triggers\n",
        "#HeadsUp: “until end of combat” last until end of combat PHASE\n",
        "phases = \"beginning\", \"precombat main\", \"combat\", \"postcombat main\", \"ending\" \n",
        "beginning_steps = \"untap\", \"upkeep\", \"draw\"\n",
        "combat_steps = \"beginning of combat\", \"declare attackers\", \"declare blockers\", \"combat damage\", \"end of combat\"\n",
        "ending_steps = \"end\", \"cleanup\"\n",
        "\n",
        "def turn(player, number):\n",
        "    print(f\"{player}`s Turn {number}.\")\n",
        "    print(\"Beginning: Untap\")\n",
        "    print(\"Trigger: 'At Beginning of Turn' and 'At Beginning of Untap Step' (go on the stack at beginning of Upkeep)\")\n",
        "    print(\"Phasing\")\n",
        "    print(f\"{player} untaps.\")\n",
        "\n",
        "    print(\"Beginning: Upkeep\")\n",
        "    print(\"Trigger: 'At Beginning of Upkeep'\")\n",
        "    priority(player)\n",
        "\n",
        "    print(\"Beginning: Draw\")\n",
        "    print(\"draw(library, 1)\")\n",
        "    print(\"Trigger: 'At Beginning of Draw Step'\")\n",
        "    priority(player)\n",
        "\n",
        "\n",
        "    print(\"Precombat Main\")\n",
        "    priority(player)\n",
        "\n",
        "    print(\"Combat: Beginning of Combat\")\n",
        "    priority(player)\n",
        "\n",
        "    print(\"Combat: Declare Attackers\")\n",
        "    priority(player)\n",
        "\n",
        "    print(\"Combat: Declare Blockers\")\n",
        "    priority(player)\n",
        "\n",
        "    print(\"Combat: Combat Damage\")\n",
        "    priority(player)\n",
        "\n",
        "    print(\"Combat: End of Combat\")\n",
        "    priority(player)\n",
        "\n",
        "    print(\"Postcombat Main\")\n",
        "    priority(player)\n",
        "\n",
        "    print(\"Ending: End\")\n",
        "    print(\"Trigger: 'At Beginning of your end step'\")\n",
        "\n",
        "    print(\"Ending: Cleanup\")\n",
        "\n",
        "def priority(player):\n",
        "    \"\"\"When a player can do something, eg cast spells\"\"\"\n",
        "    print(\"checking for state-based effects\")\n",
        "    input(\"Make your move!\")\n"
      ],
      "execution_count": null,
      "outputs": []
    },
    {
      "cell_type": "code",
      "metadata": {
        "colab": {
          "base_uri": "https://localhost:8080/"
        },
        "id": "WWxrANjYeFqM",
        "outputId": "804ecbdb-15e8-43c3-8a8b-b70dc083bd6e"
      },
      "source": [
        "#TODO work with JSON files\n",
        "#BUG drawn cards are added as lists inside a list\n",
        "#BUG sorting the hand doesn't work properly \n",
        "\n",
        "import random\n",
        "\n",
        "#the decklist as dictionary (manually compiled)\n",
        "deck1 = {\n",
        "\"Esper Sentinel\":4 ,\n",
        "\"Giver of Runes\":4 ,\n",
        "\"Memnite\":4 ,\n",
        "\"Ornithopter\":4 ,\n",
        "\"Puresteel Paladin\":4 ,\n",
        "\"Stoneforge Mystic\":4 ,\n",
        "\"Steelshaper's Gift\":1 ,\n",
        "\"Colossus Hammer\":4 ,\n",
        "\"Shadowspear\":1 ,\n",
        "\"Springleaf Drum\":3 ,\n",
        "\"Sigarda's Aid\":4 ,\n",
        "\"Horizon Canopy\":2 ,\n",
        "\"Inkmoth Nexus\":4 ,\n",
        "\"Plains\":11,\n",
        "\"Silent Clearing\":2 ,\n",
        "\"Urza's Saga\":4\n",
        "}\n",
        "\n",
        "# creating and shuffling the library\n",
        "library = []\n",
        "for key in deck1:\n",
        "    for i in range(deck1[key]):\n",
        "        library.append(key)\n",
        "        #library.append(Card.where(name=key).all()) # it takes 88 s to fetch a deck of 60 cards\n",
        "    #print(deck1[i], i)\n",
        "random.shuffle(library)\n",
        "\n",
        "\"\"\"Draw function\n",
        "for now it just removes the cards from the library and returns the drawn cards.\n",
        "Maybe they should be added to hand right away, but I think some cards have conditions before being added to the hand\"\"\"\n",
        "def draw(library, number):\n",
        "    if number <= len(library):\n",
        "        drawn_cards = []\n",
        "        for i in range(number):\n",
        "            drawn_cards.append(library.pop(0))\n",
        "        return drawn_cards\n",
        "    else:\n",
        "        global gameover\n",
        "        gameover = 1\n",
        "        print(\"You tried to draw more cards than your library contains and therefore loose the game.\")\n",
        "\n",
        "\n",
        "#draw starting hand\n",
        "hand = []\n",
        "hand.append(draw(library, 7))\n",
        "\n",
        "gameover = 0\n",
        "playername = \"Alex\"\n",
        "\n",
        "while gameover == 0:\n",
        "    print(f\"{playername}´s library contains {len(library)} cards. Hand: {sorted(hand)}\") #TODO sort hand by CMC and type\n",
        "    useraction = input(\"What do you want to do? draw - d, concede - c\")\n",
        "\n",
        "    if useraction == \"c\":\n",
        "        break\n",
        "\n",
        "    if useraction == \"d\":\n",
        "        try:\n",
        "            carddraw = []\n",
        "            carddraw = draw(library, int(input(\"How many cards do you want to draw?\")))\n",
        "            hand.append(carddraw)\n",
        "            if carddraw != None:\n",
        "                print(f\"{playername} draws: {carddraw}\")\n",
        "                        \n",
        "        except ValueError:\n",
        "            print(\"Please enter an integer.\")\n",
        "\n",
        "print(\"Game ended.\")"
      ],
      "execution_count": null,
      "outputs": [
        {
          "output_type": "stream",
          "name": "stdout",
          "text": [
            "Alex´s library contains 53 cards. Hand: [['Inkmoth Nexus', 'Plains', \"Sigarda's Aid\", 'Horizon Canopy', 'Plains', 'Plains', \"Sigarda's Aid\"]]\n",
            "What do you want to do? draw - d, concede - cd\n",
            "How many cards do you want to draw?3\n",
            "Alex draws: ['Esper Sentinel', 'Silent Clearing', 'Silent Clearing']\n",
            "Alex´s library contains 50 cards. Hand: [['Esper Sentinel', 'Silent Clearing', 'Silent Clearing'], ['Inkmoth Nexus', 'Plains', \"Sigarda's Aid\", 'Horizon Canopy', 'Plains', 'Plains', \"Sigarda's Aid\"]]\n",
            "What do you want to do? draw - d, concede - cc\n",
            "Game ended.\n"
          ]
        }
      ]
    },
    {
      "cell_type": "code",
      "metadata": {
        "id": "XritpaLSFedQ"
      },
      "source": [],
      "execution_count": null,
      "outputs": []
    }
  ]
}