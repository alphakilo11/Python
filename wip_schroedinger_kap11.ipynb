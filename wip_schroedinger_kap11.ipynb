{
  "cells": [
    {
      "cell_type": "markdown",
      "metadata": {
        "id": "view-in-github",
        "colab_type": "text"
      },
      "source": [
        "<a href=\"https://colab.research.google.com/github/alphakilo11/Python/blob/main/wip_schroedinger_kap11.ipynb\" target=\"_parent\"><img src=\"https://colab.research.google.com/assets/colab-badge.svg\" alt=\"Open In Colab\"/></a>"
      ]
    },
    {
      "cell_type": "markdown",
      "source": [
        "Schrödinger\n",
        "Kapitel 11"
      ],
      "metadata": {
        "id": "EVZuPXI3AD4i"
      }
    },
    {
      "cell_type": "code",
      "source": [
        "import random\n",
        "random.seed(42)\n",
        "list = (\"ja\", \"nein\")\n",
        "random.choices(list, weights=[2,1], k=9)"
      ],
      "metadata": {
        "id": "oi1feq_DB1Qy",
        "outputId": "d8140b0e-50b8-4336-f4cd-592d0ec41ee3",
        "colab": {
          "base_uri": "https://localhost:8080/"
        }
      },
      "execution_count": 48,
      "outputs": [
        {
          "output_type": "execute_result",
          "data": {
            "text/plain": [
              "['ja', 'ja', 'ja', 'ja', 'nein', 'nein', 'nein', 'ja', 'ja']"
            ]
          },
          "metadata": {},
          "execution_count": 48
        }
      ]
    },
    {
      "cell_type": "code",
      "source": [
        "random.seed(42)\n",
        "auswahl = range(1, 50)\n",
        "ergebnis = random.sample(auswahl, 7)\n",
        "zusatzzahl = ergebnis.pop()\n",
        "ergebnis.sort()\n",
        "print(ergebnis, zusatzzahl)"
      ],
      "metadata": {
        "id": "6VAk6cBdUnJW",
        "outputId": "7d93f239-d9e6-4398-f8b3-bc91645051c3",
        "colab": {
          "base_uri": "https://localhost:8080/"
        }
      },
      "execution_count": 52,
      "outputs": [
        {
          "output_type": "stream",
          "name": "stdout",
          "text": [
            "[2, 8, 15, 16, 18, 41] 9\n"
          ]
        }
      ]
    },
    {
      "cell_type": "code",
      "source": [
        ""
      ],
      "metadata": {
        "id": "4OqfwJ1zWZ0f"
      },
      "execution_count": null,
      "outputs": []
    }
  ],
  "metadata": {
    "colab": {
      "collapsed_sections": [],
      "name": "Willkommen bei Colaboratory",
      "provenance": [],
      "include_colab_link": true
    },
    "kernelspec": {
      "display_name": "Python 3",
      "name": "python3"
    }
  },
  "nbformat": 4,
  "nbformat_minor": 0
}