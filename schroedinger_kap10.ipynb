{
  "cells": [
    {
      "cell_type": "markdown",
      "metadata": {
        "id": "view-in-github",
        "colab_type": "text"
      },
      "source": [
        "<a href=\"https://colab.research.google.com/github/alphakilo11/Python/blob/main/schroedinger_kap10.ipynb\" target=\"_parent\"><img src=\"https://colab.research.google.com/assets/colab-badge.svg\" alt=\"Open In Colab\"/></a>"
      ]
    },
    {
      "cell_type": "markdown",
      "source": [
        "Schrödinger\n",
        "Kapitel 10"
      ],
      "metadata": {
        "id": "EVZuPXI3AD4i"
      }
    },
    {
      "cell_type": "code",
      "source": [
        "import os\n",
        "os.path.getsize(\"mayer.txt\")"
      ],
      "metadata": {
        "id": "K1TnIeTt-xnd",
        "outputId": "e40ce4c5-7c22-418d-aa04-12c50d7358cc",
        "colab": {
          "base_uri": "https://localhost:8080/"
        }
      },
      "execution_count": 29,
      "outputs": [
        {
          "output_type": "execute_result",
          "data": {
            "text/plain": [
              "441"
            ]
          },
          "metadata": {},
          "execution_count": 29
        }
      ]
    },
    {
      "cell_type": "code",
      "source": [
        "#p 378\n",
        "import hashlib\n",
        "def mein_md5(dateiname):\n",
        "  with open(dateiname, \"rb\") as file:\n",
        "    inhalt = file.read()\n",
        "  hash = hashlib.md5()\n",
        "  hash.update(inhalt)\n",
        "  return(hash.hexdigest())\n",
        "mein_md5(\"mayer.txt\") == mein_md5(\"mayer2.txt\")"
      ],
      "metadata": {
        "id": "Eu1AbdVA_WVN",
        "outputId": "56acf3d1-89b4-4dca-c17b-cc9ab745c913",
        "colab": {
          "base_uri": "https://localhost:8080/"
        }
      },
      "execution_count": 34,
      "outputs": [
        {
          "output_type": "execute_result",
          "data": {
            "text/plain": [
              "False"
            ]
          },
          "metadata": {},
          "execution_count": 34
        }
      ]
    }
  ],
  "metadata": {
    "colab": {
      "collapsed_sections": [],
      "name": "Willkommen bei Colaboratory",
      "provenance": [],
      "include_colab_link": true
    },
    "kernelspec": {
      "display_name": "Python 3",
      "name": "python3"
    }
  },
  "nbformat": 4,
  "nbformat_minor": 0
}