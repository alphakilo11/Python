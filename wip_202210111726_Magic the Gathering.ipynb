{
  "nbformat": 4,
  "nbformat_minor": 0,
  "metadata": {
    "colab": {
      "provenance": [],
      "collapsed_sections": [],
      "mount_file_id": "https://github.com/alphakilo11/Python/blob/main/Magic%20the%20Gathering.ipynb",
      "authorship_tag": "ABX9TyOxEHt6KZ661sPUNoFyR8Iq",
      "include_colab_link": true
    },
    "kernelspec": {
      "name": "python3",
      "display_name": "Python 3"
    },
    "language_info": {
      "name": "python"
    }
  },
  "cells": [
    {
      "cell_type": "markdown",
      "metadata": {
        "id": "view-in-github",
        "colab_type": "text"
      },
      "source": [
        "<a href=\"https://colab.research.google.com/github/alphakilo11/Python/blob/main/wip_202210111726_Magic%20the%20Gathering.ipynb\" target=\"_parent\"><img src=\"https://colab.research.google.com/assets/colab-badge.svg\" alt=\"Open In Colab\"/></a>"
      ]
    },
    {
      "cell_type": "code",
      "metadata": {
        "id": "k_5Deu5gVr0v",
        "colab": {
          "base_uri": "https://localhost:8080/"
        },
        "outputId": "c536af24-1ce8-48fa-82c1-3574fa5d2d00"
      },
      "source": [
        "# https://github.com/MagicTheGathering/mtg-sdk-python\n",
        "!pip install mtgsdk\n",
        "from mtgsdk import Card\n",
        "from mtgsdk import Set\n",
        "\n",
        "def cardnames(cards):\n",
        "  \"\"\"print list of card names\"\"\"\n",
        "  return list(i.name for i in cards)\n",
        "\n",
        "def create_decklist(list_of_cards, setname, number_of_each_card, deckname):\n",
        "  \"\"\" creates a decklist in Forge format (*.dck)\"\"\"\n",
        "  decklist = '[metadata]\\nName=' + deckname +'\\n[Main]\\n'\n",
        "  for card in list_of_cards:\n",
        "    decklist += str(number_of_each_card) + ' ' + card.name + '|' + setname + '\\n'\n",
        "  return decklist\n",
        "\n",
        "def count_type(list_of_cards, cardtype):\n",
        "  count = 0\n",
        "  relevant_chars = len(cardtype)\n",
        "  for card in list_of_cards:\n",
        "    if cardtype in card.type:\n",
        "      count += 1\n",
        "  return count\n",
        "\n",
        "def average_cmc(list_of_cards):\n",
        "  sum = 0\n",
        "  count = 0\n",
        "  for card in list_of_cards:\n",
        "    if 'Land' not in card.type:\n",
        "      sum += card.cmc\n",
        "      count += 1\n",
        "  return sum / count\n",
        "\n",
        "def required_lands(list_of_cards):\n",
        "  \"\"\"determine required number of lands according to https://strategy.channelfireball.com/all-strategy/home/how-many-lands-do-you-need-in-your-deck-an-updated-analysis/\n",
        "  aforementioned formula is not really useful for creating variable size decks,  as I don't know how many cards a deck will eventually have\"\"\"\n",
        "  #return len(list_of_cards) / 60 * (19.59 + 1.9 * average_cmc(list_of_cards))\n",
        "  return (19.59 + 1.9 * average_cmc(list_of_cards))\n",
        "\n",
        "def deckgenerator(setname, decksize, non_land_cards, random_lands):\n",
        "  \"\"\"\n",
        "  This generator creates a number of 60-card mtg decks using all cards from a given set. The decks include lands for all five colors.\n",
        "  The decks are stored as *.dck file to be used in Forge.\n",
        "  Input:\n",
        "  * Name of Set\n",
        "  * how many cards should each deck contain (only works when random_lands=True)\n",
        "  * desired number of non-land-cards in each deck\n",
        "  * should a random number of copies form the landpool be added?\n",
        "  currently the generated deck does not contain any lands from the provided set\"\"\"\n",
        "  #BUG more than 4 copies of a non-standard land might be added to decks (chance ~ 3.5 %)\n",
        "  #ENHANCE should have exactly one of each standard land (from same set preferred)\n",
        "  #ENHANCE have a clearer structure of the lands\n",
        "  #ENHANCE distribute creatures evenly\n",
        "  #ENHANCE Distribute CMC evenly\n",
        "  #ENHANCE use card objects for lands\n",
        "  #ENHANCE the program should determine the average CMC of each deck and adjust the number of lands accordingly https://strategy.channelfireball.com/all-strategy/home/how-many-lands-do-you-need-in-your-deck-an-updated-analysis/\n",
        "  #CHECK do modal double-faced cards (MDFCs) appear twice in a decklist?\n",
        "  import random\n",
        "  from timeit import default_timer as timer\n",
        "\n",
        "  start_time = timer()\n",
        "  cards = Card.where(set=setname).all() # getting the cards from the API\n",
        "  if len(cards) < 1:\n",
        "    print(\"Fetching any cards failed.\")\n",
        "    return False\n",
        "  # Remove land cards\n",
        "  temp = []\n",
        "  for card in cards:\n",
        "    if 'Land' not in card.type:\n",
        "      temp.append(card)\n",
        "  cards = temp\n",
        "  del temp\n",
        "  # calculate number of decks\n",
        "  number_of_decks = round(len(cards) / non_land_cards)\n",
        "  if number_of_decks == 0:\n",
        "    print(\"too few cards to create a useful deck\")\n",
        "    return False\n",
        "  \n",
        "  random.shuffle(cards)\n",
        "  decks = {} # this is where the actual decks will be put into\n",
        "  #constructing decknames and creating empty lists for each\n",
        "  decknames = [] \n",
        "  for i in range(number_of_decks):\n",
        "    name = setname + '_' + str(i) + '.dck'\n",
        "    decknames.append(name)\n",
        "    decks[name] = []\n",
        "\n",
        "  counter, checker, cursor = 0, 0, 0\n",
        "  for card in cards:\n",
        "    decks[decknames[cursor]].append(card)\n",
        "    checker += 1\n",
        "    cursor += 1\n",
        "    if cursor > number_of_decks - 1:\n",
        "      cursor = 0\n",
        "  if checker != len(cards):\n",
        "    print(\"Not all cards from the set (\", len(cards), \") made it into the decks(\", checker,\").\")\n",
        "\n",
        "  landpool = []\n",
        "\n",
        "\n",
        "  #BUG I don't know how to formulate a mtgsdk query which returns only one card\n",
        "  #for deck in decknames:\n",
        "  #  while len(decks[deck]) < decksize:\n",
        "  #    decks[deck].append(random.choice(landpool)) # landpool has strings not card objects\n",
        "  for name in decknames:\n",
        "    writecache = create_decklist(decks[name], setname, 1, name[:-4])\n",
        "# add lands\n",
        "    if random_lands == True:\n",
        "      with open('/content/drive/MyDrive/Brettspiele&Co/Magic the Gathering/Decklists/Manabase/mb_autogen.txt', 'r') as file:\n",
        "        content = file.readline()[:-1]\n",
        "        while content != '':\n",
        "          landpool.append(content)\n",
        "          content = file.readline()[:-1]\n",
        "      del content\n",
        "      counter = decksize - len(decks[name])\n",
        "      while counter > 0:\n",
        "        writecache += '1 ' + random.choice(landpool) + '\\n'\n",
        "        counter -= 1\n",
        "    else:\n",
        "      with open('/content/drive/MyDrive/Brettspiele&Co/Magic the Gathering/Decklists/Manabase/mb_autogen.txt', 'r') as file:\n",
        "        content = file.read()     \n",
        "      writecache += content\n",
        "    filename = '/content/drive/MyDrive/Brettspiele&Co/Magic the Gathering/Decklists/Autogen/' + name\n",
        "    with open(filename, 'w') as file:\n",
        "      file.write(writecache)\n",
        "\n",
        "    print(\"Created\", name, len(decks[name]), \" cards.\", count_type(decks[name], 'Land'), \"lands. Average CMC:\", round(average_cmc(decks[name]), 2)\\\n",
        "          , \"Required lands:\", round(required_lands(decks[name]), 2)) # these stats only use the data from card objects\n",
        "\n",
        "  print(\"Dauer: \", timer() - start_time)\n",
        "  return True"
      ],
      "execution_count": 12,
      "outputs": [
        {
          "output_type": "stream",
          "name": "stdout",
          "text": [
            "Looking in indexes: https://pypi.org/simple, https://us-python.pkg.dev/colab-wheels/public/simple/\n",
            "Requirement already satisfied: mtgsdk in /usr/local/lib/python3.7/dist-packages (1.3.1)\n"
          ]
        }
      ]
    },
    {
      "cell_type": "code",
      "source": [
        "# creating a dict of lands with the objective to get a list of card objects for the lands\n",
        "landpool = []\n",
        "with open('/content/drive/MyDrive/Brettspiele&Co/Magic the Gathering/Decklists/Manabase/mb_autogen.txt', 'r') as file:\n",
        "  content = file.readline()[:-1]\n",
        "  while content != '':\n",
        "    landpool.append(content)\n",
        "    content = file.readline()[:-1]\n",
        "del content\n",
        "\n",
        "land_dict = {}\n",
        "for entry in landpool:\n",
        "  land_dict[entry[2:]] = {\"copies\": entry[:1], \"set\": \"KTK\"}\n",
        "land_dict[\"Exotic Orchard\"]['set'] = \"CON\"\n",
        "print(land_dict)\n"
      ],
      "metadata": {
        "id": "HAzmGF3ufkVQ",
        "outputId": "6fd729dc-1be5-4908-ed7e-ab112f32c35b",
        "colab": {
          "base_uri": "https://localhost:8080/"
        }
      },
      "execution_count": 10,
      "outputs": [
        {
          "output_type": "stream",
          "name": "stdout",
          "text": [
            "{'Plains': {'copies': '1', 'set': 'KTK'}, 'Island': {'copies': '1', 'set': 'KTK'}, 'Swamp': {'copies': '1', 'set': 'KTK'}, 'Mountain': {'copies': '1', 'set': 'KTK'}, 'Forest': {'copies': '1', 'set': 'KTK'}, 'Exotic Orchard': {'copies': '4', 'set': 'CON'}, 'Plaza of Heroes': {'copies': '1', 'set': 'KTK'}, 'Cascading Cataracts': {'copies': '4', 'set': 'KTK'}, 'Reflecting Pool': {'copies': '1', 'set': 'KTK'}, 'City of Brass': {'copies': '1', 'set': 'KTK'}, 'Mana Confluence': {'copies': '4', 'set': 'KTK'}, 'Fabled Passage': {'copies': '4', 'set': 'KTK'}}\n"
          ]
        }
      ]
    },
    {
      "cell_type": "code",
      "source": [
        "deckgenerator('LEG', 60, 36, False)"
      ],
      "metadata": {
        "id": "IEGxVhYAwzgt",
        "colab": {
          "base_uri": "https://localhost:8080/"
        },
        "outputId": "31f5b92a-cc8b-41c5-c54e-557082ededab"
      },
      "execution_count": 13,
      "outputs": [
        {
          "output_type": "stream",
          "name": "stdout",
          "text": [
            "Created LEG_0.dck 38  cards. 0 lands. Average CMC: 3.42 Required lands: 26.09\n",
            "Created LEG_1.dck 38  cards. 0 lands. Average CMC: 3.21 Required lands: 25.69\n",
            "Created LEG_2.dck 38  cards. 0 lands. Average CMC: 3.68 Required lands: 26.59\n",
            "Created LEG_3.dck 37  cards. 0 lands. Average CMC: 4.14 Required lands: 27.45\n",
            "Created LEG_4.dck 37  cards. 0 lands. Average CMC: 3.43 Required lands: 26.11\n",
            "Created LEG_5.dck 37  cards. 0 lands. Average CMC: 3.57 Required lands: 26.37\n",
            "Created LEG_6.dck 37  cards. 0 lands. Average CMC: 3.57 Required lands: 26.37\n",
            "Created LEG_7.dck 37  cards. 0 lands. Average CMC: 3.46 Required lands: 26.16\n",
            "Dauer:  14.103984284000035\n"
          ]
        },
        {
          "output_type": "execute_result",
          "data": {
            "text/plain": [
              "True"
            ]
          },
          "metadata": {},
          "execution_count": 13
        }
      ]
    },
    {
      "cell_type": "code",
      "source": [
        "#what is p that more than 4 copies of a non-standard land are added to a deck\n",
        "repetitions = 10000000\n",
        "land_cards = 25\n",
        "landpool = []\n",
        "\n",
        "with open('/content/drive/MyDrive/Brettspiele&Co/Magic the Gathering/Decklists/Manabase/mb_autogen.txt', 'r') as file:\n",
        "  content = file.readline()[:-1]\n",
        "  while content != '':\n",
        "    landpool.append(content)\n",
        "    content = file.readline()[:-1]\n",
        "del content\n",
        "\n",
        "positives = 0\n",
        "for i in range(repetitions):\n",
        "  sample = []\n",
        "  for i in range(land_cards):\n",
        "    draw = random.choice(landpool)\n",
        "    if draw not in landpool[:5]: # assuming that the first 5 entries are standard lands\n",
        "      sample.append(draw)\n",
        "  my_dict = {i:sample.count(i) for i in sample}\n",
        "  for i in range(5, n + 1):\n",
        "    if i in my_dict.values():\n",
        "      #print(my_dict)\n",
        "      positives += 1\n",
        "      break\n",
        "print(round(positives / repetitions * 100, 2), '%')"
      ],
      "metadata": {
        "id": "GYCNV8FAMoTC",
        "outputId": "11f3583b-4602-4a9b-9a78-59926464643d",
        "colab": {
          "base_uri": "https://localhost:8080/"
        }
      },
      "execution_count": null,
      "outputs": [
        {
          "output_type": "stream",
          "name": "stdout",
          "text": [
            "3.47 %\n"
          ]
        }
      ]
    },
    {
      "cell_type": "code",
      "source": [
        "#example\n",
        "test = Card.where(name='Ancient Ziggurat').iter()\n",
        "print(cardnames(test)) # print list of card names\n",
        "\n",
        "#from pprint import pprint\n",
        "#pprint(vars(test[0])) # print all properties of the first card\n",
        "del test"
      ],
      "metadata": {
        "id": "7msjaA7cvhrY",
        "colab": {
          "base_uri": "https://localhost:8080/"
        },
        "outputId": "5fb22754-59dc-4da6-c7d3-93478ea83540"
      },
      "execution_count": null,
      "outputs": [
        {
          "output_type": "stream",
          "name": "stdout",
          "text": [
            "['Ancient Ziggurat', 'Ancient Ziggurat', 'Ancient Ziggurat', 'Ancient Ziggurat', 'Ancient Ziggurat', 'Ancient Ziggurat']\n"
          ]
        }
      ]
    },
    {
      "cell_type": "code",
      "source": [
        "boosterpack = Set.generate_booster('ktk')\n",
        "print(list(i.name for i in boosterpack))"
      ],
      "metadata": {
        "id": "AbMkJbt6073M",
        "outputId": "9d8590b8-6050-4d1e-ac17-2185f38c986a",
        "colab": {
          "base_uri": "https://localhost:8080/"
        }
      },
      "execution_count": null,
      "outputs": [
        {
          "output_type": "stream",
          "name": "stdout",
          "text": [
            "['Mantis Rider', 'Winterflame', 'Pine Walker', 'Seeker of the Way', 'Highland Game', 'Cancel', 'Plains', 'Temur Banner', 'Shatter', 'Longshot Squad', 'Weave Fate', \"Archers' Parapet\", 'Debilitating Injury', 'Plains']\n"
          ]
        }
      ]
    },
    {
      "cell_type": "code",
      "metadata": {
        "id": "j4OSwMjX55V1"
      },
      "source": [
        "# possible phase class characteristics: phases end when all players pass with stack empty\n",
        "# possible both chars: END: emtpy mana, \"until end of\" effects expire BEGIN: \"until\" effects expire, \"at the beginning of\" triggers\n",
        "#HeadsUp: “until end of combat” last until end of combat PHASE\n",
        "phases = \"beginning\", \"precombat main\", \"combat\", \"postcombat main\", \"ending\" \n",
        "beginning_steps = \"untap\", \"upkeep\", \"draw\"\n",
        "combat_steps = \"beginning of combat\", \"declare attackers\", \"declare blockers\", \"combat damage\", \"end of combat\"\n",
        "ending_steps = \"end\", \"cleanup\"\n",
        "\n",
        "def turn(player, number):\n",
        "    print(f\"{player}`s Turn {number}.\")\n",
        "    print(\"Beginning: Untap\")\n",
        "    print(\"Trigger: 'At Beginning of Turn' and 'At Beginning of Untap Step' (go on the stack at beginning of Upkeep)\")\n",
        "    print(\"Phasing\")\n",
        "    print(f\"{player} untaps.\")\n",
        "\n",
        "    print(\"Beginning: Upkeep\")\n",
        "    print(\"Trigger: 'At Beginning of Upkeep'\")\n",
        "    priority(player)\n",
        "\n",
        "    print(\"Beginning: Draw\")\n",
        "    print(\"draw(library, 1)\")\n",
        "    print(\"Trigger: 'At Beginning of Draw Step'\")\n",
        "    priority(player)\n",
        "\n",
        "\n",
        "    print(\"Precombat Main\")\n",
        "    priority(player)\n",
        "\n",
        "    print(\"Combat: Beginning of Combat\")\n",
        "    priority(player)\n",
        "\n",
        "    print(\"Combat: Declare Attackers\")\n",
        "    priority(player)\n",
        "\n",
        "    print(\"Combat: Declare Blockers\")\n",
        "    priority(player)\n",
        "\n",
        "    print(\"Combat: Combat Damage\")\n",
        "    priority(player)\n",
        "\n",
        "    print(\"Combat: End of Combat\")\n",
        "    priority(player)\n",
        "\n",
        "    print(\"Postcombat Main\")\n",
        "    priority(player)\n",
        "\n",
        "    print(\"Ending: End\")\n",
        "    print(\"Trigger: 'At Beginning of your end step'\")\n",
        "\n",
        "    print(\"Ending: Cleanup\")\n",
        "\n",
        "def priority(player):\n",
        "    \"\"\"When a player can do something, eg cast spells\"\"\"\n",
        "    print(\"checking for state-based effects\")\n",
        "    input(\"Make your move!\")\n"
      ],
      "execution_count": null,
      "outputs": []
    },
    {
      "cell_type": "code",
      "metadata": {
        "colab": {
          "base_uri": "https://localhost:8080/"
        },
        "id": "WWxrANjYeFqM",
        "outputId": "1ede1035-93e4-4e81-b8a4-eb225805a3f3"
      },
      "source": [
        "#TODO work with JSON files\n",
        "#BUG drawn cards are added as lists inside a list\n",
        "#BUG sorting the hand doesn't work properly \n",
        "\n",
        "import random\n",
        "\n",
        "#the decklist as dictionary (manually compiled)\n",
        "deck1 = {\n",
        "\"Esper Sentinel\":4 ,\n",
        "\"Giver of Runes\":4 ,\n",
        "\"Memnite\":4 ,\n",
        "\"Ornithopter\":4 ,\n",
        "\"Puresteel Paladin\":4 ,\n",
        "\"Stoneforge Mystic\":4 ,\n",
        "\"Steelshaper's Gift\":1 ,\n",
        "\"Colossus Hammer\":4 ,\n",
        "\"Shadowspear\":1 ,\n",
        "\"Springleaf Drum\":3 ,\n",
        "\"Sigarda's Aid\":4 ,\n",
        "\"Horizon Canopy\":2 ,\n",
        "\"Inkmoth Nexus\":4 ,\n",
        "\"Plains\":11,\n",
        "\"Silent Clearing\":2 ,\n",
        "\"Urza's Saga\":4\n",
        "}\n",
        "\n",
        "# creating and shuffling the library\n",
        "library = []\n",
        "for key in deck1:\n",
        "    for i in range(deck1[key]):\n",
        "        library.append(key)\n",
        "        #library.append(Card.where(name=key).all()) # it takes 88 s to fetch a deck of 60 cards (most likely because all versions of all cards are fetched)\n",
        "    #print(deck1[i], i)\n",
        "random.shuffle(library)\n",
        "\n",
        "\"\"\"Draw function\n",
        "for now it just removes the cards from the library and returns the drawn cards.\n",
        "Maybe they should be added to hand right away, but I think some cards have conditions before being added to the hand\"\"\"\n",
        "def draw(library, number):\n",
        "    if number <= len(library):\n",
        "        drawn_cards = []\n",
        "        for i in range(number):\n",
        "            drawn_cards.append(library.pop(0))\n",
        "        return drawn_cards\n",
        "    else:\n",
        "        global gameover\n",
        "        gameover = 1\n",
        "        print(\"You tried to draw more cards than your library contains and therefore loose the game.\")\n",
        "        return 0\n",
        "\n",
        "\n",
        "#draw starting hand\n",
        "hand = []\n",
        "hand.append(draw(library, 7))\n",
        "\n",
        "gameover = 0\n",
        "playername = \"Alex\"\n",
        "\n",
        "while gameover == 0:\n",
        "    print(f\"{playername}´s library contains {len(library)} cards. Hand: {sorted(hand)}\") #TODO sort hand by CMC and type\n",
        "    useraction = input(\"What do you want to do? draw - d, concede - c\")\n",
        "\n",
        "    if useraction == \"c\":\n",
        "      gameover = 1\n",
        "      break\n",
        "\n",
        "    if useraction == \"d\":\n",
        "        try:\n",
        "            carddraw = []\n",
        "            carddraw = draw(library, int(input(\"How many cards do you want to draw?\")))\n",
        "            if carddraw == 0:\n",
        "              break\n",
        "            hand.append(carddraw)\n",
        "            if carddraw != None:\n",
        "                print(f\"{playername} draws: {carddraw}\")\n",
        "                        \n",
        "        except ValueError:\n",
        "            print(\"Please enter an integer.\")\n",
        "\n",
        "print(\"Game ended.\")"
      ],
      "execution_count": null,
      "outputs": [
        {
          "output_type": "stream",
          "name": "stdout",
          "text": [
            "Alex´s library contains 53 cards. Hand: [['Ornithopter', \"Urza's Saga\", 'Stoneforge Mystic', \"Urza's Saga\", 'Puresteel Paladin', 'Plains', 'Inkmoth Nexus']]\n",
            "What do you want to do? draw - d, concede - cc\n",
            "Game ended.\n"
          ]
        }
      ]
    },
    {
      "cell_type": "code",
      "metadata": {
        "id": "XritpaLSFedQ"
      },
      "source": [],
      "execution_count": null,
      "outputs": []
    }
  ]
}