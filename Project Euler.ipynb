{
  "cells": [
    {
      "cell_type": "markdown",
      "metadata": {
        "id": "view-in-github",
        "colab_type": "text"
      },
      "source": [
        "<a href=\"https://colab.research.google.com/github/alphakilo11/Python/blob/main/Project%20Euler.ipynb\" target=\"_parent\"><img src=\"https://colab.research.google.com/assets/colab-badge.svg\" alt=\"Open In Colab\"/></a>"
      ]
    },
    {
      "cell_type": "code",
      "source": [
        "import time\n",
        "start = time.time()\n",
        "def collatz(ende):\n",
        "    for i in range(1, ende):\n",
        "        while i != 1:\n",
        "            if i % 2 == 0:\n",
        "                i = i * 0.5\n",
        "            else:\n",
        "                i = 3 * i + 1\n",
        "\n",
        "collatz(1000000)\n",
        "print(time.time() - start)"
      ],
      "metadata": {
        "colab": {
          "base_uri": "https://localhost:8080/"
        },
        "id": "i0ht2JjBHyid",
        "outputId": "fdf35a74-022e-4269-f871-5b326da3c894"
      },
      "execution_count": 1,
      "outputs": [
        {
          "output_type": "stream",
          "name": "stdout",
          "text": [
            "29.13610053062439\n"
          ]
        }
      ]
    },
    {
      "cell_type": "code",
      "source": [
        "def PE_1(limes):\n",
        "  \"\"\"https://projecteuler.net/problem=1\"\"\"\n",
        "  sum = 0\n",
        "  for i in range(1, limes):\n",
        "    if i % 3 == 0:\n",
        "      sum = sum + i\n",
        "    else:\n",
        "      if i % 5 == 0:\n",
        "        sum = sum + i\n",
        "  return sum\n",
        "PE_1(1000)"
      ],
      "metadata": {
        "colab": {
          "base_uri": "https://localhost:8080/"
        },
        "id": "7W2CBSvrJD4j",
        "outputId": "f441c083-4bea-4368-b948-1f45737edaaf"
      },
      "execution_count": 4,
      "outputs": [
        {
          "output_type": "execute_result",
          "data": {
            "text/plain": [
              "233168"
            ]
          },
          "metadata": {},
          "execution_count": 4
        }
      ]
    },
    {
      "cell_type": "code",
      "source": [
        "def PE_2(limes):\n",
        "  \"\"\"https://projecteuler.net/problem=2\"\"\"\n",
        "  folge = [1, 2]\n",
        "  i = 2\n",
        "  j = 0\n",
        "  while j < limes:\n",
        "    j = folge[i-2] + folge[i-1]\n",
        "    folge.append(j)\n",
        "    i = i + 1\n",
        "  summe = 0\n",
        "  for j in folge:\n",
        "    if j % 2 == 0:\n",
        "      summe = summe + j\n",
        "  return summe\n",
        "PE_2(4000000)"
      ],
      "metadata": {
        "colab": {
          "base_uri": "https://localhost:8080/"
        },
        "id": "2ySLxZAGKVVJ",
        "outputId": "099fdc5d-4989-42ef-b013-9d6883592340"
      },
      "execution_count": 7,
      "outputs": [
        {
          "output_type": "execute_result",
          "data": {
            "text/plain": [
              "4613732"
            ]
          },
          "metadata": {},
          "execution_count": 7
        }
      ]
    },
    {
      "cell_type": "code",
      "source": [
        "def primzahl(candidate):\n",
        "  for i in range(2, round(candidate ** 0.5) + 1):\n",
        "    if candidate % i == 0:\n",
        "      return False\n",
        "  return True\n",
        "\n",
        "def PE_3(limes):\n",
        "  # https://projecteuler.net/problem=3\n",
        "  primfaktoren = []\n",
        "  for i in range(2, round(limes ** 0.5) + 1):\n",
        "    if limes % i == 0 and primzahl(i):\n",
        "      primfaktoren.append(i)\n",
        "  return max(primfaktoren)\n",
        "\n",
        "PE_3(600851475143)"
      ],
      "metadata": {
        "colab": {
          "base_uri": "https://localhost:8080/"
        },
        "id": "APeFlF71OmEa",
        "outputId": "382ddf6e-62c0-4f28-930d-efbf60304d56"
      },
      "execution_count": 14,
      "outputs": [
        {
          "output_type": "execute_result",
          "data": {
            "text/plain": [
              "6857"
            ]
          },
          "metadata": {},
          "execution_count": 14
        }
      ]
    },
    {
      "cell_type": "code",
      "source": [
        "import time\n",
        "\n",
        "def palindrome(candidate):\n",
        "  return candidate == candidate[::-1]\n",
        "\n",
        "def PE_4():\n",
        "  engere_auswahl = []\n",
        "  for i in range(1000):\n",
        "    for j in range(1000):\n",
        "      if palindrome(str(i * j)):\n",
        "        engere_auswahl.append(i * j)\n",
        "  return(max(engere_auswahl))\n",
        "\n",
        "start = time.time()\n",
        "print(PE_4())\n",
        "print(\"Dauer:\", time.time() - start, \" s\")"
      ],
      "metadata": {
        "id": "RY0b34ZZZTJ7",
        "outputId": "55f9f210-7504-4d93-d4ee-46e36571725d",
        "colab": {
          "base_uri": "https://localhost:8080/"
        }
      },
      "execution_count": 37,
      "outputs": [
        {
          "output_type": "stream",
          "name": "stdout",
          "text": [
            "906609\n",
            "Dauer: 0.4330437183380127  s\n"
          ]
        }
      ]
    }
  ],
  "metadata": {
    "colab": {
      "collapsed_sections": [],
      "name": "Willkommen bei Colaboratory",
      "provenance": [],
      "include_colab_link": true
    },
    "kernelspec": {
      "display_name": "Python 3",
      "name": "python3"
    }
  },
  "nbformat": 4,
  "nbformat_minor": 0
}