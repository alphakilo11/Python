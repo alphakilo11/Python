{
  "cells": [
    {
      "cell_type": "markdown",
      "metadata": {
        "id": "view-in-github",
        "colab_type": "text"
      },
      "source": [
        "<a href=\"https://colab.research.google.com/github/alphakilo11/Python/blob/main/Schroeder%20Chapter%2010.ipynb\" target=\"_parent\"><img src=\"https://colab.research.google.com/assets/colab-badge.svg\" alt=\"Open In Colab\"/></a>"
      ]
    },
    {
      "cell_type": "code",
      "source": [
        "import numpy as np\n",
        "import shelve\n",
        "import time\n",
        "\n",
        "spieler_endrunde = np.random.randn(1000000) #[\"Heinz\", \"Schrödinger\", \"Bill\"] * 10000\n",
        "speicher = shelve.open(\"meineDaten\")\n",
        "speicher[\"imFinale\"] = spieler_endrunde\n",
        "speicher.close()"
      ],
      "metadata": {
        "id": "EBjbdCs-khYb"
      },
      "execution_count": 35,
      "outputs": []
    },
    {
      "cell_type": "code",
      "source": [
        "with open(\"test.txt\", \"w\") as file:\n",
        "  file.write(str(spieler_endrunde))"
      ],
      "metadata": {
        "id": "6WLNg_3xlGQI"
      },
      "execution_count": 19,
      "outputs": []
    },
    {
      "cell_type": "code",
      "source": [
        "mein_speicher = shelve.open(\"meineDaten\")\n",
        "print(mein_speicher[\"imFinale\"])\n",
        "spieler = mein_speicher[\"imFinale\"]\n",
        "print(spieler[-5:])\n",
        "mein_speicher.close()"
      ],
      "metadata": {
        "id": "4dJJYV00l4zK",
        "outputId": "6c273822-cb96-41c0-b8ec-e2c4303836dd",
        "colab": {
          "base_uri": "https://localhost:8080/"
        }
      },
      "execution_count": 17,
      "outputs": [
        {
          "output_type": "stream",
          "name": "stdout",
          "text": [
            "[-0.57632548 -1.61628792 -0.68996214 ...  0.58146811  0.71686575\n",
            " -0.16876068]\n",
            "[-0.60010051  0.95960869  0.58146811  0.71686575 -0.16876068]\n"
          ]
        }
      ]
    },
    {
      "cell_type": "code",
      "source": [
        "# p356\n",
        "foo = input()\n",
        "bar = shelve.open(\"meineDaten\")\n",
        "bar[\"Eingabe\"] = foo\n",
        "bar.close()\n",
        "\n",
        "spam = shelve.open(\"meineDaten\")\n",
        "eggs = spam[\"Eingabe\"]\n",
        "spam.close()\n",
        "print(eggs)"
      ],
      "metadata": {
        "id": "qcrvZc95oIuG",
        "outputId": "f26b9e60-9ec0-44f9-d32e-50fd52df6bbe",
        "colab": {
          "base_uri": "https://localhost:8080/"
        }
      },
      "execution_count": 24,
      "outputs": [
        {
          "output_type": "stream",
          "name": "stdout",
          "text": [
            "wofüh\n",
            "wofüh\n"
          ]
        }
      ]
    },
    {
      "cell_type": "code",
      "source": [
        "info = shelve.open(\"meineDaten\")\n",
        "print(list(info.keys()))\n",
        "print(list(info.values()))\n",
        "print(len(info[\"Eingabe\"]))"
      ],
      "metadata": {
        "id": "45PAkR2YpE95",
        "outputId": "97728f4b-b631-447b-83d9-c6cae7aadaeb",
        "colab": {
          "base_uri": "https://localhost:8080/"
        }
      },
      "execution_count": 34,
      "outputs": [
        {
          "output_type": "stream",
          "name": "stdout",
          "text": [
            "['Eingabe', 'imFinale']\n",
            "['wofüh', array([-0.46010027, -0.86008241,  0.86443842, ...,  0.50745367,\n",
            "        1.63401822, -1.48986296])]\n",
            "5\n"
          ]
        }
      ]
    },
    {
      "cell_type": "code",
      "source": [
        "foo = None\n",
        "while foo != \"\":\n",
        "  foo = input()\n",
        "  bar = foo + \" \" + str(int(time.time()))\n",
        "  print(bar)"
      ],
      "metadata": {
        "id": "0xrqCbrdwkfA",
        "outputId": "2bc58da2-e5ef-47af-9457-fafb37e90876",
        "colab": {
          "base_uri": "https://localhost:8080/"
        }
      },
      "execution_count": 46,
      "outputs": [
        {
          "output_type": "stream",
          "name": "stdout",
          "text": [
            "df\n",
            "df 1659448250\n",
            "\n",
            " 1659448251\n"
          ]
        }
      ]
    },
    {
      "cell_type": "code",
      "source": [
        "oans = []\n",
        "with open(\"test.txt\") as file:\n",
        "  for zeile in file:\n",
        "    oans.append(zeile.rstrip())\n",
        "print(oans)"
      ],
      "metadata": {
        "id": "cj58oDm6xtRE",
        "outputId": "bbf0cd33-aae1-4e5f-ca7e-cfe1a3d4a719",
        "colab": {
          "base_uri": "https://localhost:8080/"
        }
      },
      "execution_count": 51,
      "outputs": [
        {
          "output_type": "stream",
          "name": "stdout",
          "text": [
            "['bla', 'blubb', 'lall', 'juhu']\n"
          ]
        }
      ]
    },
    {
      "cell_type": "code",
      "source": [
        "print(os.getcwd())\n",
        "if not \"Textdateien\" in os.listdir():\n",
        "  os.path.isdir(\"Textdateien\")\n",
        "  print(\"Ordner wurde angelegt.\")\n",
        "else:\n",
        "  print(\"Ordner vorhanden.\")"
      ],
      "metadata": {
        "id": "0gUwkjch4D9D",
        "outputId": "81d9e89f-0011-4457-bba2-986638db65c9",
        "colab": {
          "base_uri": "https://localhost:8080/"
        }
      },
      "execution_count": 67,
      "outputs": [
        {
          "output_type": "stream",
          "name": "stdout",
          "text": [
            "/content\n",
            "Ordner vorhanden.\n"
          ]
        }
      ]
    },
    {
      "cell_type": "code",
      "source": [
        "# p373\n",
        "import shutil\n",
        "for datei in os.listdir():\n",
        "  dateiendung = os.path.splitext(datei)[1]\n",
        "  if dateiendung.lower() == \".txt\":\n",
        "    print(datei)\n",
        "    neue_datei = os.path.join(\"Textdateien\", datei)\n",
        "    if os.path.getsize(datei) != os.path.getsize(neue_datei):\n",
        "      shutil.copyfile(datei, neue_datei)"
      ],
      "metadata": {
        "id": "x0J0cKu_A3cb",
        "outputId": "29cb92cc-5f8c-43ec-c55b-c37fe8ac2234",
        "colab": {
          "base_uri": "https://localhost:8080/"
        }
      },
      "execution_count": 71,
      "outputs": [
        {
          "output_type": "stream",
          "name": "stdout",
          "text": [
            "test.txt\n"
          ]
        }
      ]
    },
    {
      "cell_type": "code",
      "source": [
        "os.path.getsize(\"test.txt\")"
      ],
      "metadata": {
        "id": "HEk9vXqeFGbG",
        "outputId": "fff18801-4cbf-4939-a919-52bce6b0a1ef",
        "colab": {
          "base_uri": "https://localhost:8080/"
        }
      },
      "execution_count": 70,
      "outputs": [
        {
          "output_type": "execute_result",
          "data": {
            "text/plain": [
              "19"
            ]
          },
          "metadata": {},
          "execution_count": 70
        }
      ]
    }
  ],
  "metadata": {
    "colab": {
      "collapsed_sections": [],
      "name": "Willkommen bei Colaboratory",
      "provenance": [],
      "include_colab_link": true
    },
    "kernelspec": {
      "display_name": "Python 3",
      "name": "python3"
    }
  },
  "nbformat": 4,
  "nbformat_minor": 0
}