{
  "cells": [
    {
      "cell_type": "markdown",
      "metadata": {
        "id": "view-in-github",
        "colab_type": "text"
      },
      "source": [
        "<a href=\"https://colab.research.google.com/github/alphakilo11/Python/blob/main/20220723_p161ff%20Regex.ipynb\" target=\"_parent\"><img src=\"https://colab.research.google.com/assets/colab-badge.svg\" alt=\"Open In Colab\"/></a>"
      ]
    },
    {
      "cell_type": "code",
      "source": [
        "from timeit import default_timer as timer\n",
        "\n",
        "#with open(\"bible.txt\") as file:\n",
        "#with open(\"pride.txt\") as file:\n",
        "#with open(\"reise.txt\") as file:\n",
        "#with open(\"flax.txt\") as file:\n",
        "#with open(\"frauen.txt\") as file:\n",
        "#  message = file.read()\n"
      ],
      "metadata": {
        "id": "nHHy4oDrxW4w"
      },
      "execution_count": 9,
      "outputs": []
    },
    {
      "cell_type": "code",
      "source": [
        "def isPhoneNumber(candidate):\n",
        "  digits = [\"0\", \"1\", \"2\", \"3\", \"4\", \"5\", \"6\", \"7\", \"8\", \"9\"] # str.isdigit() covers digits which cannot be used to form numbers in base 10, like the Kharosthi numbers.\n",
        "  if len(candidate) != 12:\n",
        "    return False\n",
        "  for index in [3, 7]:\n",
        "    if candidate[index] != \"-\":\n",
        "      return False\n",
        "  part1 = candidate[:3]\n",
        "  part2 = candidate[4:7]\n",
        "  part3 = candidate[-4:]\n",
        "  for part in [part1, part2, part3]:\n",
        "    for char in part:\n",
        "      if char not in digits:\n",
        "        return False\n",
        "  return True"
      ],
      "metadata": {
        "id": "peAemRGK4NS7"
      },
      "execution_count": 1,
      "outputs": []
    },
    {
      "cell_type": "code",
      "source": [
        "start_time = timer()\n",
        "foo = isPhoneNumber(\"415-555-4242\")\n",
        "print(timer() - start_time)\n",
        "print(foo)"
      ],
      "metadata": {
        "id": "AkIivXQc7RQz",
        "outputId": "0d26533e-70df-4b42-fd37-eb35725595c1",
        "colab": {
          "base_uri": "https://localhost:8080/"
        }
      },
      "execution_count": null,
      "outputs": [
        {
          "output_type": "stream",
          "name": "stdout",
          "text": [
            "0.0001101889993151417\n",
            "True\n"
          ]
        }
      ]
    },
    {
      "cell_type": "code",
      "source": [
        "#message = \"Call me at 294-340-5932 tomorrow. 123-456-7890 is my office number.\"\n",
        "start_time = timer()\n",
        "hits = []\n",
        "for i in range(len(message) - 12):\n",
        "  chunk = message[i:i+12]\n",
        "  if isPhoneNumber(chunk):\n",
        "    hits.append(chunk)\n",
        "print(timer() - start_time)\n",
        "print(hits)"
      ],
      "metadata": {
        "id": "PJSUYowc9Awx",
        "outputId": "daa9feab-5906-4942-bad3-05a4b1f0cfd8",
        "colab": {
          "base_uri": "https://localhost:8080/"
        }
      },
      "execution_count": 28,
      "outputs": [
        {
          "output_type": "stream",
          "name": "stdout",
          "text": [
            "4.555431231000057\n",
            "[]\n"
          ]
        }
      ]
    },
    {
      "cell_type": "code",
      "source": [
        "import re\n",
        "start_time = timer()\n",
        "phoneNumberRegex = re.compile(r\"\\d{3}-\\d{3}-\\d{4}\")\n",
        "hits = phoneNumberRegex.findall(message)\n",
        "print(timer() - start_time)\n",
        "print(hits)"
      ],
      "metadata": {
        "id": "MEM_amR8AnvV",
        "outputId": "a4bc9f2c-dc7e-4576-f670-8ea8af62e12c",
        "colab": {
          "base_uri": "https://localhost:8080/"
        }
      },
      "execution_count": 29,
      "outputs": [
        {
          "output_type": "stream",
          "name": "stdout",
          "text": [
            "0.1689872669999204\n",
            "[]\n"
          ]
        }
      ]
    },
    {
      "cell_type": "code",
      "source": [
        "bar = \"\\s\"\n",
        "foo = 'Agent' + bar + '(\\w)\\w*'\n",
        "agentNameRegex = re.compile(foo)\n",
        "agentNameRegex.sub(r'\\1****', 'Agent Carol told Agent Buchovsky that Agent Smith was a Double Agent.')"
      ],
      "metadata": {
        "id": "Javq3LN4Gemd",
        "outputId": "b24fed40-b22c-4fdd-b7da-df50ad051ae6",
        "colab": {
          "base_uri": "https://localhost:8080/",
          "height": 36
        }
      },
      "execution_count": 67,
      "outputs": [
        {
          "output_type": "execute_result",
          "data": {
            "text/plain": [
              "'C**** told B**** that S**** was a Double Agent.'"
            ],
            "application/vnd.google.colaboratory.intrinsic+json": {
              "type": "string"
            }
          },
          "metadata": {},
          "execution_count": 67
        }
      ]
    },
    {
      "cell_type": "code",
      "source": [
        "with open(\"test.txt\") as file:\n",
        "  message = file.read()\n",
        "regex_email = re.compile(\"\\S+@\\w+.\\w+\")\n",
        "print(regex_email.findall(message))\n",
        "\n",
        "phoneNumberRegex = re.compile(r\"\\d{3}.\\d{3}.\\d{4}\")\n",
        "print(phoneNumberRegex.findall(message))"
      ],
      "metadata": {
        "id": "iEXB0loOQ24q",
        "outputId": "5660028b-64e3-490e-8c81-1f0179de6748",
        "colab": {
          "base_uri": "https://localhost:8080/"
        }
      },
      "execution_count": 127,
      "outputs": [
        {
          "output_type": "stream",
          "name": "stdout",
          "text": [
            "['support@nostarch.com', 'academic@nostarch.com', 'sales@nostarch.com', 'conferences@nostarch.com', 'errata@nostarch.com', 'info@nostarch.com', 'media@nostarch.com', 'editors@nostarch.com', 'rights@nostarch.com', 'support@nostarch.com']\n",
            "['800.420.7240', '415.863.9900', '415.863.9950']\n"
          ]
        }
      ]
    },
    {
      "cell_type": "code",
      "source": [
        "#BUG does not work\n",
        "message = \"06605094112, 0660/5094112, +43660/5094112, 5094112\"\n",
        "regex_phoneNumber = re.compile(r\"\"\"\n",
        "((\n",
        "  ^(0|(00\\d\\d)|(\\+\\d\\d)) #Ländercode\n",
        "  (\\d{3}) # Vorwahl\n",
        "  )?\n",
        "(\\d+))\"\"\", re.VERBOSE)\n",
        "print(regex_phoneNumber.findall(message))\n"
      ],
      "metadata": {
        "id": "m-zBQvwzdNvB",
        "outputId": "6274c98f-5b00-41f7-c75f-8cf36b92a735",
        "colab": {
          "base_uri": "https://localhost:8080/"
        }
      },
      "execution_count": 122,
      "outputs": [
        {
          "output_type": "stream",
          "name": "stdout",
          "text": [
            "[('06605094112', '0660', '0', '', '', '660', '5094112'), ('0660', '', '', '', '', '', '0660'), ('5094112', '', '', '', '', '', '5094112'), ('43660', '', '', '', '', '', '43660'), ('5094112', '', '', '', '', '', '5094112'), ('5094112', '', '', '', '', '', '5094112')]\n"
          ]
        }
      ]
    },
    {
      "cell_type": "code",
      "source": [
        "p184 #20\n",
        "message = \"42 1,245 15,156,456 12,14,516 1546\".split(\" \")\n",
        "foo = r\"^\\d{1,3}(,\\d{3})*$\"\n",
        "for i in message:\n",
        "  regex_foo = re.compile(foo)\n",
        "  print(regex_foo.search(i))"
      ],
      "metadata": {
        "id": "BWkEQovS0MDg"
      },
      "execution_count": null,
      "outputs": []
    },
    {
      "cell_type": "code",
      "source": [
        "#p185 #21\n",
        "message = \"Haruto Watanabe,RoboCop Watanabe,Alice Watanabe,naruto Watanabe,Boyle watanabe,Mr. Watanabe\".split(\",\")\n",
        "foo = \"^[A-Z]\\w* Watanabe$\"\n",
        "for i in message:\n",
        "  regex_foo = re.compile(foo)\n",
        "  print(regex_foo.search(i))"
      ],
      "metadata": {
        "id": "vtu_mGFbCm0e"
      },
      "execution_count": null,
      "outputs": []
    },
    {
      "cell_type": "code",
      "source": [
        "#p185 Date Detection\n",
        "#BUG leap year detection wrong\n",
        "def check_date(date):\n",
        "  #check format\n",
        "  regex = \"([0-3]\\d)/([0-1]\\d)/([1-2]\\d{3})\"\n",
        "  regex_foo = re.compile(regex)\n",
        "  format_result = regex_foo.search(date)\n",
        "  if format_result != None:\n",
        "    print(format_result.group())\n",
        "    #check existence\n",
        "    long_months = (1, 3, 5, 7, 8, 10, 12)\n",
        "    day, month, year = int(format_result.group(1)), int(format_result.group(2)), int(format_result.group(3))\n",
        "    if day > 31 or month > 12 or (day == 31 and month not in long_months):\n",
        "      return False\n",
        "    if month == 2:\n",
        "      if day > 29 or (day == 29 and (year % 4 != 0 and not (year % 100 == 0 and year % 400 != 0))):\n",
        "        return False\n",
        "    return True\n",
        "  return False"
      ],
      "metadata": {
        "id": "yEu1rflZD_Xl"
      },
      "execution_count": 171,
      "outputs": []
    },
    {
      "cell_type": "code",
      "source": [
        "check_date(\"32/03/1300\")"
      ],
      "metadata": {
        "id": "2UGZwkfEHn20",
        "outputId": "faaf4cfc-fda7-4d1f-9857-f46463620c43",
        "colab": {
          "base_uri": "https://localhost:8080/"
        }
      },
      "execution_count": 181,
      "outputs": [
        {
          "output_type": "stream",
          "name": "stdout",
          "text": [
            "32/03/1300\n"
          ]
        },
        {
          "output_type": "execute_result",
          "data": {
            "text/plain": [
              "False"
            ]
          },
          "metadata": {},
          "execution_count": 181
        }
      ]
    }
  ],
  "metadata": {
    "colab": {
      "collapsed_sections": [],
      "name": "Willkommen bei Colaboratory",
      "provenance": [],
      "include_colab_link": true
    },
    "kernelspec": {
      "display_name": "Python 3",
      "name": "python3"
    }
  },
  "nbformat": 4,
  "nbformat_minor": 0
}