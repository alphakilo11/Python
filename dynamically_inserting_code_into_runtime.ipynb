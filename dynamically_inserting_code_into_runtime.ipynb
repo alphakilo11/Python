{
  "cells": [
    {
      "cell_type": "markdown",
      "metadata": {
        "id": "view-in-github",
        "colab_type": "text"
      },
      "source": [
        "<a href=\"https://colab.research.google.com/github/alphakilo11/Python/blob/main/dynamically_inserting_code_into_runtime.ipynb\" target=\"_parent\"><img src=\"https://colab.research.google.com/assets/colab-badge.svg\" alt=\"Open In Colab\"/></a>"
      ]
    },
    {
      "cell_type": "code",
      "source": [
        "# function.py\n",
        "def f(x):\n",
        "  print(\"Hello World!\")"
      ],
      "metadata": {
        "id": "kAmbyW622GHz"
      },
      "execution_count": null,
      "outputs": []
    },
    {
      "cell_type": "code",
      "source": [
        "# wrapper to execute dynamic code\n",
        "#ADD check code for updates every day at around 0300L\n",
        "#ENHANCE include an option to manually trigger an update_check\n",
        "#ENHANCE avoid reading and processing large files by checking a version number and skipping if up-to-date (checksum? versionnumber in seperate file?)\n",
        "#OPTIONAL enable on-the-fly wrapper paramter changes (eg time of regular update check)\n",
        "\n",
        "import time\n",
        "\n",
        "while True:\n",
        "  try:\n",
        "    with open(\"function.py\") as code:\n",
        "      code = code.read()\n",
        "    exec(code)\n",
        "  except:\n",
        "    print(\"Could not open file. Continuing with runtime.\")\n",
        "  f(5)\n",
        "  # countdown to avoid conflicting file access\n",
        "  for i in range(10, 0, -1):\n",
        "    print(i)\n",
        "    time.sleep(1)"
      ],
      "metadata": {
        "id": "9DNayu9fIDqf"
      },
      "execution_count": null,
      "outputs": []
    }
  ],
  "metadata": {
    "colab": {
      "collapsed_sections": [],
      "name": "dynamically inserting code into runtime",
      "provenance": [],
      "include_colab_link": true
    },
    "kernelspec": {
      "display_name": "Python 3",
      "name": "python3"
    }
  },
  "nbformat": 4,
  "nbformat_minor": 0
}