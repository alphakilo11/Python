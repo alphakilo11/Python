{
  "cells": [
    {
      "cell_type": "markdown",
      "metadata": {
        "id": "view-in-github",
        "colab_type": "text"
      },
      "source": [
        "<a href=\"https://colab.research.google.com/github/alphakilo11/Python/blob/main/22110311956_Excel.ipynb\" target=\"_parent\"><img src=\"https://colab.research.google.com/assets/colab-badge.svg\" alt=\"Open In Colab\"/></a>"
      ]
    },
    {
      "cell_type": "code",
      "source": [
        "#Prototype to find all row indizes with \"Kathrin\" in column 6 (Schauspielteam)\n",
        "#ENHANCE take typos into account\n",
        "\n",
        "import openpyxl\n",
        "wb = openpyxl.load_workbook('/content/Aufführungen Mobilestücke ab 01.2022_NEUSTART_Aktuell_31.10.2022.xlsx')\n",
        "sheet = wb['Neustart B']\n",
        "for i in range(1, sheet.max_row + 1):\n",
        "  zelleninhalt = sheet.cell(row=i, column=6).value\n",
        "  if type(zelleninhalt) == type(\"bla\"):\n",
        "    if \"Kathrin\" in zelleninhalt:\n",
        "      print(i)"
      ],
      "metadata": {
        "id": "QWC6y1qisIcB"
      },
      "execution_count": null,
      "outputs": []
    },
    {
      "cell_type": "code",
      "source": [
        "def search_column(sheet, string, column_index):\n",
        "  \"\"\"Returns a list of column indices where string is found.\"\"\"\n",
        "  #ENHANCE convert to list of strings and return a dictionary of indices\n",
        "  #ENHANCE account for typos\n",
        "  positive_indices = []\n",
        "  for i in range(1, sheet.max_row + 1):\n",
        "    zelleninhalt = sheet.cell(row=i, column=column_index).value\n",
        "    if type(zelleninhalt) == type(\"\"):\n",
        "      if string in zelleninhalt:\n",
        "        positive_indices.append(i)\n",
        "  return positive_indices\n",
        "\n",
        "def get_values(sheet, column_list, row_list):\n",
        "  \"\"\"return values from a sheet row by row\"\"\"\n",
        "  values = {}\n",
        "  for row in row_list:\n",
        "    values[row] = []\n",
        "    for column in column_list:\n",
        "      values[row].append(sheet.cell(row=row, column=column).value)\n",
        "  return values\n"
      ],
      "metadata": {
        "id": "LEMWS6ItvbJ4"
      },
      "execution_count": 57,
      "outputs": []
    },
    {
      "cell_type": "code",
      "source": [
        "import openpyxl\n",
        "wb = openpyxl.load_workbook('/content/Aufführungen Mobilestücke ab 01.2022_NEUSTART_Aktuell_31.10.2022.xlsx')\n",
        "sheet = wb['Neustart B']\n",
        "hits = search_column(sheet, \"Kathrin\", 6)\n",
        "print(get_values(sheet, (1, 3, 4), hits))"
      ],
      "metadata": {
        "id": "IxHjKyV0UpWY",
        "outputId": "0298e1c4-fde9-476f-9f35-1343d9bfe971",
        "colab": {
          "base_uri": "https://localhost:8080/"
        }
      },
      "execution_count": 60,
      "outputs": [
        {
          "output_type": "stream",
          "name": "stdout",
          "text": [
            "{7: [datetime.datetime(2022, 1, 20, 0, 0), 'Friedensalphabet', 'Werner-von-Siemens Grundschule Augsburg'], 8: [datetime.datetime(2022, 1, 21, 0, 0), 'WS Friedensalphabet', 'Werner-von-Siemens Grundschule Augsburg'], 12: [datetime.datetime(2022, 1, 28, 0, 0), 'WS Friedensalphabet', 'Gundschule Nordendorf'], 18: [datetime.datetime(2022, 2, 3, 0, 0), 'Friedensalphabet', 'Grundschule Affing'], 19: [datetime.datetime(2022, 2, 4, 0, 0), 'WS Friedensalphabet', 'Grundschule Affing'], 27: [datetime.datetime(2022, 2, 16, 0, 0), 'WS Friedensalphabet ', 'Gundschule Nordendorf'], 42: [datetime.datetime(2022, 3, 17, 0, 0), 'Friedensalphabet', 'Grundschule Reisensburg Günzburg'], 53: [datetime.datetime(2022, 3, 29, 0, 0), 'Regenbogen', 'Don-Bosco-Schule Marktoberdorf'], 56: [datetime.datetime(2022, 3, 31, 0, 0), 'Friedensalphabet', 'Konradin Grundschule Kaufbeuren'], 59: [datetime.datetime(2022, 4, 1, 0, 0), 'Friedensalphabet Workshops', 'Konradin Grundschule Kaufbeuren'], 63: [datetime.datetime(2022, 4, 5, 0, 0), 'Friedensalphabet Workshops', 'Grundschule St. Johann Peißenberg'], 64: [datetime.datetime(2022, 4, 6, 0, 0), 'Friedensalphabet ', 'Paul-Gerhardt-Grund- und MS Freising'], 67: [datetime.datetime(2022, 4, 7, 0, 0), 'Friedensalphabet Workshops', 'Paul-Gerhardt-Grund- und MS Freising'], 68: [datetime.datetime(2022, 4, 8, 0, 0), 'Gut So', 'Grundschule Oberndorf'], 71: [datetime.datetime(2022, 4, 25, 0, 0), 'Friedensalphabet ', 'Grundschule am Graben Eichstätt'], 78: [datetime.datetime(2022, 4, 28, 0, 0), 'Friedensalphabet ', 'Grundschule Taching am See'], 83: [datetime.datetime(2022, 4, 29, 0, 0), 'Friedensalphabet Workshops', 'Grundschule Taching am See'], 88: [datetime.datetime(2022, 5, 3, 0, 0), 'Gut So', 'Grundschule Kleinerdlingen Ederheim'], 91: [datetime.datetime(2022, 5, 5, 0, 0), 'Friedensalphabet ', 'Montessori Schule Dinkelscherben'], 93: [datetime.datetime(2022, 5, 6, 0, 0), 'Friedensalphabet Workshops', 'Montessori Schule Dinkelscherben'], 97: [datetime.datetime(2022, 5, 11, 0, 0), 'Zauberfluss', 'Bauernhofkindergarten Reimlingen'], 98: [datetime.datetime(2022, 5, 12, 0, 0), 'Friedensalphabet ', 'Grundschule Niederraunau'], 99: [datetime.datetime(2022, 5, 12, 0, 0), 'Friedensalphabet Workshops', 'Grundschule Niederraunau'], 101: [datetime.datetime(2022, 5, 13, 0, 0), 'Friedensalphabet Workshops', 'Grundschule Niederraunau'], 105: [datetime.datetime(2022, 5, 18, 0, 0), 'Friedensalphabet ', 'Christoph-Rodt-Grundschule Neuburg a. d. Kammel'], 107: [datetime.datetime(2022, 5, 19, 0, 0), 'Friedensalphabet ', 'Grundschule Affing'], 109: [datetime.datetime(2022, 5, 20, 0, 0), 'Friedensalphabet Workshops', 'Grundschule Affing'], 110: [datetime.datetime(2022, 5, 23, 0, 0), 'Friedensalphabet ', 'Grundschule Neusäß Am Eichenwald'], 111: [datetime.datetime(2022, 5, 23, 0, 0), 'Friedensalphabet Workshops', 'Grundschule Neusäß Am Eichenwald'], 114: [datetime.datetime(2022, 5, 24, 0, 0), 'Gut So', 'Grundschule Wettenhausen'], 117: [datetime.datetime(2022, 5, 25, 0, 0), 'Friedensalphabet Workshops', 'Grundschule Neusäß Am Eichenwald'], 118: [datetime.datetime(2022, 5, 27, 0, 0), 'Friedensalphabet ', 'Grundschule Ronsberg'], 120: [datetime.datetime(2022, 5, 30, 0, 0), 'Friedensalphabet ', 'Schillerschule Augsburg'], 122: [datetime.datetime(2022, 5, 31, 0, 0), 'Friedensalphabet Workshops', 'Schillerschule Augsburg'], 129: [datetime.datetime(2022, 6, 3, 0, 0), 'Friedensalphabet ', 'Engelbert-Humperdinck-Grundschule Frankfurt am Main'], 132: [datetime.datetime(2022, 6, 20, 0, 0), 'Regenbogen Online', 'Lena Christ Realschule, Markt Schwaben'], 134: [datetime.datetime(2022, 6, 21, 0, 0), 'Gut So', 'Grundschule Biesenhofen'], 135: [datetime.datetime(2022, 6, 22, 0, 0), 'Friedensalphabet ', 'Grundschule Reisensburg'], 137: [datetime.datetime(2022, 6, 23, 0, 0), 'Friedensalphabet ', 'Montessori Schule Augsburg'], 139: [datetime.datetime(2022, 6, 24, 0, 0), 'Friedensalphabet Workshops', 'Montessori Schule Augsburg'], 150: [datetime.datetime(2022, 7, 5, 0, 0), 'Friedensalphabet', 'Ludwig Steub GS Aichach'], 151: [datetime.datetime(2022, 7, 6, 0, 0), 'Friedensalphabet WS', 'Ludwig Steub GS Aichach'], 156: [datetime.datetime(2022, 7, 12, 0, 0), 'Friedensalphabet', 'Ludwig Steub GS Aichach'], 158: [datetime.datetime(2022, 7, 13, 0, 0), 'Friedensalphabet WS', 'Ludwig Steub GS Aichach'], 159: [datetime.datetime(2022, 7, 14, 0, 0), 'Friedensalphabet', 'Josef-Friedrich-Leutner GS Peiting'], 160: [datetime.datetime(2022, 7, 15, 0, 0), 'Friedensalphabet WS', 'Josef-Friedrich-Leutner GS Peiting'], 162: [datetime.datetime(2022, 7, 18, 0, 0), 'Friedensalphabet', 'GS- und MS Wittislingen'], 163: [datetime.datetime(2022, 7, 18, 0, 0), 'Friedensalphabet WS', 'GS- und MS Wittislingen'], 165: [datetime.datetime(2022, 7, 19, 0, 0), 'Zauberfluss', 'Kiga St. Vitus Mauerstetten'], 167: [datetime.datetime(2022, 7, 20, 0, 0), 'Friedensalphabet', 'GS Altenstadt'], 171: [datetime.datetime(2022, 7, 21, 0, 0), 'Friedensalphabet', 'Montessori Schule Wertingen'], 172: [datetime.datetime(2022, 7, 22, 0, 0), 'Friedensalphabet WS', 'Montessori Schule Wertingen'], 173: [datetime.datetime(2022, 7, 25, 0, 0), 'Friedensalphabet', 'Ulrich-von-Thürheim-GS'], 175: [datetime.datetime(2022, 7, 26, 0, 0), 'Friedensalphabet', 'GS- und MS Bissingen'], 178: [datetime.datetime(2022, 7, 27, 0, 0), 'Friedensalphabet WS', 'GS- und MS Bissingen'], 187: [datetime.datetime(2022, 9, 28, 0, 0), 'Friedensalphabet', 'GS Trostberg'], 190: [datetime.datetime(2022, 9, 29, 0, 0), 'WS Friedensalphabet', 'GS Trostberg'], 192: [datetime.datetime(2022, 9, 30, 0, 0), 'Gut So', 'Grundschule Tapfheim'], 198: [datetime.datetime(2022, 10, 6, 0, 0), 'Zauberfluss', 'GS an der Paulckestraße München'], 199: [datetime.datetime(2022, 10, 7, 0, 0), 'WS Friedensalphabet', 'Pestalozzi Schule Neuötting'], 201: [datetime.datetime(2022, 10, 11, 0, 0), 'WS Eigentlich wollte ich fliegen', 'Martinschule Augsburg'], 204: [datetime.datetime(2022, 10, 12, 0, 0), 'WS Eigentlich wollte ich fliegen', 'Martinschule Augsburg'], 207: [datetime.datetime(2022, 10, 13, 0, 0), 'Friedensalphabet', 'Grund- und Mittelschule Neustigt'], 209: [datetime.datetime(2022, 10, 14, 0, 0), 'WS Friedensalphabet', 'Grund- und Mittelschule Neustigt'], 212: [datetime.datetime(2022, 10, 18, 0, 0), 'Friedensalphabet', 'GS Reisensburg'], 214: [datetime.datetime(2022, 12, 20, 0, 0), '5 Little Pieces for piece', 'MS Geretsried'], 216: [datetime.datetime(2022, 10, 21, 0, 0), 'WS 5 Little Pieces for piece', 'MS Geretsried'], 219: [datetime.datetime(2022, 10, 26, 0, 0), 'Friedensalphabet', 'GS Bad Heilbrunn'], 221: [datetime.datetime(2022, 10, 27, 0, 0), 'WS Friedensalphabet', 'GS Bad Heilbrunn']}\n"
          ]
        }
      ]
    },
    {
      "cell_type": "code",
      "source": [
        "# use the indices to extract certain values from the sheet and create a new file using these values\n",
        "\n",
        "wb = openpyxl.Workbook() #create a new workbook\n",
        "sheet = wb[\"Sheet\"]\n",
        "sheet[\"A1\"] = \"Hello World!\"\n",
        "wb.save(\"example.xlsx\") # save the workbook"
      ],
      "metadata": {
        "id": "YiW2pd3YFjbM"
      },
      "execution_count": 54,
      "outputs": []
    }
  ],
  "metadata": {
    "colab": {
      "collapsed_sections": [],
      "name": "Willkommen bei Colaboratory",
      "provenance": [],
      "include_colab_link": true
    },
    "kernelspec": {
      "display_name": "Python 3",
      "name": "python3"
    }
  },
  "nbformat": 4,
  "nbformat_minor": 0
}
