{
  "nbformat": 4,
  "nbformat_minor": 0,
  "metadata": {
    "colab": {
      "provenance": [],
      "collapsed_sections": [],
      "authorship_tag": "ABX9TyNoIocbLP7RQ9fk6pEWcty+",
      "include_colab_link": true
    },
    "kernelspec": {
      "name": "python3",
      "display_name": "Python 3"
    },
    "language_info": {
      "name": "python"
    }
  },
  "cells": [
    {
      "cell_type": "markdown",
      "metadata": {
        "id": "view-in-github",
        "colab_type": "text"
      },
      "source": [
        "<a href=\"https://colab.research.google.com/github/alphakilo11/Python/blob/main/Magic_the_Gathering.ipynb\" target=\"_parent\"><img src=\"https://colab.research.google.com/assets/colab-badge.svg\" alt=\"Open In Colab\"/></a>"
      ]
    },
    {
      "cell_type": "code",
      "metadata": {
        "colab": {
          "base_uri": "https://localhost:8080/"
        },
        "id": "k_5Deu5gVr0v",
        "outputId": "e0314de4-beee-404d-ff2a-f8945fe06666"
      },
      "source": [
        "# https://github.com/MagicTheGathering/mtg-sdk-python\n",
        "!pip install mtgsdk\n",
        "from mtgsdk import Card\n",
        "\n",
        "#example\n",
        "cards = Card.where(name='Giver of Runes').all()\n",
        "print(cards[0])"
      ],
      "execution_count": 3,
      "outputs": [
        {
          "output_type": "stream",
          "name": "stdout",
          "text": [
            "Looking in indexes: https://pypi.org/simple, https://us-python.pkg.dev/colab-wheels/public/simple/\n",
            "Requirement already satisfied: mtgsdk in /usr/local/lib/python3.7/dist-packages (1.3.1)\n",
            "<mtgsdk.card.Card object at 0x7f4fcc72f8d0>\n"
          ]
        }
      ]
    },
    {
      "cell_type": "code",
      "metadata": {
        "id": "j4OSwMjX55V1"
      },
      "source": [
        "# possible phase class characteristics: phases end when all players pass with stack empty\n",
        "# possible both chars: END: emtpy mana, \"until end of\" effects expire BEGIN: \"until\" effects expire, \"at the beginning of\" triggers\n",
        "#HeadsUp: “until end of combat” last until end of combat PHASE\n",
        "phases = \"beginning\", \"precombat main\", \"combat\", \"postcombat main\", \"ending\" \n",
        "beginning_steps = \"untap\", \"upkeep\", \"draw\"\n",
        "combat_steps = \"beginning of combat\", \"declare attackers\", \"declare blockers\", \"combat damage\", \"end of combat\"\n",
        "ending_steps = \"end\", \"cleanup\"\n",
        "\n",
        "def turn(player, number):\n",
        "    print(f\"{player}`s Turn {number}.\")\n",
        "    print(\"Beginning: Untap\")\n",
        "    print(\"Trigger: 'At Beginning of Turn' and 'At Beginning of Untap Step' (go on the stack at beginning of Upkeep)\")\n",
        "    print(\"Phasing\")\n",
        "    print(f\"{player} untaps.\")\n",
        "\n",
        "    print(\"Beginning: Upkeep\")\n",
        "    print(\"Trigger: 'At Beginning of Upkeep'\")\n",
        "    priority(player)\n",
        "\n",
        "    print(\"Beginning: Draw\")\n",
        "    print(\"draw(library, 1)\")\n",
        "    print(\"Trigger: 'At Beginning of Draw Step'\")\n",
        "    priority(player)\n",
        "\n",
        "\n",
        "    print(\"Precombat Main\")\n",
        "    priority(player)\n",
        "\n",
        "    print(\"Combat: Beginning of Combat\")\n",
        "    priority(player)\n",
        "\n",
        "    print(\"Combat: Declare Attackers\")\n",
        "    priority(player)\n",
        "\n",
        "    print(\"Combat: Declare Blockers\")\n",
        "    priority(player)\n",
        "\n",
        "    print(\"Combat: Combat Damage\")\n",
        "    priority(player)\n",
        "\n",
        "    print(\"Combat: End of Combat\")\n",
        "    priority(player)\n",
        "\n",
        "    print(\"Postcombat Main\")\n",
        "    priority(player)\n",
        "\n",
        "    print(\"Ending: End\")\n",
        "    print(\"Trigger: 'At Beginning of your end step'\")\n",
        "\n",
        "    print(\"Ending: Cleanup\")\n",
        "\n",
        "def priority(player):\n",
        "    \"\"\"When a player can do something, eg cast spells\"\"\"\n",
        "    print(\"checking for state-based effects\")\n",
        "    input(\"Make your move!\")\n"
      ],
      "execution_count": null,
      "outputs": []
    },
    {
      "cell_type": "code",
      "metadata": {
        "colab": {
          "base_uri": "https://localhost:8080/"
        },
        "id": "WWxrANjYeFqM",
        "outputId": "a17370f0-0ec6-4208-ce5f-2654662f5aea"
      },
      "source": [
        "#TODO work with JSON files\n",
        "#BUG drawn cards are added as lists inside a list\n",
        "#BUG sorting the hand doesn't work properly \n",
        "\n",
        "import random\n",
        "\n",
        "#the decklist as dictionary (manually compiled)\n",
        "deck1 = {\n",
        "\"Esper Sentinel\":4 ,\n",
        "\"Giver of Runes\":4 ,\n",
        "\"Memnite\":4 ,\n",
        "\"Ornithopter\":4 ,\n",
        "\"Puresteel Paladin\":4 ,\n",
        "\"Stoneforge Mystic\":4 ,\n",
        "\"Steelshaper's Gift\":1 ,\n",
        "\"Colossus Hammer\":4 ,\n",
        "\"Shadowspear\":1 ,\n",
        "\"Springleaf Drum\":3 ,\n",
        "\"Sigarda's Aid\":4 ,\n",
        "\"Horizon Canopy\":2 ,\n",
        "\"Inkmoth Nexus\":4 ,\n",
        "\"Plains\":11,\n",
        "\"Silent Clearing\":2 ,\n",
        "\"Urza's Saga\":4\n",
        "}\n",
        "\n",
        "# creating and shuffling the library\n",
        "library = []\n",
        "for key in deck1:\n",
        "    for i in range(deck1[key]):\n",
        "        library.append(key)\n",
        "        #library.append(Card.where(name=key).all()) # it takes 88 s to fetch a deck of 60 cards\n",
        "    #print(deck1[i], i)\n",
        "random.shuffle(library)\n",
        "\n",
        "\"\"\"Draw function\n",
        "for now it just removes the cards from the library and returns the drawn cards.\n",
        "Maybe they should be added to hand right away, but I think some cards have conditions before being added to the hand\"\"\"\n",
        "def draw(library, number):\n",
        "    if number <= len(library):\n",
        "        drawn_cards = []\n",
        "        for i in range(number):\n",
        "            drawn_cards.append(library.pop(0))\n",
        "        return drawn_cards\n",
        "    else:\n",
        "        global gameover\n",
        "        gameover = 1\n",
        "        print(\"You tried to draw more cards than your library contains and therefore loose the game.\")\n",
        "\n",
        "\n",
        "#draw starting hand\n",
        "hand = []\n",
        "hand.append(draw(library, 7))\n",
        "\n",
        "gameover = 0\n",
        "playername = \"Alex\"\n",
        "\n",
        "while gameover == 0:\n",
        "    print(f\"{playername}´s library contains {len(library)} cards. Hand: {sorted(hand)}\") #TODO sort hand by CMC and type\n",
        "    useraction = input(\"What do you want to do? draw - d, concede - c\")\n",
        "\n",
        "    if useraction == \"c\":\n",
        "        break\n",
        "\n",
        "    if useraction == \"d\":\n",
        "        try:\n",
        "            carddraw = []\n",
        "            carddraw = draw(library, int(input(\"How many cards do you want to draw?\")))\n",
        "            hand.append(carddraw)\n",
        "            if carddraw != None:\n",
        "                print(f\"{playername} draws: {carddraw}\")\n",
        "                        \n",
        "        except ValueError:\n",
        "            print(\"Please enter an integer.\")\n",
        "\n",
        "print(\"Game ended.\")"
      ],
      "execution_count": null,
      "outputs": [
        {
          "output_type": "stream",
          "text": [
            "Alex´s library contains 53 cards. Hand: [['Stoneforge Mystic', 'Stoneforge Mystic', 'Colossus Hammer', 'Plains', 'Horizon Canopy', \"Sigarda's Aid\", 'Plains']]\n",
            "What do you want to do? draw - d, concede - cd\n",
            "How many cards do you want to draw?1\n",
            "Alex draws: ['Inkmoth Nexus']\n",
            "Alex´s library contains 52 cards. Hand: [['Inkmoth Nexus'], ['Stoneforge Mystic', 'Stoneforge Mystic', 'Colossus Hammer', 'Plains', 'Horizon Canopy', \"Sigarda's Aid\", 'Plains']]\n",
            "What do you want to do? draw - d, concede - cc\n",
            "Game ended.\n"
          ],
          "name": "stdout"
        }
      ]
    },
    {
      "cell_type": "code",
      "metadata": {
        "id": "XritpaLSFedQ"
      },
      "source": [],
      "execution_count": null,
      "outputs": []
    }
  ]
}