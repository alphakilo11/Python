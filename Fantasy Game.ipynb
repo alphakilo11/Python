{
  "cells": [
    {
      "cell_type": "markdown",
      "metadata": {
        "id": "view-in-github",
        "colab_type": "text"
      },
      "source": [
        "<a href=\"https://colab.research.google.com/github/alphakilo11/Python/blob/main/Fantasy%20Game.ipynb\" target=\"_parent\"><img src=\"https://colab.research.google.com/assets/colab-badge.svg\" alt=\"Open In Colab\"/></a>"
      ]
    },
    {
      "cell_type": "code",
      "source": [
        "# inspired by the simple Fantasy Game Inventory exercise in Al Sweigarts Book 'Automating the Boring Stuff with Python' i decided to create a Fantasy Game\n"
      ],
      "metadata": {
        "colab": {
          "base_uri": "https://localhost:8080/"
        },
        "id": "YlNtOqGdZBM2",
        "outputId": "72bf9ce7-f6f8-46b6-fa73-e819c5063e26"
      },
      "execution_count": 5,
      "outputs": [
        {
          "output_type": "stream",
          "name": "stdout",
          "text": [
            "DC:  19  - Throw: 18\n"
          ]
        }
      ]
    },
    {
      "cell_type": "code",
      "source": [
        "def displayInventory(inventory_dict):\n",
        "  leftWidth = 10\n",
        "  rightWidth = 10\n",
        "  print(\"Inventory:\")\n",
        "  total_items = 0\n",
        "  for i,k in inventory.items():\n",
        "    print(i.ljust(leftWidth), str(k).rjust(rightWidth))\n",
        "    total_items += k\n",
        "  print(\"Total number of items:\", total_items)\n",
        "\n",
        "def addToInventory(inventory, addedItems):\n",
        "    for i in addedItems:\n",
        "        if i in inventory:\n",
        "            old_value = inventory.get(i)\n",
        "            new_value = old_value + 1\n",
        "            inventory[i] = new_value\n",
        "        else:\n",
        "            inventory.setdefault(i, 1)\n",
        "    print(len(addedItems), \"items\", addedItems, \"added.\")\n",
        "    return inventory\n"
      ],
      "metadata": {
        "id": "VzNarisGm8v2"
      },
      "execution_count": 61,
      "outputs": []
    },
    {
      "cell_type": "code",
      "source": [
        "text = {\"german\": {\"main_menu_prompt\": \"Was wollen sie tun? 'i' Inventar 'e' entdecken 'q' verlassen\"}, \"english\": {\"main_menu_prompt\": \"What is your desire? 'i' Inventory 'e' explore 'q' quit\"}}"
      ],
      "metadata": {
        "id": "ZpeeKL2rpz3m"
      },
      "execution_count": 7,
      "outputs": []
    },
    {
      "cell_type": "code",
      "source": [
        "inventory = {'rope': 1, 'torch': 6, 'gold coin': 42, 'dagger': 1, 'arrow': 12}\n",
        "lang = 0\n",
        "text_actual = 0\n",
        "\n",
        "while True:\n",
        "  lang = input(\"Select language: 'e' for englisch, 'g' für Deutsch.\")\n",
        "  lang = lang.lower()\n",
        "  if lang != 'e' and lang != 'g':\n",
        "    print(\"Es sind keine andere Eingabe möglich. / No other entry possible\")\n",
        "  else:\n",
        "    if lang == \"g\":\n",
        "      text_actual = text[\"german\"]\n",
        "    if lang == \"e\":\n",
        "      text_actual = text[\"english\"]\n",
        "    break\n",
        "\n",
        "while True:\n",
        "  command = input(text_actual[\"main_menu_prompt\"])\n",
        "  break # TODO create main menu\n",
        "\n",
        "  displayInventory(inventory)\n",
        "#dragonLoot = ['gold coin', 'gold coin', 'dagger', 'gold coin', 'ruby']\n",
        "#\n",
        "#addToInventory(inventory, dragonLoot)\n",
        "#displayInventory(inventory)"
      ],
      "metadata": {
        "id": "KowwWMBlnEiP",
        "outputId": "538b4b4c-897c-4408-b807-421318e24947",
        "colab": {
          "base_uri": "https://localhost:8080/"
        }
      },
      "execution_count": 10,
      "outputs": [
        {
          "name": "stdout",
          "output_type": "stream",
          "text": [
            "Select language: 'e' for englisch, 'g' für Deutsch.g\n",
            "Was wollen sie tun? 'i' Inventar 'e' entdecken 'q' verlassenq\n"
          ]
        }
      ]
    },
    {
      "cell_type": "code",
      "source": [
        "# https://www.dndcombat.com/dndcombat/Welcome.do#\n",
        "# if Class == Light: add Dex modifier, Medium: add Dex modifier (max 2)\n",
        "categories = [\"Name\", \"Class\", \"Cost\", \"Armor Class (AC)\", \"Strength\", \"Stealth\", \"Weight\"]\n",
        "item = [\"Plate\", \"Heavy Armor\", 1500, 18, 15, \"Disadvantage\", 65]\n",
        "item_dict = {}\n",
        "for i, j in zip(categories, item):\n",
        "    item_dict.setdefault(i, j)"
      ],
      "metadata": {
        "id": "tnXi3s7OmjtY"
      },
      "execution_count": null,
      "outputs": []
    }
  ],
  "metadata": {
    "colab": {
      "collapsed_sections": [],
      "name": "Willkommen bei Colaboratory",
      "provenance": [],
      "include_colab_link": true
    },
    "kernelspec": {
      "display_name": "Python 3",
      "name": "python3"
    }
  },
  "nbformat": 4,
  "nbformat_minor": 0
}