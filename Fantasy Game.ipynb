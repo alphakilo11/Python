{
  "cells": [
    {
      "cell_type": "markdown",
      "metadata": {
        "id": "view-in-github",
        "colab_type": "text"
      },
      "source": [
        "<a href=\"https://colab.research.google.com/github/alphakilo11/Python/blob/main/Fantasy%20Game.ipynb\" target=\"_parent\"><img src=\"https://colab.research.google.com/assets/colab-badge.svg\" alt=\"Open In Colab\"/></a>"
      ]
    },
    {
      "cell_type": "code",
      "source": [
        "# inspired by the simple Fantasy Game Inventory exercise in Al Sweigarts Book 'Automating the Boring Stuff with Python' i decided to create a Fantasy Game\n",
        "\n",
        "\"\"\"\n",
        "Überlegungen\n",
        "\n",
        "Ein besonderer Faktor sollen zufällig generierte Inhalte sein.\n",
        "\n",
        "Ich bin sehr unentschlossen in Bezug auf das Kampfsystem; meine Idee wäre dieses möglichst realistisch zu gestalten, doch dazu fehlen mir die Grundlagen.\n",
        "Was bewirkt Kraft im Bezug auf einen Schwerthieb? Ist nicht Geschwindigkeit wichtiger?\n",
        "Geschicklichkeit ist vermutlich wichtig um ein Ziel mit einer Waffe zu treffen\n",
        "Verletzlichkeit hängt wohl stark mit der Anatomie zusammen; ein Regenwurm kann in der Hälfte durchtrennt werden und lebt weiter, während ein gezielter Stich bereits ausreicht um einen Menschen zu töten.\n",
        "Viele Verletzungen für nicht unmittelbar zur Kampfunfähigkeit besonders wenn die betroffenen unter Adrenalin stehen.\n",
        "\n",
        "Die Spielmechanik sollte einen gewissen Glücksfaktor enthalten um all jene Faktoren, welche nicht \"simuliert\" werden zu würdigen.\n",
        "\n",
        "Moral\n",
        "Ein leicht bewaffneter Bauer wird kaum gegen einen Ritter in Plattenrüstung kämpfen, solange er noch bei Sinnen ist.\n",
        "\n",
        "Interface\n",
        "Unabhängig von der gewählten Sprache, müssen die Steuerungstasten gleich bleiben.\n",
        "Eventuell sollten nach jeder falschen Eingabe die Auswahlmöglichkeiten neu angezeigt werden.\n",
        "\"\"\"\n",
        "\n",
        "# https://2e.aonprd.com/\n",
        "#ISSUE the input-processing is completely independent from the text dictionaries - while the input check uses the dictionaries as source. This is sub-optimal.\n",
        "# TODO englische Übersetzung\n",
        "\n"
      ],
      "metadata": {
        "id": "YlNtOqGdZBM2",
        "colab": {
          "base_uri": "https://localhost:8080/",
          "height": 112
        },
        "outputId": "7f1650bb-0da3-4040-c650-0c96c2e5c777"
      },
      "execution_count": 1,
      "outputs": [
        {
          "output_type": "execute_result",
          "data": {
            "text/plain": [
              "'\\nÜberlegungen\\n\\nEin besonderer Faktor sollen zufällig generierte Inhalte sein.\\n\\nIch bin sehr unentschlossen in Bezug auf das Kampfsystem; meine Idee wäre dieses möglichst realistisch zu gestalten, doch dazu fehlen mir die Grundlagen.\\nWas bewirkt Kraft im Bezug auf einen Schwerthieb? Ist nicht Geschwindigkeit wichtiger?\\nGeschicklichkeit ist vermutlich wichtig um ein Ziel mit einer Waffe zu treffen\\nVerletzlichkeit hängt wohl stark mit der Anatomie zusammen; ein Regenwurm kann in der Hälfte durchtrennt werden und lebt weiter, während ein gezielter Stich bereits ausreicht um einen Menschen zu töten.\\nViele Verletzungen für nicht unmittelbar zur Kampfunfähigkeit besonders wenn die betroffenen unter Adrenalin stehen.\\n\\nDie Spielmechanik sollte einen gewissen Glücksfaktor enthalten um all jene Faktoren, welche nicht \"simuliert\" werden zu würdigen.\\n\\nMoral\\nEin leicht bewaffneter Bauer wird kaum gegen einen Ritter in Plattenrüstung kämpfen, solange er noch bei Sinnen ist.\\n\\nInterface\\nUnabhängig von der gewählten Sprache, müssen die Steuerungstasten gleich bleiben.\\nEventuell sollten nach jeder falschen Eingabe die Auswahlmöglichkeiten neu angezeigt werden.\\n'"
            ],
            "application/vnd.google.colaboratory.intrinsic+json": {
              "type": "string"
            }
          },
          "metadata": {},
          "execution_count": 1
        }
      ]
    },
    {
      "cell_type": "code",
      "source": [
        "def displayInventory(inventory_dict):\n",
        "  leftWidth = 10\n",
        "  rightWidth = 10\n",
        "  print(\"Inventory:\")\n",
        "  total_items = 0\n",
        "  for i,k in inventory.items():\n",
        "    print(i.ljust(leftWidth), str(k).rjust(rightWidth))\n",
        "    total_items += k\n",
        "  print(\"Total number of items:\", total_items)\n",
        "\n",
        "def addToInventory(inventory, addedItems):\n",
        "    for i in addedItems:\n",
        "        if i in inventory:\n",
        "            old_value = inventory.get(i)\n",
        "            new_value = old_value + 1\n",
        "            inventory[i] = new_value\n",
        "        else:\n",
        "            inventory.setdefault(i, 1)\n",
        "    print(len(addedItems), \"items\", addedItems, \"added.\")\n",
        "    return inventory\n",
        "\n",
        "\"\"\" not working\n",
        "def LanguageSelect(): #TODO update \n",
        "  while True:\n",
        "    lang = input(\"Select language: 'e' for englisch, 'g' für Deutsch.\")\n",
        "    lang = lang.lower()\n",
        "    if lang != 'e' and lang != 'g':\n",
        "      print(\"Es sind keine andere Eingabe möglich. / No other entry possible\") # text_actual is not available it this time\n",
        "    else:\n",
        "      if lang == \"g\":\n",
        "        text_actual = text[\"german\"]\n",
        "      if lang == \"e\":\n",
        "        text_actual = text[\"english\"]\n",
        "      break\n",
        "\"\"\"\n",
        "# User Interface\n",
        "def UserInput(options_dict):\n",
        "  \"\"\" Displays passed descriptions and keys, gets user input and checks if user input matches the keys.\"\"\"\n",
        "# display\n",
        "  keys_lower = []\n",
        "  for description, key in options_dict.items():\n",
        "    print(key, description)\n",
        "    keys_lower.append(key.lower())\n",
        "# input and check  \n",
        "  while True:\n",
        "    eingabe = input(text[lang][\"user_input\"])\n",
        "    if eingabe.lower() in keys_lower:\n",
        "      return eingabe.lower()\n",
        "    else:\n",
        "      print(text[lang][\"input_not_available\"])\n",
        "\n",
        "def menu_main():\n",
        "  from IPython.display import clear_output\n",
        "  input(text[lang][\"press_continue\"])\n",
        "  clear_output(wait=True)\n",
        "  eingabe = UserInput(text[lang][\"main_menu_prompt\"])\n",
        "  clear_output(wait=True)\n",
        "\n",
        "  if eingabe == \"n\": # new game\n",
        "    Character = copy.deepcopy(defaultCharacter) # reset combatants\n",
        "    Hostile = copy.deepcopy(defaultHostile)\n",
        "    combat((Character, Hostile))\n",
        "\n",
        "  if eingabe == \"e\":\n",
        "    menu_settings()\n",
        "  \n",
        "  if eingabe == \"c\": #credits\n",
        "    print(text[lang][\"author\"], \"Alexander Krendl\")\n",
        "\n",
        "  if eingabe == \"b\": #quit game\n",
        "    print(text[lang][\"quit\"])\n",
        "    return\n",
        "  \n",
        "  menu_main()\n",
        "\n",
        "\n",
        "def menu_settings():\n",
        "  eingabe = UserInput(text[lang][\"settings_prompt\"])\n",
        "  if eingabe == \"s\": # show values (like dice roll results)\n",
        "    global show_values\n",
        "    if show_values:\n",
        "      show_values = False\n",
        "      print(text[lang][\"values_off\"])\n",
        "    else:\n",
        "      show_values = True\n",
        "      print(text[lang][\"values_on\"])\n",
        "    return #TODO returns to main menu - should be settings menu\n",
        "  if eingabe == \"z\":\n",
        "    return\n",
        "\n",
        "#game mechanics\n",
        "\n",
        "def rollDice():\n",
        "  import random\n",
        "  return random.randint(1,100)\n",
        "\n",
        "def attack(attacker, defender, weapon): #should I include a weapon used or make this part of the character? Looking at monsters that have fangs and talons it might be better to include that here.\n",
        "  \"\"\" calculates an attack \"\"\"\n",
        "  #TODO include modifiers\n",
        "  #TODO include damage? (or use seperate function?)\n",
        "  attackroll = rollDice() + weapon[0]\n",
        "  defendroll = rollDice()\n",
        "  if show_values:\n",
        "    print(text[lang][\"dice_roll\"], \":\", attacker[\"Stats\"][\"name\"], attackroll - weapon[0], \"+\", weapon[0], \"=\", attackroll, defender[\"Stats\"][\"name\"], defendroll)\n",
        "  if defendroll > attackroll:\n",
        "    return \"miss\"\n",
        "  else: # a tie is counted as hit (thereby favoring the attacker)\n",
        "    return \"hit\"\n",
        "\n",
        "def damage(attacker, defender, weapon):\n",
        "  defender[\"Stats\"][\"Hitpoints\"] = defender[\"Stats\"][\"Hitpoints\"] -5 # damage placeholder\n",
        "  print(defender[\"Stats\"][\"name\"], \"Hitpoints:\", defender[\"Stats\"][\"Hitpoints\"])\n",
        "\n",
        "def combat(combatants):\n",
        "  #TODO initiative\n",
        "  round = 1\n",
        "  while True:\n",
        "    \n",
        "    if round % 2 != 0:\n",
        "      attacker = combatants[0]\n",
        "      defender = combatants[1]\n",
        "    else:\n",
        "      attacker = combatants[1]\n",
        "      defender = combatants[0]\n",
        "    if attack(attacker, defender, attacker[\"Stats\"][\"active_weapon\"]) == \"hit\":\n",
        "      damage(attacker, defender, attacker[\"Stats\"][\"active_weapon\"])\n",
        "      if defender[\"Stats\"][\"Hitpoints\"] <= 0:\n",
        "        print(defender[\"Stats\"][\"name\"], text[lang][\"lost\"], \".\")\n",
        "        break\n",
        "    else:\n",
        "      print(attacker[\"Stats\"][\"name\"], text[lang][\"missed\"], defender[\"Stats\"][\"name\"])\n",
        "    round = round + 1\n"
      ],
      "metadata": {
        "id": "VzNarisGm8v2"
      },
      "execution_count": 14,
      "outputs": []
    },
    {
      "cell_type": "code",
      "source": [
        "# Gamedata\n",
        "weapons = {\"Short Sword\": [5, 3]} # At the end of the battle, you can recover half your expended ammunition by taking a minute to search the battlefield.\n",
        "text = {\n",
        "    \"german\": {\n",
        "          \"main_menu_prompt\": {\"Fortfahren [NOT IMPLEMENTED YET]\": \"f\", \"Neues Spiel starten [NOT IMPLEMENTED YET]\": \"n\", \"Spielstand laden [NOT IMPLEMENTED YET]\": \"l\", \"Einstellungen\": \"e\", \"Credits\": \"c\", \"Beenden\": \"b\"},\n",
        "         \"input_not_available\": \"Diese Eingabe ist im Moment nicht möglich.\",\n",
        "         \"user_input\": \"Bitte wählen Sie aus den oben angeführten Optionen:\",\n",
        "         \"settings_prompt\": {\"Spielmechanik-Werte anzeigen\": \"s\", \"Zurück\": \"z\"},\n",
        "         \"quit\": \"Spiel wird beendet.\",\n",
        "         \"values_off\": \"Spielmechanik-Werte werden nicht angezeigt.\",\n",
        "         \"values_on\": \"Spielmechanik-Werte werden angezeigt.\",\n",
        "         \"author\": \"Author:\",\n",
        "          \"dice_roll\": \"Alea iacta est\",\n",
        "         \"press_continue\": \"Beliebige Taste drücken um fortzusetzen\",\n",
        "         \"missed\": \"verfehlt\",\n",
        "         \"lost\": \"wurde besiegt\"\n",
        "         },\n",
        "    \"english\": {\n",
        "             \"main_menu_prompt\": \"What is your desire? 'i' Inventory 'e' explore 'q' quit\", \"input_not_available\": \"Unable to process input.\"}\n",
        "        }\n",
        "defaultCharacter = {\n",
        "\"Inventory\": {'rope': 1, 'torch': 6, 'gold coin': 42, 'dagger': 1, 'arrow': 12},\n",
        "\"Attributes\": {\"Kraft\": 10, \"Geschicklichkeit\": 10, \"Ausdauer\": 10},\n",
        "\"Stats\": {\"name\": \"Hulk\", \"Level\": 1, \"XP\": 0, \"Hitpoints\": 10, \"active_weapon\": weapons[\"Short Sword\"]},\n",
        "\"Conditions\": []}\n",
        "\n",
        "defaultHostile = {\n",
        "\"Inventory\": {'rope': 1, 'torch': 6, 'gold coin': 42, 'dagger': 1, 'arrow': 12},\n",
        "\"Attributes\": {\"Kraft\": 10, \"Geschicklichkeit\": 10, \"Ausdauer\": 10},\n",
        "\"Stats\": {\"name\": \"Skeletor\", \"Level\": 1, \"XP\": 0, \"Hitpoints\": 10, \"active_weapon\": weapons[\"Short Sword\"]},\n",
        "\"Conditions\": []}\n"
      ],
      "metadata": {
        "id": "ZpeeKL2rpz3m"
      },
      "execution_count": 9,
      "outputs": []
    },
    {
      "cell_type": "code",
      "source": [
        "# base setup\n",
        "import copy\n",
        "Character = copy.deepcopy(defaultCharacter)\n",
        "Hostile = copy.deepcopy(defaultHostile)\n",
        "lang = \"german\"\n",
        "show_values = True\n",
        "\n",
        "# main instance\n",
        "menu_main()\n"
      ],
      "metadata": {
        "id": "QRThqGn5k_FM",
        "outputId": "206f12dd-a1b3-4651-a259-6b55b1590a35",
        "colab": {
          "base_uri": "https://localhost:8080/"
        }
      },
      "execution_count": 15,
      "outputs": [
        {
          "output_type": "stream",
          "name": "stdout",
          "text": [
            "Spiel wird beendet.\n"
          ]
        }
      ]
    },
    {
      "cell_type": "code",
      "source": [
        "#displayInventory(Character[\"Inventory\"])\n",
        "#dragonLoot = ['gold coin', 'gold coin', 'dagger', 'gold coin', 'ruby']\n",
        "#\n",
        "#addToInventory(inventory, dragonLoot)\n",
        "#displayInventory(Character[\"Inventory\"])"
      ],
      "metadata": {
        "id": "yzTq1E04HI6v"
      },
      "execution_count": 5,
      "outputs": []
    },
    {
      "cell_type": "code",
      "source": [
        "# https://www.dndcombat.com/dndcombat/Welcome.do#\n",
        "# if Class == Light: add Dex modifier, Medium: add Dex modifier (max 2)\n",
        "categories = [\"Name\", \"Class\", \"Cost\", \"Armor Class (AC)\", \"Strength\", \"Stealth\", \"Weight\"]\n",
        "item = [\"Plate\", \"Heavy Armor\", 1500, 18, 15, \"Disadvantage\", 65]\n",
        "item_dict = {}\n",
        "for i, j in zip(categories, item):\n",
        "    item_dict.setdefault(i, j)"
      ],
      "metadata": {
        "id": "tnXi3s7OmjtY"
      },
      "execution_count": 6,
      "outputs": []
    },
    {
      "cell_type": "code",
      "source": [
        "defaultHostile[\"Stats\"][\"Hitpoints\"]"
      ],
      "metadata": {
        "id": "YPfwVol9sjHJ",
        "outputId": "39091798-623b-4ac5-c9b8-4e2da2552310",
        "colab": {
          "base_uri": "https://localhost:8080/"
        }
      },
      "execution_count": 10,
      "outputs": [
        {
          "output_type": "execute_result",
          "data": {
            "text/plain": [
              "10"
            ]
          },
          "metadata": {},
          "execution_count": 10
        }
      ]
    }
  ],
  "metadata": {
    "colab": {
      "collapsed_sections": [],
      "name": "Willkommen bei Colaboratory",
      "provenance": [],
      "include_colab_link": true
    },
    "kernelspec": {
      "display_name": "Python 3",
      "name": "python3"
    }
  },
  "nbformat": 4,
  "nbformat_minor": 0
}