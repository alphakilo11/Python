{
  "cells": [
    {
      "cell_type": "markdown",
      "metadata": {
        "id": "view-in-github",
        "colab_type": "text"
      },
      "source": [
        "<a href=\"https://colab.research.google.com/github/alphakilo11/Python/blob/main/Fantasy%20Game.ipynb\" target=\"_parent\"><img src=\"https://colab.research.google.com/assets/colab-badge.svg\" alt=\"Open In Colab\"/></a>"
      ]
    },
    {
      "cell_type": "code",
      "source": [
        "# inspired by the simple Fantasy Game Inventory exercise in Al Sweigarts Book 'Automating the Boring Stuff with Python' i decided to create a Fantasy Game\n",
        "\n",
        "inventory = {'rope': 1, 'torch': 6, 'gold coin': 42, 'dagger': 1, 'arrow': 12}\n",
        "\n",
        "def displayInventory(inventory_dict):\n",
        "  leftWidth = 10\n",
        "  rightWidth = 10\n",
        "  print(\"Inventory:\")\n",
        "  total_items = 0\n",
        "  for i,k in inventory.items():\n",
        "    print(i.ljust(leftWidth), str(k).rjust(rightWidth))\n",
        "    total_items += k\n",
        "  print(\"Total number of items:\", total_items)\n",
        "\n",
        "displayInventory(inventory)\n",
        "\n",
        "dragonLoot = ['gold coin', 'gold coin', 'dagger', 'gold coin', 'ruby']\n",
        "\n",
        "def addToInventory(inventory, addedItems):\n",
        "    for i in addedItems:\n",
        "        if i in inventory:\n",
        "            old_value = inventory.get(i)\n",
        "            new_value = old_value + 1\n",
        "            inventory[i] = new_value\n",
        "        else:\n",
        "            inventory.setdefault(i, 1)\n",
        "    print(len(addedItems), \"items\", addedItems, \"added.\")\n",
        "    return inventory\n",
        "\n",
        "addToInventory(inventory, dragonLoot)\n",
        "displayInventory(inventory)\n"
      ],
      "metadata": {
        "id": "YlNtOqGdZBM2",
        "outputId": "72bf9ce7-f6f8-46b6-fa73-e819c5063e26",
        "colab": {
          "base_uri": "https://localhost:8080/"
        }
      },
      "execution_count": 5,
      "outputs": [
        {
          "output_type": "stream",
          "name": "stdout",
          "text": [
            "DC:  19  - Throw: 18\n"
          ]
        }
      ]
    }
  ],
  "metadata": {
    "colab": {
      "collapsed_sections": [],
      "name": "Willkommen bei Colaboratory",
      "provenance": [],
      "include_colab_link": true
    },
    "kernelspec": {
      "display_name": "Python 3",
      "name": "python3"
    }
  },
  "nbformat": 4,
  "nbformat_minor": 0
}