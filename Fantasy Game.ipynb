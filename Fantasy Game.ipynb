{
  "cells": [
    {
      "cell_type": "markdown",
      "metadata": {
        "id": "view-in-github",
        "colab_type": "text"
      },
      "source": [
        "<a href=\"https://colab.research.google.com/github/alphakilo11/Python/blob/main/Fantasy%20Game.ipynb\" target=\"_parent\"><img src=\"https://colab.research.google.com/assets/colab-badge.svg\" alt=\"Open In Colab\"/></a>"
      ]
    },
    {
      "cell_type": "code",
      "source": [
        "# inspired by the simple Fantasy Game Inventory exercise in Al Sweigarts Book 'Automating the Boring Stuff with Python' i decided to create a Fantasy Game\n",
        "\n",
        "\"\"\"\n",
        "Überlegungen\n",
        "Ich bin sehr unentschlossen in Bezug auf das Kampfsystem; meine Idee wäre dieses möglichst realistisch zu gestalten, doch dazu fehlen mir die Grundlagen.\n",
        "Was bewirkt Kraft im Bezug auf einen Schwerthieb? Ist nicht Geschwindigkeit wichtiger?\n",
        "Geschicklichkeit ist vermutlich wichtig um ein Ziel mit einer Waffe zu treffen\n",
        "Verletzlichkeit hängt wohl stark mit der Anatomie zusammen; ein Regenwurm kann in der Hälfte durchtrennt werden und lebt weiter, während ein gezielter Stich bereits ausreicht um einen Menschen zu töten.\n",
        "Viele Verletzungen für nicht unmittelbar zur Kampfunfähigkeit besonders wenn die betroffenen unter Adrenalin stehen.\n",
        "\n",
        "Die Spielmechanik sollte einen gewissen Glücksfaktor enthalten um all jene Faktoren, welche nicht \"simuliert\" werden zu würdigen.\n",
        "\n",
        "Moral\n",
        "Ein leicht bewaffneter Bauer wird kaum gegen einen Ritter in Plattenrüstung kämpfen, solange er noch bei Sinnen ist.\n",
        "\"\"\"\n",
        "\n",
        "# https://2e.aonprd.com/\n",
        "# TODO englische Übersetzung\n",
        "\n"
      ],
      "metadata": {
        "id": "YlNtOqGdZBM2"
      },
      "execution_count": 1,
      "outputs": []
    },
    {
      "cell_type": "code",
      "source": [
        "def displayInventory(inventory_dict):\n",
        "  leftWidth = 10\n",
        "  rightWidth = 10\n",
        "  print(\"Inventory:\")\n",
        "  total_items = 0\n",
        "  for i,k in inventory.items():\n",
        "    print(i.ljust(leftWidth), str(k).rjust(rightWidth))\n",
        "    total_items += k\n",
        "  print(\"Total number of items:\", total_items)\n",
        "\n",
        "def addToInventory(inventory, addedItems):\n",
        "    for i in addedItems:\n",
        "        if i in inventory:\n",
        "            old_value = inventory.get(i)\n",
        "            new_value = old_value + 1\n",
        "            inventory[i] = new_value\n",
        "        else:\n",
        "            inventory.setdefault(i, 1)\n",
        "    print(len(addedItems), \"items\", addedItems, \"added.\")\n",
        "    return inventory\n",
        "\n",
        "def LanguageSelect():\n",
        "  while True:\n",
        "    lang = input(\"Select language: 'e' for englisch, 'g' für Deutsch.\")\n",
        "    lang = lang.lower()\n",
        "    if lang != 'e' and lang != 'g':\n",
        "      print(\"Es sind keine andere Eingabe möglich. / No other entry possible\") # text_actual is not available it this time\n",
        "    else:\n",
        "      if lang == \"g\":\n",
        "        text_actual = text[\"german\"]\n",
        "      if lang == \"e\":\n",
        "        text_actual = text[\"english\"]\n",
        "      break\n",
        "\n",
        "def UserInput(options_dict):\n",
        "  \"\"\" Displays passed descriptions and keys, gets user input and checks if user input matches the keys.\"\"\"\n",
        "# display\n",
        "  keys_lower = []\n",
        "  for description, key in options_dict.items():\n",
        "    print(key, description)\n",
        "    keys_lower.append(key.lower())\n",
        "# input and check  \n",
        "  while True:\n",
        "    eingabe = input(text_actual[\"user_input\"])\n",
        "    if eingabe.lower() in keys_lower:\n",
        "      return eingabe.lower()\n",
        "    else:\n",
        "      print(text_actual[\"input_not_available\"])\n",
        "\n",
        "def rollDice():\n",
        "  import random\n",
        "  return random.randint(1,100)"
      ],
      "metadata": {
        "id": "VzNarisGm8v2"
      },
      "execution_count": 47,
      "outputs": []
    },
    {
      "cell_type": "code",
      "source": [
        "# Gamedata\n",
        "text = {\n",
        "    \"german\": {\n",
        "          \"main_menu_prompt\": {\"Fortfahren\": \"F\", \"Neues Spiel starten\": \"N\", \"Spielstand laden\": \"L\", \"Einstellungen\": \"E\", \"Credits\": \"C\", \"Beenden\": \"B\"},\n",
        "         \"input_not_available\": \"Diese Eingabe ist im Moment nicht möglich.\",\n",
        "         \"user_input\": \"Bitte wählen Sie aus den oben angeführten Optionen:\"\n",
        "         },\n",
        "    \"english\": {\n",
        "             \"main_menu_prompt\": \"What is your desire? 'i' Inventory 'e' explore 'q' quit\", \"input_not_available\": \"Unable to process input.\"}\n",
        "        }\n",
        "defaultCharacter = {\n",
        "\"Inventory\": {'rope': 1, 'torch': 6, 'gold coin': 42, 'dagger': 1, 'arrow': 12},\n",
        "\"Attributes\": {\"Kraft\": 10, \"Geschicklichkeit\": 10, \"Ausdauer\": 10},\n",
        "\"Stats\": {\"Level\": 1, \"XP\": 0, \"Hitpoints\": 10},\n",
        "\"Conditions\": []}\n",
        "weapons = {} # At the end of the battle, you can recover half your expended ammunition by taking a minute to search the battlefield."
      ],
      "metadata": {
        "id": "ZpeeKL2rpz3m"
      },
      "execution_count": 52,
      "outputs": []
    },
    {
      "cell_type": "code",
      "source": [
        "# base setup\n",
        "Character = defaultCharacter\n",
        "lang = \"g\"\n",
        "text_actual = text[\"german\"]\n",
        "\n",
        "# main instance\n",
        "while True:\n",
        "  UserInput(text_actual[\"main_menu_prompt\"])\n",
        "#  command = input(text_actual[\"main_menu_prompt\"])\n",
        "  break # TODO create main menu\n",
        "\n",
        "  displayInventory(inventory)\n",
        "#dragonLoot = ['gold coin', 'gold coin', 'dagger', 'gold coin', 'ruby']\n",
        "#\n",
        "#addToInventory(inventory, dragonLoot)\n",
        "#displayInventory(inventory)"
      ],
      "metadata": {
        "id": "KowwWMBlnEiP",
        "outputId": "6204c9e9-5529-4fc5-e797-b57f5c4a6d95",
        "colab": {
          "base_uri": "https://localhost:8080/"
        }
      },
      "execution_count": 53,
      "outputs": [
        {
          "name": "stdout",
          "output_type": "stream",
          "text": [
            "F Fortfahren\n",
            "N Neues Spiel starten\n",
            "L Spielstand laden\n",
            "E Einstellungen\n",
            "C Credits\n",
            "B Beenden\n",
            "Bitte wählen Sie aus den oben angeführten Optionen:q\n",
            "Diese Eingabe ist im Moment nicht möglich.\n",
            "Bitte wählen Sie aus den oben angeführten Optionen:b\n"
          ]
        }
      ]
    },
    {
      "cell_type": "code",
      "source": [
        "# Encounter\n",
        "round = 1\n",
        "print()\n",
        "modifier = 10\n",
        "#attack\n",
        "# use \n",
        "while True:\n",
        "  attackroll = rollDice()\n",
        "  print(\"Attacker rolls:\", attackroll)\n",
        "  if attackroll == 20:\n",
        "    print(\"Hit\")\n",
        "  else:\n",
        "    defendroll = rollDice()\n",
        "    print(\"Defender rolls:\", defendroll)\n",
        "    if defendroll > attackroll:\n",
        "      break\n",
        "    else:\n",
        "      if defendroll == attackroll:\n",
        "        continue\n",
        "      else:\n",
        "        print(\"Hit\")\n",
        "print(\"The attack missed.\")\n"
      ],
      "metadata": {
        "colab": {
          "base_uri": "https://localhost:8080/"
        },
        "id": "zZiw_nN63hW1",
        "outputId": "44efb438-f7d1-4765-871b-cc273385aa61"
      },
      "execution_count": 50,
      "outputs": [
        {
          "output_type": "stream",
          "name": "stdout",
          "text": [
            "Attacker rolls: 78\n",
            "Defender rolls: 4\n",
            "Hit\n",
            "Attacker rolls: 51\n",
            "Defender rolls: 15\n",
            "Hit\n",
            "Attacker rolls: 54\n",
            "Defender rolls: 4\n",
            "Hit\n",
            "Attacker rolls: 40\n",
            "Defender rolls: 41\n",
            "The attack missed.\n"
          ]
        }
      ]
    },
    {
      "cell_type": "code",
      "source": [
        "# https://www.dndcombat.com/dndcombat/Welcome.do#\n",
        "# if Class == Light: add Dex modifier, Medium: add Dex modifier (max 2)\n",
        "categories = [\"Name\", \"Class\", \"Cost\", \"Armor Class (AC)\", \"Strength\", \"Stealth\", \"Weight\"]\n",
        "item = [\"Plate\", \"Heavy Armor\", 1500, 18, 15, \"Disadvantage\", 65]\n",
        "item_dict = {}\n",
        "for i, j in zip(categories, item):\n",
        "    item_dict.setdefault(i, j)"
      ],
      "metadata": {
        "id": "tnXi3s7OmjtY"
      },
      "execution_count": 5,
      "outputs": []
    }
  ],
  "metadata": {
    "colab": {
      "collapsed_sections": [],
      "name": "Willkommen bei Colaboratory",
      "provenance": [],
      "include_colab_link": true
    },
    "kernelspec": {
      "display_name": "Python 3",
      "name": "python3"
    }
  },
  "nbformat": 4,
  "nbformat_minor": 0
}